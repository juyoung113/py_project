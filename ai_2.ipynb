{
 "cells": [
  {
   "cell_type": "code",
   "execution_count": 8,
   "id": "45ab8567",
   "metadata": {},
   "outputs": [],
   "source": [
    "# 로그파일 > 정형 데이터 형식\n",
    "import re\n",
    "import csv\n",
    "\n",
    "#로그 파일 경로\n",
    "log_file_parth = 'sample_logs.log'\n",
    "output_csv_path = 'parsea_logs.csv'"
   ]
  },
  {
   "cell_type": "code",
   "execution_count": 9,
   "id": "f9e6f350",
   "metadata": {},
   "outputs": [],
   "source": [
    "# 정규 표현식 패턴 정의\n",
    "log_pattern = re.compile(\n",
    "r'(?P<ip>\\d+\\.\\d+\\.\\d+\\.\\d+)\\s' # IP 주소\n",
    " r'- - \\[(?P<datetime>[^\\]]+)\\] ' # 날짜 및 시간\n",
    " r'\"(?P<method>GET|POST|PUT|DELETE|HEAD) ' # HTTP 메서드\n",
    " r'(?P<path>[^ ]+).*?\"\\s' # 요청 경로\n",
    " r'(?P<status>\\d{3})\\s' # 상태 코드\n",
    " r'(?P<size>\\d+)' # 응답 크기\n",
    ")\n",
    "# (?P<이름>패턴) 형태는 \"이름이 있는 그룹\" 으로, 추출 결과를 딕셔너리처럼\n",
    "#groupdict()로 관리할 수 있게 해줍니다."
   ]
  },
  {
   "cell_type": "code",
   "execution_count": 13,
   "id": "697ff97e",
   "metadata": {},
   "outputs": [
    {
     "ename": "NameError",
     "evalue": "name 'log_file_path' is not defined",
     "output_type": "error",
     "traceback": [
      "\u001b[31m---------------------------------------------------------------------------\u001b[39m",
      "\u001b[31mNameError\u001b[39m                                 Traceback (most recent call last)",
      "\u001b[36mCell\u001b[39m\u001b[36m \u001b[39m\u001b[32mIn[13]\u001b[39m\u001b[32m, line 4\u001b[39m\n\u001b[32m      2\u001b[39m parsed_logs = []\n\u001b[32m      3\u001b[39m \u001b[38;5;66;03m# 로그 파일 읽기 및 정규식 적용\u001b[39;00m\n\u001b[32m----> \u001b[39m\u001b[32m4\u001b[39m \u001b[38;5;28;01mwith\u001b[39;00m \u001b[38;5;28mopen\u001b[39m(\u001b[43mlog_file_path\u001b[49m, \u001b[33m'\u001b[39m\u001b[33mr\u001b[39m\u001b[33m'\u001b[39m) \u001b[38;5;28;01mas\u001b[39;00m f:\n\u001b[32m      5\u001b[39m     \u001b[38;5;28;01mfor\u001b[39;00m line \u001b[38;5;129;01min\u001b[39;00m f:\n\u001b[32m      6\u001b[39m         match = log_pattern.search(line)\n",
      "\u001b[31mNameError\u001b[39m: name 'log_file_path' is not defined"
     ]
    }
   ],
   "source": [
    "# 파싱된 결과 저장 리스트\n",
    "parsed_logs = []\n",
    "# 로그 파일 읽기 및 정규식 적용\n",
    "with open(log_file_path, 'r') as f:\n",
    "    for line in f:\n",
    "        match = log_pattern.search(line)\n",
    "    if match:\n",
    "        parsed_logs.append(match.groupdict()) # "
   ]
  },
  {
   "cell_type": "code",
   "execution_count": 14,
   "id": "9f902b6d",
   "metadata": {},
   "outputs": [
    {
     "name": "stdout",
     "output_type": "stream",
     "text": [
      "보안 로그가 CSV로 저장되었습니다: parsea_logs.csv\n"
     ]
    }
   ],
   "source": [
    "# CSV로 저장\n",
    "with open(output_csv_path, 'w', newline='') as csvfile:\n",
    "    fieldnames = ['ip', 'datetime', 'method', 'path', 'status', 'size']\n",
    "    writer = csv.DictWriter(csvfile, fieldnames=fieldnames)\n",
    "    writer.writeheader()\n",
    "    for entry in parsed_logs:\n",
    "        writer.writerow(entry)\n",
    "print(\"보안 로그가 CSV로 저장되었습니다:\", output_csv_path)"
   ]
  },
  {
   "cell_type": "code",
   "execution_count": null,
   "metadata": {},
   "outputs": [],
   "source": [
    "# 서울이에 위치한 스타벅스 데이터\n",
    "import pandas as pd"
   ]
  },
  {
   "cell_type": "code",
   "execution_count": 18,
   "id": "d8e3cd52",
   "metadata": {},
   "outputs": [
    {
     "name": "stderr",
     "output_type": "stream",
     "text": [
      "C:\\Users\\User\\AppData\\Local\\Temp\\ipykernel_19560\\1187892113.py:1: DtypeWarning: Columns (11,39,44,45) have mixed types. Specify dtype option on import or set low_memory=False.\n",
      "  data = pd.read_csv('fulldata_.csv',encoding='cp949')\n"
     ]
    }
   ],
   "source": [
    "data = pd.read_csv('fulldata_.csv',encoding='cp949')"
   ]
  },
  {
   "cell_type": "code",
   "execution_count": 19,
   "id": "0fb21988",
   "metadata": {},
   "outputs": [
    {
     "data": {
      "text/html": [
       "<div>\n",
       "<style scoped>\n",
       "    .dataframe tbody tr th:only-of-type {\n",
       "        vertical-align: middle;\n",
       "    }\n",
       "\n",
       "    .dataframe tbody tr th {\n",
       "        vertical-align: top;\n",
       "    }\n",
       "\n",
       "    .dataframe thead th {\n",
       "        text-align: right;\n",
       "    }\n",
       "</style>\n",
       "<table border=\"1\" class=\"dataframe\">\n",
       "  <thead>\n",
       "    <tr style=\"text-align: right;\">\n",
       "      <th></th>\n",
       "      <th>번호</th>\n",
       "      <th>개방서비스명</th>\n",
       "      <th>개방서비스아이디</th>\n",
       "      <th>개방자치단체코드</th>\n",
       "      <th>관리번호</th>\n",
       "      <th>인허가일자</th>\n",
       "      <th>인허가취소일자</th>\n",
       "      <th>영업상태구분코드</th>\n",
       "      <th>영업상태명</th>\n",
       "      <th>상세영업상태코드</th>\n",
       "      <th>...</th>\n",
       "      <th>공장생산직직원수</th>\n",
       "      <th>건물소유구분명</th>\n",
       "      <th>보증액</th>\n",
       "      <th>월세액</th>\n",
       "      <th>다중이용업소여부</th>\n",
       "      <th>시설총규모</th>\n",
       "      <th>전통업소지정번호</th>\n",
       "      <th>전통업소주된음식</th>\n",
       "      <th>홈페이지</th>\n",
       "      <th>Unnamed: 47</th>\n",
       "    </tr>\n",
       "  </thead>\n",
       "  <tbody>\n",
       "    <tr>\n",
       "      <th>0</th>\n",
       "      <td>1</td>\n",
       "      <td>휴게음식점</td>\n",
       "      <td>07_24_05_P</td>\n",
       "      <td>3490000</td>\n",
       "      <td>3490000-104-2024-00154</td>\n",
       "      <td>2024-12-02</td>\n",
       "      <td>NaN</td>\n",
       "      <td>3</td>\n",
       "      <td>폐업</td>\n",
       "      <td>2</td>\n",
       "      <td>...</td>\n",
       "      <td>0.0</td>\n",
       "      <td>NaN</td>\n",
       "      <td>0.0</td>\n",
       "      <td>0.0</td>\n",
       "      <td>N</td>\n",
       "      <td>0.00</td>\n",
       "      <td>NaN</td>\n",
       "      <td>NaN</td>\n",
       "      <td>NaN</td>\n",
       "      <td>NaN</td>\n",
       "    </tr>\n",
       "    <tr>\n",
       "      <th>1</th>\n",
       "      <td>2</td>\n",
       "      <td>휴게음식점</td>\n",
       "      <td>07_24_05_P</td>\n",
       "      <td>3170000</td>\n",
       "      <td>3170000-104-2025-00001</td>\n",
       "      <td>2025-01-06</td>\n",
       "      <td>NaN</td>\n",
       "      <td>3</td>\n",
       "      <td>폐업</td>\n",
       "      <td>2</td>\n",
       "      <td>...</td>\n",
       "      <td>0.0</td>\n",
       "      <td>NaN</td>\n",
       "      <td>0.0</td>\n",
       "      <td>0.0</td>\n",
       "      <td>N</td>\n",
       "      <td>74.25</td>\n",
       "      <td>NaN</td>\n",
       "      <td>NaN</td>\n",
       "      <td>NaN</td>\n",
       "      <td>NaN</td>\n",
       "    </tr>\n",
       "    <tr>\n",
       "      <th>2</th>\n",
       "      <td>3</td>\n",
       "      <td>휴게음식점</td>\n",
       "      <td>07_24_05_P</td>\n",
       "      <td>3410000</td>\n",
       "      <td>3410000-104-2025-00021</td>\n",
       "      <td>2025-01-21</td>\n",
       "      <td>NaN</td>\n",
       "      <td>3</td>\n",
       "      <td>폐업</td>\n",
       "      <td>2</td>\n",
       "      <td>...</td>\n",
       "      <td>0.0</td>\n",
       "      <td>NaN</td>\n",
       "      <td>0.0</td>\n",
       "      <td>0.0</td>\n",
       "      <td>N</td>\n",
       "      <td>0.00</td>\n",
       "      <td>NaN</td>\n",
       "      <td>NaN</td>\n",
       "      <td>NaN</td>\n",
       "      <td>NaN</td>\n",
       "    </tr>\n",
       "    <tr>\n",
       "      <th>3</th>\n",
       "      <td>4</td>\n",
       "      <td>휴게음식점</td>\n",
       "      <td>07_24_05_P</td>\n",
       "      <td>4040000</td>\n",
       "      <td>4040000-104-2025-00011</td>\n",
       "      <td>2025-01-21</td>\n",
       "      <td>NaN</td>\n",
       "      <td>3</td>\n",
       "      <td>폐업</td>\n",
       "      <td>2</td>\n",
       "      <td>...</td>\n",
       "      <td>0.0</td>\n",
       "      <td>NaN</td>\n",
       "      <td>0.0</td>\n",
       "      <td>0.0</td>\n",
       "      <td>N</td>\n",
       "      <td>0.00</td>\n",
       "      <td>NaN</td>\n",
       "      <td>NaN</td>\n",
       "      <td>NaN</td>\n",
       "      <td>NaN</td>\n",
       "    </tr>\n",
       "    <tr>\n",
       "      <th>4</th>\n",
       "      <td>5</td>\n",
       "      <td>휴게음식점</td>\n",
       "      <td>07_24_05_P</td>\n",
       "      <td>4040000</td>\n",
       "      <td>4040000-104-2025-00010</td>\n",
       "      <td>2025-01-21</td>\n",
       "      <td>NaN</td>\n",
       "      <td>3</td>\n",
       "      <td>폐업</td>\n",
       "      <td>2</td>\n",
       "      <td>...</td>\n",
       "      <td>0.0</td>\n",
       "      <td>NaN</td>\n",
       "      <td>0.0</td>\n",
       "      <td>0.0</td>\n",
       "      <td>N</td>\n",
       "      <td>0.00</td>\n",
       "      <td>NaN</td>\n",
       "      <td>NaN</td>\n",
       "      <td>NaN</td>\n",
       "      <td>NaN</td>\n",
       "    </tr>\n",
       "  </tbody>\n",
       "</table>\n",
       "<p>5 rows × 48 columns</p>\n",
       "</div>"
      ],
      "text/plain": [
       "   번호 개방서비스명    개방서비스아이디  개방자치단체코드                    관리번호       인허가일자  \\\n",
       "0   1  휴게음식점  07_24_05_P   3490000  3490000-104-2024-00154  2024-12-02   \n",
       "1   2  휴게음식점  07_24_05_P   3170000  3170000-104-2025-00001  2025-01-06   \n",
       "2   3  휴게음식점  07_24_05_P   3410000  3410000-104-2025-00021  2025-01-21   \n",
       "3   4  휴게음식점  07_24_05_P   4040000  4040000-104-2025-00011  2025-01-21   \n",
       "4   5  휴게음식점  07_24_05_P   4040000  4040000-104-2025-00010  2025-01-21   \n",
       "\n",
       "   인허가취소일자  영업상태구분코드 영업상태명  상세영업상태코드  ... 공장생산직직원수 건물소유구분명  보증액  월세액  \\\n",
       "0      NaN         3    폐업         2  ...      0.0     NaN  0.0  0.0   \n",
       "1      NaN         3    폐업         2  ...      0.0     NaN  0.0  0.0   \n",
       "2      NaN         3    폐업         2  ...      0.0     NaN  0.0  0.0   \n",
       "3      NaN         3    폐업         2  ...      0.0     NaN  0.0  0.0   \n",
       "4      NaN         3    폐업         2  ...      0.0     NaN  0.0  0.0   \n",
       "\n",
       "   다중이용업소여부  시설총규모  전통업소지정번호 전통업소주된음식 홈페이지 Unnamed: 47  \n",
       "0         N   0.00       NaN      NaN  NaN         NaN  \n",
       "1         N  74.25       NaN      NaN  NaN         NaN  \n",
       "2         N   0.00       NaN      NaN  NaN         NaN  \n",
       "3         N   0.00       NaN      NaN  NaN         NaN  \n",
       "4         N   0.00       NaN      NaN  NaN         NaN  \n",
       "\n",
       "[5 rows x 48 columns]"
      ]
     },
     "execution_count": 19,
     "metadata": {},
     "output_type": "execute_result"
    }
   ],
   "source": [
    "data.head(5)"
   ]
  },
  {
   "cell_type": "code",
   "execution_count": 21,
   "id": "5d7d92bc",
   "metadata": {},
   "outputs": [
    {
     "data": {
      "text/html": [
       "<div>\n",
       "<style scoped>\n",
       "    .dataframe tbody tr th:only-of-type {\n",
       "        vertical-align: middle;\n",
       "    }\n",
       "\n",
       "    .dataframe tbody tr th {\n",
       "        vertical-align: top;\n",
       "    }\n",
       "\n",
       "    .dataframe thead th {\n",
       "        text-align: right;\n",
       "    }\n",
       "</style>\n",
       "<table border=\"1\" class=\"dataframe\">\n",
       "  <thead>\n",
       "    <tr style=\"text-align: right;\">\n",
       "      <th></th>\n",
       "      <th>번호</th>\n",
       "      <th>개방서비스명</th>\n",
       "      <th>개방서비스아이디</th>\n",
       "      <th>개방자치단체코드</th>\n",
       "      <th>관리번호</th>\n",
       "      <th>인허가일자</th>\n",
       "      <th>인허가취소일자</th>\n",
       "      <th>영업상태구분코드</th>\n",
       "      <th>영업상태명</th>\n",
       "      <th>상세영업상태코드</th>\n",
       "      <th>...</th>\n",
       "      <th>공장생산직직원수</th>\n",
       "      <th>건물소유구분명</th>\n",
       "      <th>보증액</th>\n",
       "      <th>월세액</th>\n",
       "      <th>다중이용업소여부</th>\n",
       "      <th>시설총규모</th>\n",
       "      <th>전통업소지정번호</th>\n",
       "      <th>전통업소주된음식</th>\n",
       "      <th>홈페이지</th>\n",
       "      <th>Unnamed: 47</th>\n",
       "    </tr>\n",
       "  </thead>\n",
       "  <tbody>\n",
       "    <tr>\n",
       "      <th>602902</th>\n",
       "      <td>602903</td>\n",
       "      <td>휴게음식점</td>\n",
       "      <td>07_24_05_P</td>\n",
       "      <td>3610000</td>\n",
       "      <td>3610000-104-2018-00018</td>\n",
       "      <td>2018-03-14</td>\n",
       "      <td>NaN</td>\n",
       "      <td>1</td>\n",
       "      <td>영업/정상</td>\n",
       "      <td>1</td>\n",
       "      <td>...</td>\n",
       "      <td>NaN</td>\n",
       "      <td>NaN</td>\n",
       "      <td>NaN</td>\n",
       "      <td>NaN</td>\n",
       "      <td>N</td>\n",
       "      <td>3.30</td>\n",
       "      <td>NaN</td>\n",
       "      <td>NaN</td>\n",
       "      <td>NaN</td>\n",
       "      <td>NaN</td>\n",
       "    </tr>\n",
       "    <tr>\n",
       "      <th>602903</th>\n",
       "      <td>602904</td>\n",
       "      <td>휴게음식점</td>\n",
       "      <td>07_24_05_P</td>\n",
       "      <td>3610000</td>\n",
       "      <td>3610000-104-2018-00027</td>\n",
       "      <td>2018-04-10</td>\n",
       "      <td>NaN</td>\n",
       "      <td>1</td>\n",
       "      <td>영업/정상</td>\n",
       "      <td>1</td>\n",
       "      <td>...</td>\n",
       "      <td>NaN</td>\n",
       "      <td>NaN</td>\n",
       "      <td>NaN</td>\n",
       "      <td>NaN</td>\n",
       "      <td>N</td>\n",
       "      <td>56.10</td>\n",
       "      <td>NaN</td>\n",
       "      <td>NaN</td>\n",
       "      <td>NaN</td>\n",
       "      <td>NaN</td>\n",
       "    </tr>\n",
       "    <tr>\n",
       "      <th>602904</th>\n",
       "      <td>602905</td>\n",
       "      <td>휴게음식점</td>\n",
       "      <td>07_24_05_P</td>\n",
       "      <td>3610000</td>\n",
       "      <td>3610000-104-2018-00031</td>\n",
       "      <td>2018-04-19</td>\n",
       "      <td>NaN</td>\n",
       "      <td>1</td>\n",
       "      <td>영업/정상</td>\n",
       "      <td>1</td>\n",
       "      <td>...</td>\n",
       "      <td>NaN</td>\n",
       "      <td>NaN</td>\n",
       "      <td>NaN</td>\n",
       "      <td>NaN</td>\n",
       "      <td>N</td>\n",
       "      <td>16.00</td>\n",
       "      <td>NaN</td>\n",
       "      <td>NaN</td>\n",
       "      <td>NaN</td>\n",
       "      <td>NaN</td>\n",
       "    </tr>\n",
       "    <tr>\n",
       "      <th>602905</th>\n",
       "      <td>602906</td>\n",
       "      <td>휴게음식점</td>\n",
       "      <td>07_24_05_P</td>\n",
       "      <td>3610000</td>\n",
       "      <td>3610000-104-2017-00085</td>\n",
       "      <td>2017-12-18</td>\n",
       "      <td>NaN</td>\n",
       "      <td>1</td>\n",
       "      <td>영업/정상</td>\n",
       "      <td>1</td>\n",
       "      <td>...</td>\n",
       "      <td>NaN</td>\n",
       "      <td>NaN</td>\n",
       "      <td>NaN</td>\n",
       "      <td>NaN</td>\n",
       "      <td>N</td>\n",
       "      <td>12.00</td>\n",
       "      <td>NaN</td>\n",
       "      <td>NaN</td>\n",
       "      <td>NaN</td>\n",
       "      <td>NaN</td>\n",
       "    </tr>\n",
       "    <tr>\n",
       "      <th>602906</th>\n",
       "      <td>602907</td>\n",
       "      <td>휴게음식점</td>\n",
       "      <td>07_24_05_P</td>\n",
       "      <td>3600000</td>\n",
       "      <td>3600000-104-2010-00022</td>\n",
       "      <td>2010-03-16</td>\n",
       "      <td>NaN</td>\n",
       "      <td>1</td>\n",
       "      <td>영업/정상</td>\n",
       "      <td>1</td>\n",
       "      <td>...</td>\n",
       "      <td>NaN</td>\n",
       "      <td>NaN</td>\n",
       "      <td>NaN</td>\n",
       "      <td>NaN</td>\n",
       "      <td>N</td>\n",
       "      <td>8.22</td>\n",
       "      <td>NaN</td>\n",
       "      <td>NaN</td>\n",
       "      <td>NaN</td>\n",
       "      <td>NaN</td>\n",
       "    </tr>\n",
       "  </tbody>\n",
       "</table>\n",
       "<p>5 rows × 48 columns</p>\n",
       "</div>"
      ],
      "text/plain": [
       "            번호 개방서비스명    개방서비스아이디  개방자치단체코드                    관리번호  \\\n",
       "602902  602903  휴게음식점  07_24_05_P   3610000  3610000-104-2018-00018   \n",
       "602903  602904  휴게음식점  07_24_05_P   3610000  3610000-104-2018-00027   \n",
       "602904  602905  휴게음식점  07_24_05_P   3610000  3610000-104-2018-00031   \n",
       "602905  602906  휴게음식점  07_24_05_P   3610000  3610000-104-2017-00085   \n",
       "602906  602907  휴게음식점  07_24_05_P   3600000  3600000-104-2010-00022   \n",
       "\n",
       "             인허가일자  인허가취소일자  영업상태구분코드  영업상태명  상세영업상태코드  ... 공장생산직직원수 건물소유구분명  \\\n",
       "602902  2018-03-14      NaN         1  영업/정상         1  ...      NaN     NaN   \n",
       "602903  2018-04-10      NaN         1  영업/정상         1  ...      NaN     NaN   \n",
       "602904  2018-04-19      NaN         1  영업/정상         1  ...      NaN     NaN   \n",
       "602905  2017-12-18      NaN         1  영업/정상         1  ...      NaN     NaN   \n",
       "602906  2010-03-16      NaN         1  영업/정상         1  ...      NaN     NaN   \n",
       "\n",
       "        보증액  월세액  다중이용업소여부  시설총규모  전통업소지정번호 전통업소주된음식 홈페이지 Unnamed: 47  \n",
       "602902  NaN  NaN         N   3.30       NaN      NaN  NaN         NaN  \n",
       "602903  NaN  NaN         N  56.10       NaN      NaN  NaN         NaN  \n",
       "602904  NaN  NaN         N  16.00       NaN      NaN  NaN         NaN  \n",
       "602905  NaN  NaN         N  12.00       NaN      NaN  NaN         NaN  \n",
       "602906  NaN  NaN         N   8.22       NaN      NaN  NaN         NaN  \n",
       "\n",
       "[5 rows x 48 columns]"
      ]
     },
     "execution_count": 21,
     "metadata": {},
     "output_type": "execute_result"
    }
   ],
   "source": [
    "data.tail(5)"
   ]
  },
  {
   "cell_type": "code",
   "execution_count": 23,
   "id": "6778c6cb",
   "metadata": {},
   "outputs": [
    {
     "name": "stdout",
     "output_type": "stream",
     "text": [
      "<class 'pandas.core.frame.DataFrame'>\n",
      "RangeIndex: 602907 entries, 0 to 602906\n",
      "Data columns (total 48 columns):\n",
      " #   Column           Non-Null Count   Dtype  \n",
      "---  ------           --------------   -----  \n",
      " 0   번호               602907 non-null  int64  \n",
      " 1   개방서비스명           602907 non-null  object \n",
      " 2   개방서비스아이디         602907 non-null  object \n",
      " 3   개방자치단체코드         602907 non-null  int64  \n",
      " 4   관리번호             602907 non-null  object \n",
      " 5   인허가일자            602888 non-null  object \n",
      " 6   인허가취소일자          0 non-null       float64\n",
      " 7   영업상태구분코드         602907 non-null  int64  \n",
      " 8   영업상태명            602907 non-null  object \n",
      " 9   상세영업상태코드         602907 non-null  int64  \n",
      " 10  상세영업상태명          602907 non-null  object \n",
      " 11  폐업일자             402497 non-null  object \n",
      " 12  휴업시작일자           0 non-null       float64\n",
      " 13  휴업종료일자           0 non-null       float64\n",
      " 14  재개업일자            0 non-null       float64\n",
      " 15  소재지전화            250307 non-null  object \n",
      " 16  소재지면적            553700 non-null  float64\n",
      " 17  소재지우편번호          538491 non-null  object \n",
      " 18  소재지전체주소          601073 non-null  object \n",
      " 19  도로명전체주소          459407 non-null  object \n",
      " 20  도로명우편번호          449585 non-null  float64\n",
      " 21  사업장명             602907 non-null  object \n",
      " 22  최종수정시점           602907 non-null  object \n",
      " 23  데이터갱신구분          602907 non-null  object \n",
      " 24  데이터갱신일자          602907 non-null  object \n",
      " 25  업태구분명            602890 non-null  object \n",
      " 26  좌표정보x(epsg5174)  577987 non-null  float64\n",
      " 27  좌표정보y(epsg5174)  577987 non-null  float64\n",
      " 28  위생업태명            601002 non-null  object \n",
      " 29  남성종사자수           371708 non-null  float64\n",
      " 30  여성종사자수           375403 non-null  float64\n",
      " 31  영업장주변구분명         145365 non-null  object \n",
      " 32  등급구분명            70829 non-null   object \n",
      " 33  급수시설구분명          332854 non-null  object \n",
      " 34  총직원수             260166 non-null  float64\n",
      " 35  본사직원수            264440 non-null  float64\n",
      " 36  공장사무직직원수         264440 non-null  float64\n",
      " 37  공장판매직직원수         264440 non-null  float64\n",
      " 38  공장생산직직원수         264440 non-null  float64\n",
      " 39  건물소유구분명          16 non-null      object \n",
      " 40  보증액              264440 non-null  float64\n",
      " 41  월세액              264440 non-null  float64\n",
      " 42  다중이용업소여부         601019 non-null  object \n",
      " 43  시설총규모            601019 non-null  float64\n",
      " 44  전통업소지정번호         725 non-null     object \n",
      " 45  전통업소주된음식         7 non-null       object \n",
      " 46  홈페이지             0 non-null       float64\n",
      " 47  Unnamed: 47      0 non-null       float64\n",
      "dtypes: float64(20), int64(4), object(24)\n",
      "memory usage: 220.8+ MB\n"
     ]
    }
   ],
   "source": [
    "data.info()"
   ]
  },
  {
   "cell_type": "code",
   "execution_count": 32,
   "id": "1ce34093",
   "metadata": {},
   "outputs": [
    {
     "data": {
      "text/plain": [
       "Index(['번호', '개방서비스명', '개방서비스아이디', '개방자치단체코드', '관리번호', '인허가일자', '인허가취소일자',\n",
       "       '영업상태구분코드', '영업상태명', '상세영업상태코드', '상세영업상태명', '폐업일자', '휴업시작일자', '휴업종료일자',\n",
       "       '재개업일자', '소재지전화', '소재지면적', '소재지우편번호', '소재지전체주소', '도로명전체주소', '도로명우편번호',\n",
       "       '사업장명', '최종수정시점', '데이터갱신구분', '데이터갱신일자', '업태구분명', '좌표정보x(epsg5174)',\n",
       "       '좌표정보y(epsg5174)', '위생업태명', '남성종사자수', '여성종사자수', '영업장주변구분명', '등급구분명',\n",
       "       '급수시설구분명', '총직원수', '본사직원수', '공장사무직직원수', '공장판매직직원수', '공장생산직직원수',\n",
       "       '건물소유구분명', '보증액', '월세액', '다중이용업소여부', '시설총규모', '전통업소지정번호', '전통업소주된음식',\n",
       "       '홈페이지', 'Unnamed: 47'],\n",
       "      dtype='object')"
      ]
     },
     "execution_count": 32,
     "metadata": {},
     "output_type": "execute_result"
    }
   ],
   "source": [
    "data.columns"
   ]
  },
  {
   "cell_type": "code",
   "execution_count": 27,
   "id": "cca83a82",
   "metadata": {},
   "outputs": [
    {
     "data": {
      "text/plain": [
       "(602907, 48)"
      ]
     },
     "execution_count": 27,
     "metadata": {},
     "output_type": "execute_result"
    }
   ],
   "source": [
    "data.shape"
   ]
  },
  {
   "cell_type": "code",
   "execution_count": 35,
   "id": "70421a2f",
   "metadata": {},
   "outputs": [
    {
     "name": "stdout",
     "output_type": "stream",
     "text": [
      "['번호', '개방서비스명', '개방서비스아이디', '개방자치단체코드', '관리번호', '인허가일자', '인허가취소일자', '영업상태구분코드', '영업상태명', '상세영업상태코드', '상세영업상태명', '폐업일자', '휴업시작일자', '휴업종료일자', '재개업일자', '소재지전화', '소재지면적', '소재지우편번호', '소재지전체주소', '도로명전체주소', '도로명우편번호', '사업장명', '최종수정시점', '데이터갱신구분', '데이터갱신일자', '업태구분명', '좌표정보x(epsg5174)', '좌표정보y(epsg5174)', '위생업태명', '남성종사자수', '여성종사자수', '영업장주변구분명', '등급구분명', '급수시설구분명', '총직원수', '본사직원수', '공장사무직직원수', '공장판매직직원수', '공장생산직직원수', '건물소유구분명', '보증액', '월세액', '다중이용업소여부', '시설총규모', '전통업소지정번호', '전통업소주된음식', '홈페이지', 'Unnamed: 47']\n",
      "['번호' '개방서비스명' '개방서비스아이디' '개방자치단체코드' '관리번호' '인허가일자' '인허가취소일자' '영업상태구분코드'\n",
      " '영업상태명' '상세영업상태코드' '상세영업상태명' '폐업일자' '휴업시작일자' '휴업종료일자' '재개업일자' '소재지전화'\n",
      " '소재지면적' '소재지우편번호' '소재지전체주소' '도로명전체주소' '도로명우편번호' '사업장명' '최종수정시점' '데이터갱신구분'\n",
      " '데이터갱신일자' '업태구분명' '좌표정보x(epsg5174)' '좌표정보y(epsg5174)' '위생업태명' '남성종사자수'\n",
      " '여성종사자수' '영업장주변구분명' '등급구분명' '급수시설구분명' '총직원수' '본사직원수' '공장사무직직원수'\n",
      " '공장판매직직원수' '공장생산직직원수' '건물소유구분명' '보증액' '월세액' '다중이용업소여부' '시설총규모' '전통업소지정번호'\n",
      " '전통업소주된음식' '홈페이지' 'Unnamed: 47']\n"
     ]
    }
   ],
   "source": [
    "print(data.columns.tolist())\n",
    "print(data.columns.values)"
   ]
  },
  {
   "cell_type": "code",
   "execution_count": 38,
   "id": "99574680",
   "metadata": {},
   "outputs": [],
   "source": [
    "data_1 = data[['번호']]"
   ]
  },
  {
   "cell_type": "code",
   "execution_count": 44,
   "id": "121b3ea8",
   "metadata": {},
   "outputs": [],
   "source": [
    "data_1 = data[['번호','영업상태명','영업상태구분코드','사업장명','소재지전체주소','도로명전체주소']]"
   ]
  },
  {
   "cell_type": "code",
   "execution_count": 47,
   "id": "ba6c026c",
   "metadata": {},
   "outputs": [
    {
     "data": {
      "text/html": [
       "<div>\n",
       "<style scoped>\n",
       "    .dataframe tbody tr th:only-of-type {\n",
       "        vertical-align: middle;\n",
       "    }\n",
       "\n",
       "    .dataframe tbody tr th {\n",
       "        vertical-align: top;\n",
       "    }\n",
       "\n",
       "    .dataframe thead th {\n",
       "        text-align: right;\n",
       "    }\n",
       "</style>\n",
       "<table border=\"1\" class=\"dataframe\">\n",
       "  <thead>\n",
       "    <tr style=\"text-align: right;\">\n",
       "      <th></th>\n",
       "      <th>번호</th>\n",
       "      <th>영업상태명</th>\n",
       "      <th>영업상태구분코드</th>\n",
       "      <th>사업장명</th>\n",
       "      <th>소재지전체주소</th>\n",
       "      <th>도로명전체주소</th>\n",
       "    </tr>\n",
       "  </thead>\n",
       "  <tbody>\n",
       "    <tr>\n",
       "      <th>0</th>\n",
       "      <td>1</td>\n",
       "      <td>폐업</td>\n",
       "      <td>3</td>\n",
       "      <td>팥붕슈붕</td>\n",
       "      <td>인천광역시 중구 운서동 2874 파라다이스시티 플라자 1층</td>\n",
       "      <td>인천광역시 중구 영종해안남로321번길 186, 파라다이스시티 플라자 1층 (운서동)</td>\n",
       "    </tr>\n",
       "    <tr>\n",
       "      <th>1</th>\n",
       "      <td>2</td>\n",
       "      <td>폐업</td>\n",
       "      <td>3</td>\n",
       "      <td>헤이븐(haven)</td>\n",
       "      <td>서울특별시 금천구 가산동 345-2</td>\n",
       "      <td>서울특별시 금천구 가산디지털1로 100, 1층 117호 (가산동)</td>\n",
       "    </tr>\n",
       "    <tr>\n",
       "      <th>2</th>\n",
       "      <td>3</td>\n",
       "      <td>폐업</td>\n",
       "      <td>3</td>\n",
       "      <td>리은푸드</td>\n",
       "      <td>대구광역시 중구 계산동2가 0200 현대백화점 지하1층</td>\n",
       "      <td>대구광역시 중구 달구벌대로 2077, 현대백화점 지하1층 (계산동2가)</td>\n",
       "    </tr>\n",
       "    <tr>\n",
       "      <th>3</th>\n",
       "      <td>4</td>\n",
       "      <td>폐업</td>\n",
       "      <td>3</td>\n",
       "      <td>(주)파파밸리</td>\n",
       "      <td>경기도 하남시 신장동 616 스타필드 하남</td>\n",
       "      <td>경기도 하남시 미사대로 750, 신세계백화점 스타필드 하남 지하1층 (신장동)</td>\n",
       "    </tr>\n",
       "    <tr>\n",
       "      <th>4</th>\n",
       "      <td>5</td>\n",
       "      <td>폐업</td>\n",
       "      <td>3</td>\n",
       "      <td>이안만두</td>\n",
       "      <td>경기도 하남시 신장동 616 스타필드 하남</td>\n",
       "      <td>경기도 하남시 미사대로 750, 스타필드 하남 신세계백화점 지하2층 일부호 (신장동)</td>\n",
       "    </tr>\n",
       "  </tbody>\n",
       "</table>\n",
       "</div>"
      ],
      "text/plain": [
       "   번호 영업상태명  영업상태구분코드        사업장명                           소재지전체주소  \\\n",
       "0   1    폐업         3        팥붕슈붕  인천광역시 중구 운서동 2874 파라다이스시티 플라자 1층   \n",
       "1   2    폐업         3  헤이븐(haven)               서울특별시 금천구 가산동 345-2   \n",
       "2   3    폐업         3        리은푸드    대구광역시 중구 계산동2가 0200 현대백화점 지하1층   \n",
       "3   4    폐업         3     (주)파파밸리           경기도 하남시 신장동 616 스타필드 하남   \n",
       "4   5    폐업         3        이안만두           경기도 하남시 신장동 616 스타필드 하남   \n",
       "\n",
       "                                           도로명전체주소  \n",
       "0   인천광역시 중구 영종해안남로321번길 186, 파라다이스시티 플라자 1층 (운서동)  \n",
       "1             서울특별시 금천구 가산디지털1로 100, 1층 117호 (가산동)  \n",
       "2          대구광역시 중구 달구벌대로 2077, 현대백화점 지하1층 (계산동2가)  \n",
       "3      경기도 하남시 미사대로 750, 신세계백화점 스타필드 하남 지하1층 (신장동)  \n",
       "4  경기도 하남시 미사대로 750, 스타필드 하남 신세계백화점 지하2층 일부호 (신장동)  "
      ]
     },
     "execution_count": 47,
     "metadata": {},
     "output_type": "execute_result"
    }
   ],
   "source": [
    "data_1.head()"
   ]
  },
  {
   "cell_type": "code",
   "execution_count": 49,
   "id": "b4108b11",
   "metadata": {},
   "outputs": [],
   "source": [
    "# 소재지 기준으로 값이 na인 행을 삭제\n",
    "data_1=data_1.dropna(subset=['소재지전체주소'])"
   ]
  },
  {
   "cell_type": "code",
   "execution_count": 50,
   "id": "3bb1294a",
   "metadata": {},
   "outputs": [
    {
     "name": "stdout",
     "output_type": "stream",
     "text": [
      "<class 'pandas.core.frame.DataFrame'>\n",
      "Index: 601073 entries, 0 to 602906\n",
      "Data columns (total 6 columns):\n",
      " #   Column    Non-Null Count   Dtype \n",
      "---  ------    --------------   ----- \n",
      " 0   번호        601073 non-null  int64 \n",
      " 1   영업상태명     601073 non-null  object\n",
      " 2   영업상태구분코드  601073 non-null  int64 \n",
      " 3   사업장명      601073 non-null  object\n",
      " 4   소재지전체주소   601073 non-null  object\n",
      " 5   도로명전체주소   457573 non-null  object\n",
      "dtypes: int64(2), object(4)\n",
      "memory usage: 32.1+ MB\n"
     ]
    }
   ],
   "source": [
    "data_1.info()"
   ]
  },
  {
   "cell_type": "code",
   "execution_count": 52,
   "id": "c7d8ddd4",
   "metadata": {},
   "outputs": [],
   "source": [
    "data_2 = data_1[data_1['소재지전체주소'].str.contains('서울특별시')]"
   ]
  },
  {
   "cell_type": "code",
   "execution_count": 55,
   "id": "de677dd0",
   "metadata": {},
   "outputs": [],
   "source": [
    "data_3 = data_2[data_2['사업장명'].str.contains('스타벅스')]"
   ]
  },
  {
   "cell_type": "code",
   "execution_count": 56,
   "id": "9d5a41e5",
   "metadata": {},
   "outputs": [
    {
     "data": {
      "text/html": [
       "<div>\n",
       "<style scoped>\n",
       "    .dataframe tbody tr th:only-of-type {\n",
       "        vertical-align: middle;\n",
       "    }\n",
       "\n",
       "    .dataframe tbody tr th {\n",
       "        vertical-align: top;\n",
       "    }\n",
       "\n",
       "    .dataframe thead th {\n",
       "        text-align: right;\n",
       "    }\n",
       "</style>\n",
       "<table border=\"1\" class=\"dataframe\">\n",
       "  <thead>\n",
       "    <tr style=\"text-align: right;\">\n",
       "      <th></th>\n",
       "      <th>번호</th>\n",
       "      <th>영업상태명</th>\n",
       "      <th>영업상태구분코드</th>\n",
       "      <th>사업장명</th>\n",
       "      <th>소재지전체주소</th>\n",
       "      <th>도로명전체주소</th>\n",
       "    </tr>\n",
       "  </thead>\n",
       "  <tbody>\n",
       "    <tr>\n",
       "      <th>10601</th>\n",
       "      <td>10602</td>\n",
       "      <td>폐업</td>\n",
       "      <td>3</td>\n",
       "      <td>스타벅스 대치재경빌딩B1</td>\n",
       "      <td>서울특별시 강남구 대치동 599 대원빌딩</td>\n",
       "      <td>서울특별시 강남구 남부순환로 2947, 대원빌딩 지하1층 (대치동)</td>\n",
       "    </tr>\n",
       "    <tr>\n",
       "      <th>11692</th>\n",
       "      <td>11693</td>\n",
       "      <td>폐업</td>\n",
       "      <td>3</td>\n",
       "      <td>스타벅스 명동센트럴점</td>\n",
       "      <td>서울특별시 중구 명동1가 10-1 명동센트럴빌딩 1층-중2층</td>\n",
       "      <td>서울특별시 중구 명동9길 16, 명동센트럴빌딩 1층-중2층 (명동1가)</td>\n",
       "    </tr>\n",
       "    <tr>\n",
       "      <th>14356</th>\n",
       "      <td>14357</td>\n",
       "      <td>폐업</td>\n",
       "      <td>3</td>\n",
       "      <td>스타벅스커피홍대공원점</td>\n",
       "      <td>서울특별시 마포구 서교동 362-1번지 1층일부, 2층</td>\n",
       "      <td>서울특별시 마포구 와우산로 83 (서교동, 1층일부, 2층)</td>\n",
       "    </tr>\n",
       "    <tr>\n",
       "      <th>15107</th>\n",
       "      <td>15108</td>\n",
       "      <td>폐업</td>\n",
       "      <td>3</td>\n",
       "      <td>스타벅스커피서교점</td>\n",
       "      <td>서울특별시 마포구 서교동 395-166 1층일부</td>\n",
       "      <td>서울특별시 마포구 양화로 78 (서교동, 1층일부)</td>\n",
       "    </tr>\n",
       "    <tr>\n",
       "      <th>16312</th>\n",
       "      <td>16313</td>\n",
       "      <td>폐업</td>\n",
       "      <td>3</td>\n",
       "      <td>스타벅스 뱅뱅사거리점</td>\n",
       "      <td>서울특별시 강남구 도곡동 946-14 지상1,2,3층</td>\n",
       "      <td>서울특별시 강남구 강남대로 282 (도곡동,지상1,2,3층)</td>\n",
       "    </tr>\n",
       "    <tr>\n",
       "      <th>...</th>\n",
       "      <td>...</td>\n",
       "      <td>...</td>\n",
       "      <td>...</td>\n",
       "      <td>...</td>\n",
       "      <td>...</td>\n",
       "      <td>...</td>\n",
       "    </tr>\n",
       "    <tr>\n",
       "      <th>595764</th>\n",
       "      <td>595765</td>\n",
       "      <td>영업/정상</td>\n",
       "      <td>1</td>\n",
       "      <td>스타벅스 홍대공항철도역점</td>\n",
       "      <td>서울특별시 마포구 동교동 166-1 지하1~지상2층</td>\n",
       "      <td>서울특별시 마포구 양화로 178, 지하1~지상2층 (동교동)</td>\n",
       "    </tr>\n",
       "    <tr>\n",
       "      <th>595774</th>\n",
       "      <td>595775</td>\n",
       "      <td>영업/정상</td>\n",
       "      <td>1</td>\n",
       "      <td>스타벅스 서강광흥창역점</td>\n",
       "      <td>서울특별시 마포구 창전동 130 1,2층</td>\n",
       "      <td>서울특별시 마포구 서강로 69, 1,2층 (창전동)</td>\n",
       "    </tr>\n",
       "    <tr>\n",
       "      <th>595779</th>\n",
       "      <td>595780</td>\n",
       "      <td>영업/정상</td>\n",
       "      <td>1</td>\n",
       "      <td>스타벅스공덕</td>\n",
       "      <td>서울특별시 마포구 공덕동 254-8 동방빌딩</td>\n",
       "      <td>서울특별시 마포구 마포대로 130, 동방빌딩, 제에이호1층일부 (공덕동)</td>\n",
       "    </tr>\n",
       "    <tr>\n",
       "      <th>595780</th>\n",
       "      <td>595781</td>\n",
       "      <td>영업/정상</td>\n",
       "      <td>1</td>\n",
       "      <td>스타벅스마포경찰서후문</td>\n",
       "      <td>서울특별시 마포구 아현동 618-19 마포 센텀 슬로우스퀘어</td>\n",
       "      <td>서울특별시 마포구 마포대로 173-14, 마포 센텀 슬로우스퀘어 1층 112~116...</td>\n",
       "    </tr>\n",
       "    <tr>\n",
       "      <th>595790</th>\n",
       "      <td>595791</td>\n",
       "      <td>영업/정상</td>\n",
       "      <td>1</td>\n",
       "      <td>스타벅스커피 서강대흥역</td>\n",
       "      <td>서울특별시 마포구 대흥동 111-1</td>\n",
       "      <td>서울특별시 마포구 백범로 89, 1~3층 (대흥동)</td>\n",
       "    </tr>\n",
       "  </tbody>\n",
       "</table>\n",
       "<p>806 rows × 6 columns</p>\n",
       "</div>"
      ],
      "text/plain": [
       "            번호  영업상태명  영업상태구분코드           사업장명  \\\n",
       "10601    10602     폐업         3  스타벅스 대치재경빌딩B1   \n",
       "11692    11693     폐업         3    스타벅스 명동센트럴점   \n",
       "14356    14357     폐업         3    스타벅스커피홍대공원점   \n",
       "15107    15108     폐업         3      스타벅스커피서교점   \n",
       "16312    16313     폐업         3    스타벅스 뱅뱅사거리점   \n",
       "...        ...    ...       ...            ...   \n",
       "595764  595765  영업/정상         1  스타벅스 홍대공항철도역점   \n",
       "595774  595775  영업/정상         1   스타벅스 서강광흥창역점   \n",
       "595779  595780  영업/정상         1         스타벅스공덕   \n",
       "595780  595781  영업/정상         1    스타벅스마포경찰서후문   \n",
       "595790  595791  영업/정상         1   스타벅스커피 서강대흥역   \n",
       "\n",
       "                                  소재지전체주소  \\\n",
       "10601              서울특별시 강남구 대치동 599 대원빌딩   \n",
       "11692   서울특별시 중구 명동1가 10-1 명동센트럴빌딩 1층-중2층   \n",
       "14356      서울특별시 마포구 서교동 362-1번지 1층일부, 2층   \n",
       "15107          서울특별시 마포구 서교동 395-166 1층일부   \n",
       "16312       서울특별시 강남구 도곡동 946-14 지상1,2,3층   \n",
       "...                                   ...   \n",
       "595764       서울특별시 마포구 동교동 166-1 지하1~지상2층   \n",
       "595774             서울특별시 마포구 창전동 130 1,2층   \n",
       "595779           서울특별시 마포구 공덕동 254-8 동방빌딩   \n",
       "595780  서울특별시 마포구 아현동 618-19 마포 센텀 슬로우스퀘어   \n",
       "595790                서울특별시 마포구 대흥동 111-1   \n",
       "\n",
       "                                                  도로명전체주소  \n",
       "10601               서울특별시 강남구 남부순환로 2947, 대원빌딩 지하1층 (대치동)  \n",
       "11692             서울특별시 중구 명동9길 16, 명동센트럴빌딩 1층-중2층 (명동1가)  \n",
       "14356                   서울특별시 마포구 와우산로 83 (서교동, 1층일부, 2층)  \n",
       "15107                        서울특별시 마포구 양화로 78 (서교동, 1층일부)  \n",
       "16312                   서울특별시 강남구 강남대로 282 (도곡동,지상1,2,3층)  \n",
       "...                                                   ...  \n",
       "595764                  서울특별시 마포구 양화로 178, 지하1~지상2층 (동교동)  \n",
       "595774                       서울특별시 마포구 서강로 69, 1,2층 (창전동)  \n",
       "595779           서울특별시 마포구 마포대로 130, 동방빌딩, 제에이호1층일부 (공덕동)  \n",
       "595780  서울특별시 마포구 마포대로 173-14, 마포 센텀 슬로우스퀘어 1층 112~116...  \n",
       "595790                       서울특별시 마포구 백범로 89, 1~3층 (대흥동)  \n",
       "\n",
       "[806 rows x 6 columns]"
      ]
     },
     "execution_count": 56,
     "metadata": {},
     "output_type": "execute_result"
    }
   ],
   "source": [
    "data_3"
   ]
  },
  {
   "cell_type": "code",
   "execution_count": 54,
   "id": "84f75bf2",
   "metadata": {},
   "outputs": [
    {
     "name": "stdout",
     "output_type": "stream",
     "text": [
      "<class 'pandas.core.frame.DataFrame'>\n",
      "Index: 806 entries, 10601 to 595790\n",
      "Data columns (total 6 columns):\n",
      " #   Column    Non-Null Count  Dtype \n",
      "---  ------    --------------  ----- \n",
      " 0   번호        806 non-null    int64 \n",
      " 1   영업상태명     806 non-null    object\n",
      " 2   영업상태구분코드  806 non-null    int64 \n",
      " 3   사업장명      806 non-null    object\n",
      " 4   소재지전체주소   806 non-null    object\n",
      " 5   도로명전체주소   748 non-null    object\n",
      "dtypes: int64(2), object(4)\n",
      "memory usage: 44.1+ KB\n"
     ]
    }
   ],
   "source": [
    "data_3.info()"
   ]
  },
  {
   "cell_type": "code",
   "execution_count": 57,
   "id": "afd09d4f",
   "metadata": {},
   "outputs": [],
   "source": [
    "data_4 = data_3[data_3['영업상태명'] != '폐업']"
   ]
  },
  {
   "cell_type": "code",
   "execution_count": 58,
   "id": "541edddd",
   "metadata": {},
   "outputs": [
    {
     "data": {
      "text/html": [
       "<div>\n",
       "<style scoped>\n",
       "    .dataframe tbody tr th:only-of-type {\n",
       "        vertical-align: middle;\n",
       "    }\n",
       "\n",
       "    .dataframe tbody tr th {\n",
       "        vertical-align: top;\n",
       "    }\n",
       "\n",
       "    .dataframe thead th {\n",
       "        text-align: right;\n",
       "    }\n",
       "</style>\n",
       "<table border=\"1\" class=\"dataframe\">\n",
       "  <thead>\n",
       "    <tr style=\"text-align: right;\">\n",
       "      <th></th>\n",
       "      <th>번호</th>\n",
       "      <th>영업상태명</th>\n",
       "      <th>영업상태구분코드</th>\n",
       "      <th>사업장명</th>\n",
       "      <th>소재지전체주소</th>\n",
       "      <th>도로명전체주소</th>\n",
       "    </tr>\n",
       "  </thead>\n",
       "  <tbody>\n",
       "    <tr>\n",
       "      <th>402499</th>\n",
       "      <td>402500</td>\n",
       "      <td>영업/정상</td>\n",
       "      <td>1</td>\n",
       "      <td>스타벅스 신촌로점</td>\n",
       "      <td>서울특별시 서대문구 창천동 29-81 신촌르메이에르타운5</td>\n",
       "      <td>서울특별시 서대문구 신촌로 109, 신촌르메이에르타운5 1층 103-2,103-3호...</td>\n",
       "    </tr>\n",
       "    <tr>\n",
       "      <th>403301</th>\n",
       "      <td>403302</td>\n",
       "      <td>영업/정상</td>\n",
       "      <td>1</td>\n",
       "      <td>스타벅스 김포공항 국제선점</td>\n",
       "      <td>서울특별시 강서구 방화동 882-1</td>\n",
       "      <td>서울특별시 강서구 하늘길 38, 김포공항 국제선터미널 출국장 3층 (방화동)</td>\n",
       "    </tr>\n",
       "    <tr>\n",
       "      <th>403590</th>\n",
       "      <td>403591</td>\n",
       "      <td>영업/정상</td>\n",
       "      <td>1</td>\n",
       "      <td>스타벅스 서대문적십자점</td>\n",
       "      <td>서울특별시 종로구 평동 164 서울적십자병원</td>\n",
       "      <td>서울특별시 종로구 새문안로 9, 서울적십자병원 별관 1층 B호 (평동)</td>\n",
       "    </tr>\n",
       "    <tr>\n",
       "      <th>403633</th>\n",
       "      <td>403634</td>\n",
       "      <td>영업/정상</td>\n",
       "      <td>1</td>\n",
       "      <td>스타벅스 암사역</td>\n",
       "      <td>서울특별시 강동구 암사동 501</td>\n",
       "      <td>서울특별시 강동구 올림픽로 786, 1,2층 101,201호 (암사동)</td>\n",
       "    </tr>\n",
       "    <tr>\n",
       "      <th>404057</th>\n",
       "      <td>404058</td>\n",
       "      <td>영업/정상</td>\n",
       "      <td>1</td>\n",
       "      <td>스타벅스 용산이마트점</td>\n",
       "      <td>서울특별시 용산구 한강로3가 40-999 용산역</td>\n",
       "      <td>서울특별시 용산구 한강대로23길 55, 지하2층 (한강로3가)</td>\n",
       "    </tr>\n",
       "    <tr>\n",
       "      <th>...</th>\n",
       "      <td>...</td>\n",
       "      <td>...</td>\n",
       "      <td>...</td>\n",
       "      <td>...</td>\n",
       "      <td>...</td>\n",
       "      <td>...</td>\n",
       "    </tr>\n",
       "    <tr>\n",
       "      <th>595764</th>\n",
       "      <td>595765</td>\n",
       "      <td>영업/정상</td>\n",
       "      <td>1</td>\n",
       "      <td>스타벅스 홍대공항철도역점</td>\n",
       "      <td>서울특별시 마포구 동교동 166-1 지하1~지상2층</td>\n",
       "      <td>서울특별시 마포구 양화로 178, 지하1~지상2층 (동교동)</td>\n",
       "    </tr>\n",
       "    <tr>\n",
       "      <th>595774</th>\n",
       "      <td>595775</td>\n",
       "      <td>영업/정상</td>\n",
       "      <td>1</td>\n",
       "      <td>스타벅스 서강광흥창역점</td>\n",
       "      <td>서울특별시 마포구 창전동 130 1,2층</td>\n",
       "      <td>서울특별시 마포구 서강로 69, 1,2층 (창전동)</td>\n",
       "    </tr>\n",
       "    <tr>\n",
       "      <th>595779</th>\n",
       "      <td>595780</td>\n",
       "      <td>영업/정상</td>\n",
       "      <td>1</td>\n",
       "      <td>스타벅스공덕</td>\n",
       "      <td>서울특별시 마포구 공덕동 254-8 동방빌딩</td>\n",
       "      <td>서울특별시 마포구 마포대로 130, 동방빌딩, 제에이호1층일부 (공덕동)</td>\n",
       "    </tr>\n",
       "    <tr>\n",
       "      <th>595780</th>\n",
       "      <td>595781</td>\n",
       "      <td>영업/정상</td>\n",
       "      <td>1</td>\n",
       "      <td>스타벅스마포경찰서후문</td>\n",
       "      <td>서울특별시 마포구 아현동 618-19 마포 센텀 슬로우스퀘어</td>\n",
       "      <td>서울특별시 마포구 마포대로 173-14, 마포 센텀 슬로우스퀘어 1층 112~116...</td>\n",
       "    </tr>\n",
       "    <tr>\n",
       "      <th>595790</th>\n",
       "      <td>595791</td>\n",
       "      <td>영업/정상</td>\n",
       "      <td>1</td>\n",
       "      <td>스타벅스커피 서강대흥역</td>\n",
       "      <td>서울특별시 마포구 대흥동 111-1</td>\n",
       "      <td>서울특별시 마포구 백범로 89, 1~3층 (대흥동)</td>\n",
       "    </tr>\n",
       "  </tbody>\n",
       "</table>\n",
       "<p>630 rows × 6 columns</p>\n",
       "</div>"
      ],
      "text/plain": [
       "            번호  영업상태명  영업상태구분코드            사업장명  \\\n",
       "402499  402500  영업/정상         1       스타벅스 신촌로점   \n",
       "403301  403302  영업/정상         1  스타벅스 김포공항 국제선점   \n",
       "403590  403591  영업/정상         1    스타벅스 서대문적십자점   \n",
       "403633  403634  영업/정상         1        스타벅스 암사역   \n",
       "404057  404058  영업/정상         1     스타벅스 용산이마트점   \n",
       "...        ...    ...       ...             ...   \n",
       "595764  595765  영업/정상         1   스타벅스 홍대공항철도역점   \n",
       "595774  595775  영업/정상         1    스타벅스 서강광흥창역점   \n",
       "595779  595780  영업/정상         1          스타벅스공덕   \n",
       "595780  595781  영업/정상         1     스타벅스마포경찰서후문   \n",
       "595790  595791  영업/정상         1    스타벅스커피 서강대흥역   \n",
       "\n",
       "                                  소재지전체주소  \\\n",
       "402499    서울특별시 서대문구 창천동 29-81 신촌르메이에르타운5   \n",
       "403301                서울특별시 강서구 방화동 882-1   \n",
       "403590           서울특별시 종로구 평동 164 서울적십자병원   \n",
       "403633                  서울특별시 강동구 암사동 501   \n",
       "404057         서울특별시 용산구 한강로3가 40-999 용산역   \n",
       "...                                   ...   \n",
       "595764       서울특별시 마포구 동교동 166-1 지하1~지상2층   \n",
       "595774             서울특별시 마포구 창전동 130 1,2층   \n",
       "595779           서울특별시 마포구 공덕동 254-8 동방빌딩   \n",
       "595780  서울특별시 마포구 아현동 618-19 마포 센텀 슬로우스퀘어   \n",
       "595790                서울특별시 마포구 대흥동 111-1   \n",
       "\n",
       "                                                  도로명전체주소  \n",
       "402499  서울특별시 서대문구 신촌로 109, 신촌르메이에르타운5 1층 103-2,103-3호...  \n",
       "403301         서울특별시 강서구 하늘길 38, 김포공항 국제선터미널 출국장 3층 (방화동)  \n",
       "403590            서울특별시 종로구 새문안로 9, 서울적십자병원 별관 1층 B호 (평동)  \n",
       "403633            서울특별시 강동구 올림픽로 786, 1,2층 101,201호 (암사동)  \n",
       "404057                 서울특별시 용산구 한강대로23길 55, 지하2층 (한강로3가)  \n",
       "...                                                   ...  \n",
       "595764                  서울특별시 마포구 양화로 178, 지하1~지상2층 (동교동)  \n",
       "595774                       서울특별시 마포구 서강로 69, 1,2층 (창전동)  \n",
       "595779           서울특별시 마포구 마포대로 130, 동방빌딩, 제에이호1층일부 (공덕동)  \n",
       "595780  서울특별시 마포구 마포대로 173-14, 마포 센텀 슬로우스퀘어 1층 112~116...  \n",
       "595790                       서울특별시 마포구 백범로 89, 1~3층 (대흥동)  \n",
       "\n",
       "[630 rows x 6 columns]"
      ]
     },
     "execution_count": 58,
     "metadata": {},
     "output_type": "execute_result"
    }
   ],
   "source": [
    "data_4"
   ]
  },
  {
   "cell_type": "code",
   "execution_count": 60,
   "id": "a61ee628",
   "metadata": {},
   "outputs": [
    {
     "name": "stdout",
     "output_type": "stream",
     "text": [
      "<class 'pandas.core.frame.DataFrame'>\n",
      "Index: 630 entries, 402499 to 595790\n",
      "Data columns (total 6 columns):\n",
      " #   Column    Non-Null Count  Dtype \n",
      "---  ------    --------------  ----- \n",
      " 0   번호        630 non-null    int64 \n",
      " 1   영업상태명     630 non-null    object\n",
      " 2   영업상태구분코드  630 non-null    int64 \n",
      " 3   사업장명      630 non-null    object\n",
      " 4   소재지전체주소   630 non-null    object\n",
      " 5   도로명전체주소   626 non-null    object\n",
      "dtypes: int64(2), object(4)\n",
      "memory usage: 34.5+ KB\n"
     ]
    }
   ],
   "source": [
    "data_4.info()"
   ]
  },
  {
   "cell_type": "code",
   "execution_count": 61,
   "id": "acfb6edf",
   "metadata": {},
   "outputs": [
    {
     "name": "stderr",
     "output_type": "stream",
     "text": [
      "C:\\Users\\User\\AppData\\Local\\Temp\\ipykernel_19560\\2217145655.py:1: SettingWithCopyWarning: \n",
      "A value is trying to be set on a copy of a slice from a DataFrame.\n",
      "Try using .loc[row_indexer,col_indexer] = value instead\n",
      "\n",
      "See the caveats in the documentation: https://pandas.pydata.org/pandas-docs/stable/user_guide/indexing.html#returning-a-view-versus-a-copy\n",
      "  data_4.loc[:,'시군구'] = data_4['소재지전체주소'].str.split()\n"
     ]
    }
   ],
   "source": [
    "data_4.loc[:,'시군구'] = data_4['소재지전체주소'].str.split().str[1]"
   ]
  },
  {
   "cell_type": "code",
   "execution_count": 65,
   "id": "734142f7",
   "metadata": {},
   "outputs": [
    {
     "data": {
      "text/html": [
       "<div>\n",
       "<style scoped>\n",
       "    .dataframe tbody tr th:only-of-type {\n",
       "        vertical-align: middle;\n",
       "    }\n",
       "\n",
       "    .dataframe tbody tr th {\n",
       "        vertical-align: top;\n",
       "    }\n",
       "\n",
       "    .dataframe thead th {\n",
       "        text-align: right;\n",
       "    }\n",
       "</style>\n",
       "<table border=\"1\" class=\"dataframe\">\n",
       "  <thead>\n",
       "    <tr style=\"text-align: right;\">\n",
       "      <th></th>\n",
       "      <th>번호</th>\n",
       "      <th>영업상태명</th>\n",
       "      <th>영업상태구분코드</th>\n",
       "      <th>사업장명</th>\n",
       "      <th>소재지전체주소</th>\n",
       "      <th>도로명전체주소</th>\n",
       "      <th>시군구</th>\n",
       "    </tr>\n",
       "  </thead>\n",
       "  <tbody>\n",
       "    <tr>\n",
       "      <th>402499</th>\n",
       "      <td>402500</td>\n",
       "      <td>영업/정상</td>\n",
       "      <td>1</td>\n",
       "      <td>스타벅스 신촌로점</td>\n",
       "      <td>서울특별시 서대문구 창천동 29-81 신촌르메이에르타운5</td>\n",
       "      <td>서울특별시 서대문구 신촌로 109, 신촌르메이에르타운5 1층 103-2,103-3호...</td>\n",
       "      <td>[서울특별시, 서대문구, 창천동, 29-81, 신촌르메이에르타운5]</td>\n",
       "    </tr>\n",
       "    <tr>\n",
       "      <th>403301</th>\n",
       "      <td>403302</td>\n",
       "      <td>영업/정상</td>\n",
       "      <td>1</td>\n",
       "      <td>스타벅스 김포공항 국제선점</td>\n",
       "      <td>서울특별시 강서구 방화동 882-1</td>\n",
       "      <td>서울특별시 강서구 하늘길 38, 김포공항 국제선터미널 출국장 3층 (방화동)</td>\n",
       "      <td>[서울특별시, 강서구, 방화동, 882-1]</td>\n",
       "    </tr>\n",
       "    <tr>\n",
       "      <th>403590</th>\n",
       "      <td>403591</td>\n",
       "      <td>영업/정상</td>\n",
       "      <td>1</td>\n",
       "      <td>스타벅스 서대문적십자점</td>\n",
       "      <td>서울특별시 종로구 평동 164 서울적십자병원</td>\n",
       "      <td>서울특별시 종로구 새문안로 9, 서울적십자병원 별관 1층 B호 (평동)</td>\n",
       "      <td>[서울특별시, 종로구, 평동, 164, 서울적십자병원]</td>\n",
       "    </tr>\n",
       "  </tbody>\n",
       "</table>\n",
       "</div>"
      ],
      "text/plain": [
       "            번호  영업상태명  영업상태구분코드            사업장명  \\\n",
       "402499  402500  영업/정상         1       스타벅스 신촌로점   \n",
       "403301  403302  영업/정상         1  스타벅스 김포공항 국제선점   \n",
       "403590  403591  영업/정상         1    스타벅스 서대문적십자점   \n",
       "\n",
       "                                소재지전체주소  \\\n",
       "402499  서울특별시 서대문구 창천동 29-81 신촌르메이에르타운5   \n",
       "403301              서울특별시 강서구 방화동 882-1   \n",
       "403590         서울특별시 종로구 평동 164 서울적십자병원   \n",
       "\n",
       "                                                  도로명전체주소  \\\n",
       "402499  서울특별시 서대문구 신촌로 109, 신촌르메이에르타운5 1층 103-2,103-3호...   \n",
       "403301         서울특별시 강서구 하늘길 38, 김포공항 국제선터미널 출국장 3층 (방화동)   \n",
       "403590            서울특별시 종로구 새문안로 9, 서울적십자병원 별관 1층 B호 (평동)   \n",
       "\n",
       "                                          시군구  \n",
       "402499  [서울특별시, 서대문구, 창천동, 29-81, 신촌르메이에르타운5]  \n",
       "403301               [서울특별시, 강서구, 방화동, 882-1]  \n",
       "403590         [서울특별시, 종로구, 평동, 164, 서울적십자병원]  "
      ]
     },
     "execution_count": 65,
     "metadata": {},
     "output_type": "execute_result"
    }
   ],
   "source": [
    "data_4.head(3)"
   ]
  },
  {
   "cell_type": "code",
   "execution_count": 84,
   "id": "c8074450",
   "metadata": {},
   "outputs": [],
   "source": [
    "data_5 = data_4.groupby('시군구').size().reset_index(name='사업장수')"
   ]
  },
  {
   "cell_type": "code",
   "execution_count": 85,
   "id": "3f85fabd",
   "metadata": {},
   "outputs": [
    {
     "data": {
      "text/html": [
       "<div>\n",
       "<style scoped>\n",
       "    .dataframe tbody tr th:only-of-type {\n",
       "        vertical-align: middle;\n",
       "    }\n",
       "\n",
       "    .dataframe tbody tr th {\n",
       "        vertical-align: top;\n",
       "    }\n",
       "\n",
       "    .dataframe thead th {\n",
       "        text-align: right;\n",
       "    }\n",
       "</style>\n",
       "<table border=\"1\" class=\"dataframe\">\n",
       "  <thead>\n",
       "    <tr style=\"text-align: right;\">\n",
       "      <th></th>\n",
       "      <th>시군구</th>\n",
       "      <th>사업장수</th>\n",
       "    </tr>\n",
       "  </thead>\n",
       "  <tbody>\n",
       "    <tr>\n",
       "      <th>0</th>\n",
       "      <td>서울특별시,강남구,개포동,1229-1,케이에스디노엘빌딩지상1층101,102호</td>\n",
       "      <td>1</td>\n",
       "    </tr>\n",
       "    <tr>\n",
       "      <th>1</th>\n",
       "      <td>서울특별시,강남구,개포동,167-9</td>\n",
       "      <td>1</td>\n",
       "    </tr>\n",
       "    <tr>\n",
       "      <th>2</th>\n",
       "      <td>서울특별시,강남구,논현동,1-3</td>\n",
       "      <td>1</td>\n",
       "    </tr>\n",
       "    <tr>\n",
       "      <th>3</th>\n",
       "      <td>서울특별시,강남구,논현동,142-2,JS타워,지상1층</td>\n",
       "      <td>1</td>\n",
       "    </tr>\n",
       "    <tr>\n",
       "      <th>4</th>\n",
       "      <td>서울특별시,강남구,논현동,164-7</td>\n",
       "      <td>1</td>\n",
       "    </tr>\n",
       "    <tr>\n",
       "      <th>...</th>\n",
       "      <td>...</td>\n",
       "      <td>...</td>\n",
       "    </tr>\n",
       "    <tr>\n",
       "      <th>622</th>\n",
       "      <td>서울특별시,중랑구,상봉동,100-2</td>\n",
       "      <td>1</td>\n",
       "    </tr>\n",
       "    <tr>\n",
       "      <th>623</th>\n",
       "      <td>서울특별시,중랑구,상봉동,130-3</td>\n",
       "      <td>1</td>\n",
       "    </tr>\n",
       "    <tr>\n",
       "      <th>624</th>\n",
       "      <td>서울특별시,중랑구,상봉동,501</td>\n",
       "      <td>1</td>\n",
       "    </tr>\n",
       "    <tr>\n",
       "      <th>625</th>\n",
       "      <td>서울특별시,중랑구,신내동,563-3,원빌딩</td>\n",
       "      <td>1</td>\n",
       "    </tr>\n",
       "    <tr>\n",
       "      <th>626</th>\n",
       "      <td>서울특별시,중랑구,중화동,306-68,중화동,HS빌딩</td>\n",
       "      <td>1</td>\n",
       "    </tr>\n",
       "  </tbody>\n",
       "</table>\n",
       "<p>627 rows × 2 columns</p>\n",
       "</div>"
      ],
      "text/plain": [
       "                                            시군구  사업장수\n",
       "0    서울특별시,강남구,개포동,1229-1,케이에스디노엘빌딩지상1층101,102호     1\n",
       "1                           서울특별시,강남구,개포동,167-9     1\n",
       "2                             서울특별시,강남구,논현동,1-3     1\n",
       "3                 서울특별시,강남구,논현동,142-2,JS타워,지상1층     1\n",
       "4                           서울특별시,강남구,논현동,164-7     1\n",
       "..                                          ...   ...\n",
       "622                         서울특별시,중랑구,상봉동,100-2     1\n",
       "623                         서울특별시,중랑구,상봉동,130-3     1\n",
       "624                           서울특별시,중랑구,상봉동,501     1\n",
       "625                     서울특별시,중랑구,신내동,563-3,원빌딩     1\n",
       "626               서울특별시,중랑구,중화동,306-68,중화동,HS빌딩     1\n",
       "\n",
       "[627 rows x 2 columns]"
      ]
     },
     "execution_count": 85,
     "metadata": {},
     "output_type": "execute_result"
    }
   ],
   "source": [
    "data_5"
   ]
  },
  {
   "cell_type": "code",
   "execution_count": 72,
   "id": "2066b8d5",
   "metadata": {},
   "outputs": [],
   "source": [
    "import matplotlib.pyplot as plt\n",
    "import matplotlib.font_manager as fm\n",
    "import matplotlib as mpl"
   ]
  },
  {
   "cell_type": "code",
   "execution_count": 81,
   "id": "189ce1af",
   "metadata": {},
   "outputs": [],
   "source": [
    "plt.rcParams['font.family'] = 'Malgun Gothic'"
   ]
  },
  {
   "cell_type": "code",
   "execution_count": 82,
   "id": "8b011413",
   "metadata": {},
   "outputs": [
    {
     "data": {
      "text/plain": [
       "<Figure size 1200x600 with 0 Axes>"
      ]
     },
     "execution_count": 82,
     "metadata": {},
     "output_type": "execute_result"
    },
    {
     "data": {
      "text/plain": [
       "<Figure size 1200x600 with 0 Axes>"
      ]
     },
     "metadata": {},
     "output_type": "display_data"
    }
   ],
   "source": [
    "plt.figure(figsize=(12,6))"
   ]
  },
  {
   "cell_type": "code",
   "execution_count": 83,
   "id": "557722ad",
   "metadata": {},
   "outputs": [
    {
     "data": {
      "text/plain": [
       "Text(0, 0.5, '사업장수')"
      ]
     },
     "execution_count": 83,
     "metadata": {},
     "output_type": "execute_result"
    },
    {
     "data": {
      "image/png": "[encoded data removed]",
      "text/plain": [
       "<Figure size 640x480 with 1 Axes>"
      ]
     },
     "metadata": {},
     "output_type": "display_data"
    }
   ],
   "source": [
    "plt.bar(data_5['시군구'],data_5['사업장수'])\n",
    "plt.xticks(rotation=45)\n",
    "plt.title('서울 특별시 스타벅스 사업장')\n",
    "plt.ylabel('사업장수')"
   ]
  },
  {
   "cell_type": "code",
   "execution_count": 115,
   "id": "0293dee0",
   "metadata": {},
   "outputs": [],
   "source": [
    "plt.show()"
   ]
  },
  {
   "cell_type": "code",
   "execution_count": 87,
   "id": "0877cf75",
   "metadata": {},
   "outputs": [
    {
     "name": "stdout",
     "output_type": "stream",
     "text": [
      "   score\n",
      "0     70\n",
      "1     75\n",
      "2     80\n",
      "3     85\n",
      "4     90\n",
      "5    150\n"
     ]
    }
   ],
   "source": [
    "#data\n",
    "data = {\n",
    "    'score' :[70,75,80,85,90,150]\n",
    "}\n",
    "df = pd.DataFrame(data)\n",
    "print(df)"
   ]
  },
  {
   "cell_type": "code",
   "execution_count": 91,
   "id": "dcdcf80b",
   "metadata": {},
   "outputs": [
    {
     "name": "stdout",
     "output_type": "stream",
     "text": [
      "76.25\n",
      "88.75\n",
      "12.5\n"
     ]
    }
   ],
   "source": [
    "# iQR\n",
    "Q1 = df['score'].quantile(0.25)\n",
    "print(Q1)\n",
    "Q3 = df['score'].quantile(0.75)\n",
    "print(Q3)\n",
    "IQR = Q3-Q1\n",
    "print(IQR)"
   ]
  },
  {
   "cell_type": "code",
   "execution_count": 93,
   "id": "2a4dc85c",
   "metadata": {},
   "outputs": [],
   "source": [
    "#이상치의 범위\n",
    "low_ = Q1-1.5*IQR\n",
    "up_ = Q3 + 1.5 * IQR"
   ]
  },
  {
   "cell_type": "code",
   "execution_count": 94,
   "id": "99ffbfa0",
   "metadata": {},
   "outputs": [
    {
     "name": "stdout",
     "output_type": "stream",
     "text": [
      "이상치의 범위:  57.5 ~ 107.5\n"
     ]
    }
   ],
   "source": [
    "print('이상치의 범위: ',f'{low_} ~ {up_}')"
   ]
  },
  {
   "cell_type": "code",
   "execution_count": 96,
   "id": "265f067f",
   "metadata": {},
   "outputs": [
    {
     "name": "stdout",
     "output_type": "stream",
     "text": [
      "제거대상(이상치):    score\n",
      "5    150\n"
     ]
    }
   ],
   "source": [
    "outliers = df[(df['score']<low_) | (df['score']>up_)]\n",
    "print('제거대상(이상치):',outliers)"
   ]
  },
  {
   "cell_type": "code",
   "execution_count": 97,
   "id": "95144f3b",
   "metadata": {},
   "outputs": [
    {
     "name": "stdout",
     "output_type": "stream",
     "text": [
      "   score\n",
      "0     70\n",
      "1     75\n",
      "2     80\n",
      "3     85\n",
      "4     90\n"
     ]
    }
   ],
   "source": [
    "#이상치 제거\n",
    "df_1 = df[(df['score']>=low_ )& (df['score']<=up_)]\n",
    "print(df_1)"
   ]
  },
  {
   "cell_type": "code",
   "execution_count": null,
   "id": "04838021",
   "metadata": {},
   "outputs": [],
   "source": [
    "# 이상치 값을 변경\n",
    "df['score'] = df['score'].astype(float) #형변환\n",
    "\n",
    "df.loc [df['score'] <low_, 'score']= low_\n",
    "df.loc[df['score']>up_, 'score'] = up_"
   ]
  },
  {
   "cell_type": "code",
   "execution_count": 100,
   "id": "646b38fb",
   "metadata": {},
   "outputs": [
    {
     "name": "stdout",
     "output_type": "stream",
     "text": [
      "   score\n",
      "0   70.0\n",
      "1   75.0\n",
      "2   80.0\n",
      "3   85.0\n",
      "4   90.0\n",
      "5  107.5\n"
     ]
    }
   ],
   "source": [
    "print(df)"
   ]
  },
  {
   "cell_type": "code",
   "execution_count": 101,
   "id": "de3628ca",
   "metadata": {},
   "outputs": [
    {
     "name": "stdout",
     "output_type": "stream",
     "text": [
      "원본 데이터프레임:\n",
      "      Name  Age  Score\n",
      "0    Alice   25     85\n",
      "1      Bob   30     90\n",
      "2    Alice   25     85\n",
      "3  Charlie   35     95\n",
      "4      Bob   30     90\n"
     ]
    }
   ],
   "source": [
    "# pandas 중복 데이터 확인 및 제거\n",
    "import pandas as pd\n",
    "# 예제 데이터\n",
    "data = {'Name': ['Alice', 'Bob', 'Alice', 'Charlie', 'Bob'],\n",
    "'Age': [25, 30, 25, 35, 30],\n",
    "'Score': [85, 90, 85, 95, 90]}\n",
    "\n",
    "df = pd.DataFrame(data)\n",
    "print('원본 데이터프레임:')\n",
    "print(df)"
   ]
  },
  {
   "cell_type": "code",
   "execution_count": 102,
   "id": "cc18e77b",
   "metadata": {},
   "outputs": [
    {
     "data": {
      "text/plain": [
       "0    False\n",
       "1    False\n",
       "2     True\n",
       "3    False\n",
       "4     True\n",
       "dtype: bool"
      ]
     },
     "execution_count": 102,
     "metadata": {},
     "output_type": "execute_result"
    }
   ],
   "source": [
    "df.duplicated() #pandas DataFrame에서 중복된 행을 찾는 함수입니다"
   ]
  },
  {
   "cell_type": "code",
   "execution_count": 112,
   "id": "70260733",
   "metadata": {},
   "outputs": [
    {
     "name": "stdout",
     "output_type": "stream",
     "text": [
      "2. name 열의 값을 기준으로 행 삭제\n",
      "      Name  Age  Score\n",
      "0    Alice   25     85\n",
      "1      Bob   30     90\n",
      "3  Charlie   35     95\n"
     ]
    }
   ],
   "source": [
    "# 즉정 열('name')을 기준으로 중복 행 삭제\n",
    "df_2 = df.drop_duplicates(subset= ['Name'])\n",
    "print('2. name 열의 값을 기준으로 행 삭제')\n",
    "print(df_2)"
   ]
  },
  {
   "cell_type": "code",
   "execution_count": 107,
   "id": "af9b0e83",
   "metadata": {},
   "outputs": [
    {
     "name": "stdout",
     "output_type": "stream",
     "text": [
      "1. 중복데이터 제거(첫번째 데이터 유지)\n",
      "      Name  Age  Score\n",
      "0    Alice   25     85\n",
      "1      Bob   30     90\n",
      "3  Charlie   35     95\n",
      "1. 중복데이터 제거(마지막 데이터 유지)\n",
      "      Name  Age  Score\n",
      "2    Alice   25     85\n",
      "3  Charlie   35     95\n",
      "4      Bob   30     90\n"
     ]
    }
   ],
   "source": [
    "#중복 데이터 제거( 행의 모든 열의 값이 같은경우)\n",
    "df_1 = df.drop_duplicates(keep='first')\n",
    "print('1. 중복데이터 제거(첫번째 데이터 유지)')\n",
    "print(df_1)\n",
    "\n",
    "df_1 = df.drop_duplicates(keep='last')\n",
    "print('1. 중복데이터 제거(마지막 데이터 유지)')\n",
    "print(df_1)"
   ]
  },
  {
   "cell_type": "code",
   "execution_count": 113,
   "id": "a299de39",
   "metadata": {},
   "outputs": [
    {
     "data": {
      "text/html": [
       "<div>\n",
       "<style scoped>\n",
       "    .dataframe tbody tr th:only-of-type {\n",
       "        vertical-align: middle;\n",
       "    }\n",
       "\n",
       "    .dataframe tbody tr th {\n",
       "        vertical-align: top;\n",
       "    }\n",
       "\n",
       "    .dataframe thead th {\n",
       "        text-align: right;\n",
       "    }\n",
       "</style>\n",
       "<table border=\"1\" class=\"dataframe\">\n",
       "  <thead>\n",
       "    <tr style=\"text-align: right;\">\n",
       "      <th></th>\n",
       "      <th>Name</th>\n",
       "      <th>Age</th>\n",
       "      <th>Score</th>\n",
       "    </tr>\n",
       "  </thead>\n",
       "  <tbody>\n",
       "    <tr>\n",
       "      <th>3</th>\n",
       "      <td>Charlie</td>\n",
       "      <td>35</td>\n",
       "      <td>95</td>\n",
       "    </tr>\n",
       "  </tbody>\n",
       "</table>\n",
       "</div>"
      ],
      "text/plain": [
       "      Name  Age  Score\n",
       "3  Charlie   35     95"
      ]
     },
     "execution_count": 113,
     "metadata": {},
     "output_type": "execute_result"
    }
   ],
   "source": [
    "df_3 = df.drop_duplicates(keep=False)\n",
    "df_3"
   ]
  },
  {
   "cell_type": "code",
   "execution_count": null,
   "id": "b14d186f",
   "metadata": {},
   "outputs": [],
   "source": []
  },
  {
   "cell_type": "code",
   "execution_count": null,
   "id": "5143287e",
   "metadata": {},
   "outputs": [],
   "source": []
  }
 ],
 "metadata": {
  "kernelspec": {
   "display_name": ".venv",
   "language": "python",
   "name": "python3"
  },
  "language_info": {
   "codemirror_mode": {
    "name": "ipython",
    "version": 3
   },
   "file_extension": ".py",
   "mimetype": "text/x-python",
   "name": "python",
   "nbconvert_exporter": "python",
   "pygments_lexer": "ipython3",
   "version": "3.13.4"
  }
 },
 "nbformat": 4,
 "nbformat_minor": 5
}
