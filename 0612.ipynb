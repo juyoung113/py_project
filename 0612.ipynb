{
 "cells": [
  {
   "cell_type": "code",
   "execution_count": 84,
   "id": "171d3fd8",
   "metadata": {},
   "outputs": [],
   "source": [
    "# 객체지향 프로그래밍 : 객체의 개념을 프로그램에 도입\n",
    "# 객체 : 변수들, 함수들도 구성 > 메모리에 올라가 있는 상태\n",
    "# 클래스 : 변수들과 함수들이 어떻게 구성되는지의 설계도 > 변수들의 정의, 함수들의 정의\n",
    "# > 클래스만 정의했다. > 사용x 클래스를 이용해서 객체로 만들어야 사용가능\n",
    "# class 클래스 이름:\n",
    "    # 변수들과 함수들을 정의\n",
    "# 객체 생성 > 변수 = 클래스이름()\n",
    "# 객체의 활용 > 변수, 객체가 가지는 변수, 변수. 객체가 가지는 함수()\n",
    "class Cookie:\n",
    "    pass"
   ]
  },
  {
   "cell_type": "code",
   "execution_count": 85,
   "id": "8fdde14d",
   "metadata": {},
   "outputs": [],
   "source": [
    "c1 = Cookie()\n",
    "c2 = Cookie()"
   ]
  },
  {
   "cell_type": "code",
   "execution_count": 86,
   "id": "cc88d4a1",
   "metadata": {},
   "outputs": [
    {
     "name": "stdout",
     "output_type": "stream",
     "text": [
      "2275746228144 <class '__main__.Cookie'>\n",
      "2275743230672 <class '__main__.Cookie'>\n"
     ]
    }
   ],
   "source": [
    "print(id(c1),type(c1))\n",
    "print(id(c2),type(c2))"
   ]
  },
  {
   "cell_type": "code",
   "execution_count": 87,
   "id": "ed8732b9",
   "metadata": {},
   "outputs": [],
   "source": [
    "# 사칙연산을 하는 클래스 정의 : 클래스이름, 변수, 함수\n",
    "# 변수는 두개, 함수(메서드) 4개\n",
    "class FourCal:\n",
    "    # 클래스에서 함수를 정의할 때에는 반드시 self 매개변수를 받아야 한다.\n",
    "    # self > 객체 자신을 가르키는 변수(객체의 주소)\n",
    "    def setdata(self, first, second):\n",
    "        self.first = first\n",
    "        self.second = second\n"
   ]
  },
  {
   "cell_type": "code",
   "execution_count": 88,
   "id": "cc35f431",
   "metadata": {},
   "outputs": [],
   "source": [
    "cal_1=FourCal()"
   ]
  },
  {
   "cell_type": "code",
   "execution_count": 89,
   "id": "e67a12b6",
   "metadata": {},
   "outputs": [
    {
     "data": {
      "text/plain": [
       "__main__.FourCal"
      ]
     },
     "execution_count": 89,
     "metadata": {},
     "output_type": "execute_result"
    }
   ],
   "source": [
    "type(cal_1)"
   ]
  },
  {
   "cell_type": "code",
   "execution_count": 90,
   "id": "a11cb8fb",
   "metadata": {},
   "outputs": [],
   "source": [
    "cal_1.setdata(10,20)"
   ]
  },
  {
   "cell_type": "code",
   "execution_count": 91,
   "id": "509a9299",
   "metadata": {},
   "outputs": [
    {
     "name": "stdout",
     "output_type": "stream",
     "text": [
      "10 20\n"
     ]
    }
   ],
   "source": [
    "print(cal_1.first, cal_1.second)"
   ]
  },
  {
   "cell_type": "code",
   "execution_count": 92,
   "id": "5f43b9d6",
   "metadata": {},
   "outputs": [],
   "source": [
    "cal_2 = FourCal()"
   ]
  },
  {
   "cell_type": "code",
   "execution_count": 93,
   "id": "27589a2c",
   "metadata": {},
   "outputs": [],
   "source": [
    "class FourCal:\n",
    "    \n",
    "\n",
    "    #클래스에서 함수를 정의할 때에는 반드시 self 매개변수를 받아야 한다.\n",
    "    # self > 객체 자신을 가르키는 변수 (객체의 주소)\n",
    "    def __init__(self, first, second):\n",
    "        self.first=first\n",
    "        self.second = second\n",
    "    \n",
    "    #사칙연산 함수\n",
    "    def add(self):\n",
    "        return self.first+self.second\n",
    "    def sub(self):\n",
    "        return self.first - self.second\n",
    "    def mul(self):\n",
    "        return self.first * self.second\n",
    "    def div(self):\n",
    "        return self.first / self.second"
   ]
  },
  {
   "cell_type": "code",
   "execution_count": 94,
   "id": "22bd6379",
   "metadata": {},
   "outputs": [],
   "source": [
    "cal_5 = FourCal(10,7)"
   ]
  },
  {
   "cell_type": "code",
   "execution_count": 95,
   "id": "b22581ce",
   "metadata": {},
   "outputs": [
    {
     "name": "stdout",
     "output_type": "stream",
     "text": [
      "10 7\n",
      "17\n"
     ]
    }
   ],
   "source": [
    "print(cal_5.first, cal_5.second)\n",
    "print(cal_5.add())"
   ]
  },
  {
   "cell_type": "code",
   "execution_count": 27,
   "id": "1792d7ed",
   "metadata": {},
   "outputs": [],
   "source": [
    "class student:\n",
    "\n",
    "    def __init__(self, s_num, name, k_score, e_score, m_score):\n",
    "        self.s_num = s_num\n",
    "        self.name = name\n",
    "        self.k_score = k_score\n",
    "        self.e_score = e_score\n",
    "        self.m_score = m_score\n",
    "\n",
    "    def print_result(self):\n",
    "        return f\"Student Number: {self.s_num}, Name: {self.name}, Scores: [Korean: {self.k_score}, English: {self.e_score}, Math: {self.m_score}\"\n",
    "    def total_score(self):\n",
    "        return self.k_score + self.e_score + self.m_score\n",
    "    def agv(self):\n",
    "        return self.total_score()/3"
   ]
  },
  {
   "cell_type": "code",
   "execution_count": 25,
   "id": "abf512b8",
   "metadata": {},
   "outputs": [],
   "source": [
    "students = [\n",
    "    student(2021, '이주영1', 45, 62, 98),\n",
    "    student(2021, '이주영2', 45, 62, 98),\n",
    "    student(2021, '이주영3', 45, 62, 98),\n",
    "    student(2021, '이주영4', 45, 62, 98)\n",
    "]"
   ]
  },
  {
   "cell_type": "code",
   "execution_count": 28,
   "id": "ec6a0d80",
   "metadata": {},
   "outputs": [],
   "source": [
    "for s in students:\n",
    "    s.print_result()"
   ]
  },
  {
   "cell_type": "code",
   "execution_count": 17,
   "id": "24ec27fc",
   "metadata": {},
   "outputs": [
    {
     "ename": "TypeError",
     "evalue": "student.print() missing 1 required positional argument: 'self'",
     "output_type": "error",
     "traceback": [
      "\u001b[31m---------------------------------------------------------------------------\u001b[39m",
      "\u001b[31mTypeError\u001b[39m                                 Traceback (most recent call last)",
      "\u001b[36mCell\u001b[39m\u001b[36m \u001b[39m\u001b[32mIn[17]\u001b[39m\u001b[32m, line 2\u001b[39m\n\u001b[32m      1\u001b[39m students = student(\u001b[32m2021\u001b[39m, \u001b[33m'\u001b[39m\u001b[33m이주영\u001b[39m\u001b[33m'\u001b[39m, \u001b[32m45\u001b[39m, \u001b[32m62\u001b[39m, \u001b[32m98\u001b[39m)\n\u001b[32m----> \u001b[39m\u001b[32m2\u001b[39m \u001b[38;5;28mprint\u001b[39m(\u001b[43mstudent\u001b[49m\u001b[43m.\u001b[49m\u001b[43mprint\u001b[49m\u001b[43m(\u001b[49m\u001b[43m)\u001b[49m)\n\u001b[32m      3\u001b[39m \u001b[38;5;28mprint\u001b[39m(student.total_score())\n\u001b[32m      4\u001b[39m \u001b[38;5;28mprint\u001b[39m(student.agv())\n",
      "\u001b[31mTypeError\u001b[39m: student.print() missing 1 required positional argument: 'self'"
     ]
    }
   ],
   "source": [
    "students = student(2021, '이주영', 45, 62, 98)\n",
    "print(student.print())\n",
    "print(student.total_score())\n",
    "print(student.agv())"
   ]
  },
  {
   "cell_type": "code",
   "execution_count": 31,
   "id": "d4ef7e88",
   "metadata": {},
   "outputs": [
    {
     "ename": "ModuleNotFoundError",
     "evalue": "No module named 'some_module'",
     "output_type": "error",
     "traceback": [
      "\u001b[31m---------------------------------------------------------------------------\u001b[39m",
      "\u001b[31mModuleNotFoundError\u001b[39m                       Traceback (most recent call last)",
      "\u001b[36mCell\u001b[39m\u001b[36m \u001b[39m\u001b[32mIn[31]\u001b[39m\u001b[32m, line 3\u001b[39m\n\u001b[32m      1\u001b[39m \u001b[38;5;66;03m# 클래스의 상속 : 새로운 클래스를 만들 때 기존의 클래스의 멤버들을 받아서 생성하는 방법\u001b[39;00m\n\u001b[32m      2\u001b[39m \u001b[38;5;66;03m# class 클래스 이름(부모 클래스)\u001b[39;00m\n\u001b[32m----> \u001b[39m\u001b[32m3\u001b[39m \u001b[38;5;28;01mfrom\u001b[39;00m\u001b[38;5;250m \u001b[39m\u001b[34;01msome_module\u001b[39;00m\u001b[38;5;250m \u001b[39m\u001b[38;5;28;01mimport\u001b[39;00m FourCal\n\u001b[32m      5\u001b[39m \u001b[38;5;28;01mclass\u001b[39;00m\u001b[38;5;250m \u001b[39m\u001b[34;01mMoreFourCal\u001b[39;00m(FourCal):\n\u001b[32m      6\u001b[39m     \u001b[38;5;28;01mdef\u001b[39;00m\u001b[38;5;250m \u001b[39m\u001b[34mpow\u001b[39m(\u001b[38;5;28mself\u001b[39m):\n",
      "\u001b[31mModuleNotFoundError\u001b[39m: No module named 'some_module'"
     ]
    }
   ],
   "source": [
    "# 클래스의 상속 : 새로운 클래스를 만들 때 기존의 클래스의 멤버들을 받아서 생성하는 방법\n",
    "# class 클래스 이름(부모 클래스)\n",
    "from some_module import FourCal\n",
    "\n",
    "class MoreFourCal(FourCal):\n",
    "    def pow(self):\n",
    "        return self.first ** self.second\n",
    "    \n",
    "    def div(self):\n",
    "        if self.second == 0:\n",
    "            return 0\n",
    "        else:\n",
    "            return self.first/self.second\n",
    "        \n"
   ]
  },
  {
   "cell_type": "code",
   "execution_count": null,
   "id": "ea8c2f18",
   "metadata": {},
   "outputs": [],
   "source": [
    "mcal_1 = MoreFourCal(100,8)"
   ]
  },
  {
   "cell_type": "code",
   "execution_count": null,
   "id": "1b64697b",
   "metadata": {},
   "outputs": [
    {
     "name": "stdout",
     "output_type": "stream",
     "text": [
      "108\n",
      "92\n",
      "800\n",
      "12.5\n"
     ]
    }
   ],
   "source": [
    "print(mcal_1.add())\n",
    "print(mcal_1.sub())\n",
    "print(mcal_1.mul())\n",
    "print(mcal_1.div())"
   ]
  },
  {
   "cell_type": "code",
   "execution_count": null,
   "id": "02a605f7",
   "metadata": {},
   "outputs": [],
   "source": [
    "mcal_2 = MoreFourCal(100,0)"
   ]
  },
  {
   "cell_type": "code",
   "execution_count": null,
   "id": "5fd2b725",
   "metadata": {},
   "outputs": [
    {
     "name": "stdout",
     "output_type": "stream",
     "text": [
      "100\n",
      "0\n",
      "0\n",
      "1\n"
     ]
    }
   ],
   "source": [
    "print(mcal_2.add())\n",
    "print(mcal_2.mul())\n",
    "print(mcal_2.div())\n",
    "print(mcal_2.pow())\n"
   ]
  },
  {
   "cell_type": "markdown",
   "id": "906f0000",
   "metadata": {},
   "source": [
    "표준모듈"
   ]
  },
  {
   "cell_type": "code",
   "execution_count": 64,
   "id": "3968c847",
   "metadata": {},
   "outputs": [],
   "source": [
    "import datetime\n",
    "import time\n",
    "import random"
   ]
  },
  {
   "cell_type": "code",
   "execution_count": 65,
   "id": "a4084cc5",
   "metadata": {},
   "outputs": [],
   "source": [
    "day1 = datetime.date(2025,6,12)"
   ]
  },
  {
   "cell_type": "code",
   "execution_count": 66,
   "id": "013afed7",
   "metadata": {},
   "outputs": [
    {
     "name": "stdout",
     "output_type": "stream",
     "text": [
      "2025-06-12\n"
     ]
    }
   ],
   "source": [
    "print(day1)"
   ]
  },
  {
   "cell_type": "code",
   "execution_count": 67,
   "id": "5f90b4dd",
   "metadata": {},
   "outputs": [],
   "source": [
    "day2 = datetime.date(2025,1,1)"
   ]
  },
  {
   "cell_type": "code",
   "execution_count": 68,
   "id": "67d24fc8",
   "metadata": {},
   "outputs": [
    {
     "name": "stdout",
     "output_type": "stream",
     "text": [
      "162 days, 0:00:00\n"
     ]
    }
   ],
   "source": [
    "print(day1 - day2)"
   ]
  },
  {
   "cell_type": "code",
   "execution_count": 69,
   "id": "732c7fec",
   "metadata": {},
   "outputs": [
    {
     "data": {
      "text/plain": [
       "1749775470.078381"
      ]
     },
     "execution_count": 69,
     "metadata": {},
     "output_type": "execute_result"
    }
   ],
   "source": [
    "time.time()"
   ]
  },
  {
   "cell_type": "code",
   "execution_count": 70,
   "id": "f315684a",
   "metadata": {},
   "outputs": [
    {
     "data": {
      "text/plain": [
       "time.struct_time(tm_year=2025, tm_mon=6, tm_mday=13, tm_hour=9, tm_min=44, tm_sec=30, tm_wday=4, tm_yday=164, tm_isdst=0)"
      ]
     },
     "execution_count": 70,
     "metadata": {},
     "output_type": "execute_result"
    }
   ],
   "source": [
    "time.localtime()"
   ]
  },
  {
   "cell_type": "code",
   "execution_count": 71,
   "id": "9050ee20",
   "metadata": {},
   "outputs": [
    {
     "data": {
      "text/plain": [
       "'Fri Jun 13 09:44:30 2025'"
      ]
     },
     "execution_count": 71,
     "metadata": {},
     "output_type": "execute_result"
    }
   ],
   "source": [
    "time.ctime()"
   ]
  },
  {
   "cell_type": "code",
   "execution_count": 72,
   "id": "39fe94a2",
   "metadata": {},
   "outputs": [
    {
     "data": {
      "text/plain": [
       "0.2919154366430541"
      ]
     },
     "execution_count": 72,
     "metadata": {},
     "output_type": "execute_result"
    }
   ],
   "source": [
    "random.random() # 0.0000 <= r < 1"
   ]
  },
  {
   "cell_type": "code",
   "execution_count": 73,
   "id": "45cb025a",
   "metadata": {},
   "outputs": [
    {
     "data": {
      "text/plain": [
       "67"
      ]
     },
     "execution_count": 73,
     "metadata": {},
     "output_type": "execute_result"
    }
   ],
   "source": [
    "random.randint(60,100)"
   ]
  },
  {
   "cell_type": "code",
   "execution_count": 74,
   "id": "735ca57a",
   "metadata": {},
   "outputs": [
    {
     "name": "stdout",
     "output_type": "stream",
     "text": [
      "[81, 74, 77, 68, 80, 88, 69, 63, 68, 90]\n"
     ]
    }
   ],
   "source": [
    "list_score=[]\n",
    "for s in range(0,10):\n",
    "    list_score.append(random.randint(60,100))\n",
    "\n",
    "print(list_score)"
   ]
  },
  {
   "cell_type": "code",
   "execution_count": 75,
   "id": "2dbf9aaf",
   "metadata": {},
   "outputs": [
    {
     "data": {
      "text/plain": [
       "4"
      ]
     },
     "execution_count": 75,
     "metadata": {},
     "output_type": "execute_result"
    }
   ],
   "source": [
    "# 하나만만 뽑기\n",
    "random.choice([1,2,3,4,5])"
   ]
  },
  {
   "cell_type": "code",
   "execution_count": 76,
   "id": "63e6922c",
   "metadata": {},
   "outputs": [
    {
     "data": {
      "text/plain": [
       "[3, 8, 5]"
      ]
     },
     "execution_count": 76,
     "metadata": {},
     "output_type": "execute_result"
    }
   ],
   "source": [
    "# 리트스 값들 중 3개\n",
    "random.sample([1,2,3,4,5,6,7,8,9],3)"
   ]
  },
  {
   "cell_type": "code",
   "execution_count": 77,
   "id": "7b383fcd",
   "metadata": {},
   "outputs": [],
   "source": [
    "import os"
   ]
  },
  {
   "cell_type": "code",
   "execution_count": 78,
   "id": "abd70047",
   "metadata": {},
   "outputs": [],
   "source": [
    "os.chdir('c:\\\\windows')"
   ]
  },
  {
   "cell_type": "code",
   "execution_count": 79,
   "id": "c526b908",
   "metadata": {},
   "outputs": [
    {
     "data": {
      "text/plain": [
       "'c:\\\\windows'"
      ]
     },
     "execution_count": 79,
     "metadata": {},
     "output_type": "execute_result"
    }
   ],
   "source": [
    "os.getcwd()"
   ]
  },
  {
   "cell_type": "code",
   "execution_count": 80,
   "id": "a6be9a22",
   "metadata": {},
   "outputs": [],
   "source": [
    "os.chdir('c:\\\\project\\\\py_project')"
   ]
  },
  {
   "cell_type": "code",
   "execution_count": 81,
   "id": "cd328942",
   "metadata": {},
   "outputs": [],
   "source": [
    "# mkdir 디렉 만듬\n",
    "os.mkdir('test')"
   ]
  },
  {
   "cell_type": "code",
   "execution_count": 82,
   "id": "3fc554d5",
   "metadata": {},
   "outputs": [],
   "source": [
    "# rmdir 디렉 삭제\n",
    "os.rmdir('test')"
   ]
  },
  {
   "cell_type": "code",
   "execution_count": 83,
   "id": "3ee2968c",
   "metadata": {},
   "outputs": [],
   "source": [
    "import json"
   ]
  },
  {
   "cell_type": "code",
   "execution_count": 84,
   "id": "a6134781",
   "metadata": {},
   "outputs": [],
   "source": [
    "with open('data.json','r',encoding='utf8') as f:\n",
    "    data = json.load(f)"
   ]
  },
  {
   "cell_type": "code",
   "execution_count": 85,
   "id": "72652bbc",
   "metadata": {},
   "outputs": [
    {
     "name": "stdout",
     "output_type": "stream",
     "text": [
      "{'name': '손흥민', 'age': 30, 'number': 7} <class 'dict'>\n"
     ]
    }
   ],
   "source": [
    "print(data, type(data))"
   ]
  },
  {
   "cell_type": "code",
   "execution_count": 86,
   "id": "96855c82",
   "metadata": {},
   "outputs": [],
   "source": [
    "# dumps --  타입 변환 dict -> str\n",
    "json_str_data = json.dumps(data)"
   ]
  },
  {
   "cell_type": "code",
   "execution_count": 87,
   "id": "79748c20",
   "metadata": {},
   "outputs": [
    {
     "name": "stdout",
     "output_type": "stream",
     "text": [
      "{\"name\": \"\\uc190\\ud765\\ubbfc\", \"age\": 30, \"number\": 7} <class 'str'>\n"
     ]
    }
   ],
   "source": [
    "print(json_str_data, type(json_str_data))"
   ]
  },
  {
   "cell_type": "markdown",
   "id": "4dbb8220",
   "metadata": {},
   "source": [
    "pip install 모듈이름 - 필요한 모듈 설치"
   ]
  },
  {
   "cell_type": "code",
   "execution_count": 93,
   "id": "295b9725",
   "metadata": {},
   "outputs": [],
   "source": [
    "import numpy"
   ]
  },
  {
   "cell_type": "code",
   "execution_count": null,
   "id": "2211e0b3",
   "metadata": {},
   "outputs": [],
   "source": []
  },
  {
   "cell_type": "code",
   "execution_count": 94,
   "id": "93d6e976",
   "metadata": {},
   "outputs": [
    {
     "name": "stdout",
     "output_type": "stream",
     "text": [
      "[ 1.  4.  7. 10.]\n"
     ]
    }
   ],
   "source": [
    "#지정된 범위 안에서 동일한 간격으로 숫자를 생성\n",
    "# 0~1 5개로 구분\n",
    "linspace = numpy.linspace(1,10,4)\n",
    "print(linspace)"
   ]
  },
  {
   "cell_type": "code",
   "execution_count": 95,
   "id": "7040eb0e",
   "metadata": {},
   "outputs": [],
   "source": [
    "#배열의 속성 확인\n",
    "arr1 = numpy.array([[1,2],[3,4]])"
   ]
  },
  {
   "cell_type": "code",
   "execution_count": 96,
   "id": "0781de02",
   "metadata": {},
   "outputs": [
    {
     "name": "stdout",
     "output_type": "stream",
     "text": [
      "<class 'numpy.ndarray'>\n",
      "(2, 2)\n",
      "2\n"
     ]
    }
   ],
   "source": [
    "print(type(arr1))\n",
    "print(arr1.shape) # 크기\n",
    "print(arr1.ndim)  # 차원"
   ]
  }
 ],
 "metadata": {
  "kernelspec": {
   "display_name": "Python 3",
   "language": "python",
   "name": "python3"
  },
  "language_info": {
   "codemirror_mode": {
    "name": "ipython",
    "version": 3
   },
   "file_extension": ".py",
   "mimetype": "text/x-python",
   "name": "python",
   "nbconvert_exporter": "python",
   "pygments_lexer": "ipython3",
   "version": "3.13.4"
  }
 },
 "nbformat": 4,
 "nbformat_minor": 5
}
