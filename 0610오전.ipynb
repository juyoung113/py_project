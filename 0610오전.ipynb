{
 "cells": [
  {
   "cell_type": "code",
   "execution_count": 184,
   "id": "61d8cd21",
   "metadata": {},
   "outputs": [
    {
     "data": {
      "text/plain": [
       "4"
      ]
     },
     "execution_count": 184,
     "metadata": {},
     "output_type": "execute_result"
    }
   ],
   "source": [
    "list_a = [1,2,3,4]\n",
    "list_a\n",
    "list_a[-1]\n",
    "list_a[len(list_a)-1]  # N-1\n"
   ]
  },
  {
   "cell_type": "code",
   "execution_count": 185,
   "id": "09159162",
   "metadata": {},
   "outputs": [],
   "source": [
    "list_b = [ 1, 2, 3, ['a','b','c']]\n",
    "#          0  1  2         3\n",
    "# =      [int,int,int, list]\n"
   ]
  },
  {
   "cell_type": "code",
   "execution_count": 186,
   "id": "a28d192a",
   "metadata": {},
   "outputs": [
    {
     "data": {
      "text/plain": [
       "4"
      ]
     },
     "execution_count": 186,
     "metadata": {},
     "output_type": "execute_result"
    }
   ],
   "source": [
    "len(list_b)"
   ]
  },
  {
   "cell_type": "code",
   "execution_count": 187,
   "id": "0489e8fb",
   "metadata": {},
   "outputs": [
    {
     "name": "stdout",
     "output_type": "stream",
     "text": [
      "1\n",
      "2\n",
      "3\n",
      "['a', 'b', 'c']\n",
      "a b c\n"
     ]
    }
   ],
   "source": [
    "print(list_b[0])\n",
    "print(list_b[1])\n",
    "print(list_b[2])\n",
    "print(list_b[3]) # list\n",
    "print(list_b[3][0],list_b[3][1],list_b[3][2]) #list안의 인덱스\n",
    "#     list를 가리키는 주소값[index]"
   ]
  },
  {
   "cell_type": "code",
   "execution_count": 188,
   "id": "6d5198ee",
   "metadata": {},
   "outputs": [],
   "source": [
    "#슬라이싱 \n",
    "list_c = [1,2,3,4,5]\n",
    "#         0 1 2 3 4"
   ]
  },
  {
   "cell_type": "code",
   "execution_count": 189,
   "id": "ddc70de7",
   "metadata": {},
   "outputs": [
    {
     "data": {
      "text/plain": [
       "[3, 4, 5]"
      ]
     },
     "execution_count": 189,
     "metadata": {},
     "output_type": "execute_result"
    }
   ],
   "source": [
    "list_c[1:4]\n",
    "list_c[:4] # 맨 처음 : 맨 뒤 (생략 가능)\n",
    "list_c[2:]"
   ]
  },
  {
   "cell_type": "code",
   "execution_count": 190,
   "id": "adde6fb4",
   "metadata": {},
   "outputs": [],
   "source": [
    "list_d = [100,200,300]"
   ]
  },
  {
   "cell_type": "code",
   "execution_count": 191,
   "id": "f406cbd3",
   "metadata": {},
   "outputs": [
    {
     "data": {
      "text/plain": [
       "[1, 2, 3, 4, 5, 100, 200, 300]"
      ]
     },
     "execution_count": 191,
     "metadata": {},
     "output_type": "execute_result"
    }
   ],
   "source": [
    "list_c\n",
    "list_d\n",
    "list_c + list_d\n",
    "\n",
    "#리스트를 더하여도 c와 d의 기본값은 유지"
   ]
  },
  {
   "cell_type": "code",
   "execution_count": 192,
   "id": "86d8b138",
   "metadata": {},
   "outputs": [
    {
     "data": {
      "text/plain": [
       "[100, 200, 300, 100, 200, 300, 100, 200, 300]"
      ]
     },
     "execution_count": 192,
     "metadata": {},
     "output_type": "execute_result"
    }
   ],
   "source": [
    "# * : 리스트의 요소를 n번 반복해서 저장 -> 새로운 리스트\n",
    "list_d * 3"
   ]
  },
  {
   "cell_type": "code",
   "execution_count": 193,
   "id": "e9d70c86",
   "metadata": {},
   "outputs": [],
   "source": [
    "#리스트에 요소 (데이터) 추가 : 순서 => 마지막 인덱스 다음에 데이터 추가 \n",
    "#append() : 메서드 => 리스트의 마지막에 데이터 추가\n",
    "\n",
    "list_a = [1, 2, 3]"
   ]
  },
  {
   "cell_type": "code",
   "execution_count": 194,
   "id": "71428039",
   "metadata": {},
   "outputs": [
    {
     "data": {
      "text/plain": [
       "[1, 2, 3, 100]"
      ]
     },
     "execution_count": 194,
     "metadata": {},
     "output_type": "execute_result"
    }
   ],
   "source": [
    "list_a.append(100)\n",
    "list_a"
   ]
  },
  {
   "cell_type": "code",
   "execution_count": 195,
   "id": "ce8e2f47",
   "metadata": {},
   "outputs": [
    {
     "data": {
      "text/plain": [
       "1"
      ]
     },
     "execution_count": 195,
     "metadata": {},
     "output_type": "execute_result"
    }
   ],
   "source": [
    "# pop : 마지막 요소 축출 -> 삭제, 값 반환\n",
    "#list_a.pop() # 마지막 값 반환\n",
    "list_a.pop(0) #인덱스 0의 값 삭제"
   ]
  },
  {
   "cell_type": "code",
   "execution_count": 196,
   "id": "00d3db36",
   "metadata": {},
   "outputs": [
    {
     "data": {
      "text/plain": [
       "[2, 3, 100]"
      ]
     },
     "execution_count": 196,
     "metadata": {},
     "output_type": "execute_result"
    }
   ],
   "source": [
    "list_a"
   ]
  },
  {
   "cell_type": "code",
   "execution_count": 197,
   "id": "c7857ae1",
   "metadata": {},
   "outputs": [],
   "source": [
    "list_a = [1,4,8,2,10]"
   ]
  },
  {
   "cell_type": "code",
   "execution_count": 198,
   "id": "274c3a1f",
   "metadata": {},
   "outputs": [],
   "source": [
    "#list_a.sort() #리스트 오름차순 정렬\n",
    "list_a.reverse() #역순 오름 -> 내림"
   ]
  },
  {
   "cell_type": "code",
   "execution_count": 199,
   "id": "35cdf35e",
   "metadata": {},
   "outputs": [
    {
     "data": {
      "text/plain": [
       "[10, 2, 8, 4, 1]"
      ]
     },
     "execution_count": 199,
     "metadata": {},
     "output_type": "execute_result"
    }
   ],
   "source": [
    "list_a"
   ]
  },
  {
   "cell_type": "code",
   "execution_count": 200,
   "id": "d12a9a20",
   "metadata": {},
   "outputs": [
    {
     "data": {
      "text/plain": [
       "3"
      ]
     },
     "execution_count": 200,
     "metadata": {},
     "output_type": "execute_result"
    }
   ],
   "source": [
    "list_a.index(4) # 해당 위치의 값 출력"
   ]
  },
  {
   "cell_type": "code",
   "execution_count": 201,
   "id": "19640c11",
   "metadata": {},
   "outputs": [],
   "source": [
    "list_a.insert(1,100) #1의 위치에 특정 값 추가"
   ]
  },
  {
   "cell_type": "code",
   "execution_count": 202,
   "id": "f490254f",
   "metadata": {},
   "outputs": [
    {
     "name": "stdout",
     "output_type": "stream",
     "text": [
      "[10, 100, 2, 8, 4, 1]\n",
      "[100, 200, 300]\n"
     ]
    }
   ],
   "source": [
    "print(list_a)\n",
    "print(list_d)"
   ]
  },
  {
   "cell_type": "code",
   "execution_count": 203,
   "id": "5ee3fef8",
   "metadata": {},
   "outputs": [],
   "source": [
    "list_a.extend(list_d) #a의 데이터 뒤에 d의 데이터 추가"
   ]
  },
  {
   "cell_type": "code",
   "execution_count": 204,
   "id": "288a220e",
   "metadata": {},
   "outputs": [
    {
     "data": {
      "text/plain": [
       "[10, 100, 2, 8, 4, 1, 100, 200, 300]"
      ]
     },
     "execution_count": 204,
     "metadata": {},
     "output_type": "execute_result"
    }
   ],
   "source": [
    "list_a"
   ]
  },
  {
   "cell_type": "code",
   "execution_count": 205,
   "id": "978c2b30",
   "metadata": {},
   "outputs": [
    {
     "name": "stdout",
     "output_type": "stream",
     "text": [
      "<class 'tuple'>\n"
     ]
    }
   ],
   "source": [
    "#tuple 튜플\n",
    "# : list 와 동일\n",
    "# : 차이점 : 튜플은 변경 불가\n",
    "\n",
    "t_1 = ()\n",
    "print(type(t_1))\n",
    "\n",
    "\n",
    "t_2 = (1, 2, 3, 4)\n",
    "t_3 = 10,20,30,40"
   ]
  },
  {
   "cell_type": "code",
   "execution_count": 206,
   "id": "2c32a225",
   "metadata": {},
   "outputs": [
    {
     "data": {
      "text/plain": [
       "tuple"
      ]
     },
     "execution_count": 206,
     "metadata": {},
     "output_type": "execute_result"
    }
   ],
   "source": [
    "type(t_3)"
   ]
  },
  {
   "cell_type": "code",
   "execution_count": 207,
   "id": "86dcae8a",
   "metadata": {},
   "outputs": [
    {
     "data": {
      "text/plain": [
       "10"
      ]
     },
     "execution_count": 207,
     "metadata": {},
     "output_type": "execute_result"
    }
   ],
   "source": [
    "t_3[0]"
   ]
  },
  {
   "cell_type": "code",
   "execution_count": 208,
   "id": "74e2ce60",
   "metadata": {},
   "outputs": [
    {
     "ename": "TypeError",
     "evalue": "'tuple' object does not support item assignment",
     "output_type": "error",
     "traceback": [
      "\u001b[31m---------------------------------------------------------------------------\u001b[39m",
      "\u001b[31mTypeError\u001b[39m                                 Traceback (most recent call last)",
      "\u001b[36mCell\u001b[39m\u001b[36m \u001b[39m\u001b[32mIn[208]\u001b[39m\u001b[32m, line 1\u001b[39m\n\u001b[32m----> \u001b[39m\u001b[32m1\u001b[39m \u001b[43mt_2\u001b[49m\u001b[43m[\u001b[49m\u001b[32;43m0\u001b[39;49m\u001b[43m]\u001b[49m = \u001b[32m100\u001b[39m\n",
      "\u001b[31mTypeError\u001b[39m: 'tuple' object does not support item assignment"
     ]
    }
   ],
   "source": [
    "t_2[0] = 100"
   ]
  },
  {
   "cell_type": "code",
   "execution_count": null,
   "id": "f1b47bc9",
   "metadata": {},
   "outputs": [
    {
     "data": {
      "text/plain": [
       "(10, 20, 30, 40)"
      ]
     },
     "execution_count": 76,
     "metadata": {},
     "output_type": "execute_result"
    }
   ],
   "source": [
    "t_3[:]"
   ]
  },
  {
   "cell_type": "code",
   "execution_count": null,
   "id": "34b1c290",
   "metadata": {},
   "outputs": [],
   "source": [
    "a, b, c = 1000, 2000, 3000 # 특정 함수에서 반환 데이터 tuple 타입"
   ]
  },
  {
   "cell_type": "code",
   "execution_count": null,
   "id": "7911a149",
   "metadata": {},
   "outputs": [
    {
     "name": "stdout",
     "output_type": "stream",
     "text": [
      "1000 2000 3000\n"
     ]
    }
   ],
   "source": [
    "print(a,b,c)"
   ]
  },
  {
   "cell_type": "code",
   "execution_count": null,
   "id": "7ba73038",
   "metadata": {},
   "outputs": [
    {
     "data": {
      "text/plain": [
       "(1, 2, 3, 4, 10, 20, 30, 40)"
      ]
     },
     "execution_count": 79,
     "metadata": {},
     "output_type": "execute_result"
    }
   ],
   "source": [
    "t_2 + t_3"
   ]
  },
  {
   "cell_type": "code",
   "execution_count": null,
   "id": "78eb8e79",
   "metadata": {},
   "outputs": [
    {
     "data": {
      "text/plain": [
       "(1, 2, 3, 4, 1, 2, 3, 4, 1, 2, 3, 4)"
      ]
     },
     "execution_count": 80,
     "metadata": {},
     "output_type": "execute_result"
    }
   ],
   "source": [
    "t_2 * 3"
   ]
  },
  {
   "cell_type": "code",
   "execution_count": null,
   "id": "fa24f9a6",
   "metadata": {},
   "outputs": [],
   "source": [
    "### tuple은 중가에 변경되지 않고 안전하게 유지\n",
    "### list와 tuple은 많이 다르지 않다."
   ]
  },
  {
   "cell_type": "code",
   "execution_count": null,
   "id": "3280b72e",
   "metadata": {},
   "outputs": [
    {
     "name": "stdout",
     "output_type": "stream",
     "text": [
      "<class 'dict'>\n",
      "{}\n"
     ]
    }
   ],
   "source": [
    "# 딕셔너리 : key : value => key 값으로 데이터 참조\n",
    "# { key1: value1, key2 : value2, ....}\n",
    "\n",
    "dict_1 = {}\n",
    "print(type(dict_1))\n",
    "print(dict_1)"
   ]
  },
  {
   "cell_type": "code",
   "execution_count": null,
   "id": "2f3a33a7",
   "metadata": {},
   "outputs": [
    {
     "name": "stdout",
     "output_type": "stream",
     "text": [
      "{1: 'a'}\n",
      "<class 'dict'>\n"
     ]
    }
   ],
   "source": [
    "dict_2 = {1:'a'}\n",
    "print(dict_2)\n",
    "print(type(dict_2))"
   ]
  },
  {
   "cell_type": "code",
   "execution_count": null,
   "id": "a90485a8",
   "metadata": {},
   "outputs": [
    {
     "data": {
      "text/plain": [
       "{1: 'a', 2: 'b'}"
      ]
     },
     "execution_count": 86,
     "metadata": {},
     "output_type": "execute_result"
    }
   ],
   "source": [
    "# 요소값 추가 -> key 정의, 값 정의\n",
    "\n",
    "dict_2 [2] = 'b'\n",
    "dict_2"
   ]
  },
  {
   "cell_type": "code",
   "execution_count": null,
   "id": "45993bca",
   "metadata": {},
   "outputs": [
    {
     "name": "stdout",
     "output_type": "stream",
     "text": [
      "a\n"
     ]
    }
   ],
   "source": [
    "print(dict_2[1])"
   ]
  },
  {
   "cell_type": "code",
   "execution_count": null,
   "id": "d790add6",
   "metadata": {},
   "outputs": [
    {
     "name": "stdout",
     "output_type": "stream",
     "text": [
      "{1: 'a', 2: 'b', 3: (1, 2, 3)}\n"
     ]
    }
   ],
   "source": [
    "dict_2[3] = (1,2,3)\n",
    "print(dict_2)\n"
   ]
  },
  {
   "cell_type": "code",
   "execution_count": null,
   "id": "7614de43",
   "metadata": {},
   "outputs": [
    {
     "name": "stdout",
     "output_type": "stream",
     "text": [
      "{1: 'a', 2: 'b'}\n"
     ]
    }
   ],
   "source": [
    "del dict_2[3]\n",
    "print(dict_2)"
   ]
  },
  {
   "cell_type": "code",
   "execution_count": null,
   "id": "bcc2d880",
   "metadata": {},
   "outputs": [],
   "source": [
    "# 학생 : 학번, 이름, 학년, 학과\n",
    "\n",
    "student_1 = {\n",
    "    'sno' : 1111,\n",
    "    's_name' : 'kim',\n",
    "    'grade' : 4,\n",
    "    'major' : 'com'\n",
    "}\n"
   ]
  },
  {
   "cell_type": "code",
   "execution_count": null,
   "id": "c24dce24",
   "metadata": {},
   "outputs": [
    {
     "data": {
      "text/plain": [
       "1111"
      ]
     },
     "execution_count": 104,
     "metadata": {},
     "output_type": "execute_result"
    }
   ],
   "source": [
    "student_1['sno'] "
   ]
  },
  {
   "cell_type": "code",
   "execution_count": null,
   "id": "dfac7f6f",
   "metadata": {},
   "outputs": [],
   "source": [
    "player = {\n",
    "    'team' : 'to',\n",
    "    'name' : 'son',\n",
    "    'number' : 7\n",
    "}"
   ]
  },
  {
   "cell_type": "code",
   "execution_count": null,
   "id": "5d64cf90",
   "metadata": {},
   "outputs": [
    {
     "ename": "NameError",
     "evalue": "name 'player' is not defined",
     "output_type": "error",
     "traceback": [
      "\u001b[31m---------------------------------------------------------------------------\u001b[39m",
      "\u001b[31mNameError\u001b[39m                                 Traceback (most recent call last)",
      "\u001b[36mCell\u001b[39m\u001b[36m \u001b[39m\u001b[32mIn[106]\u001b[39m\u001b[32m, line 1\u001b[39m\n\u001b[32m----> \u001b[39m\u001b[32m1\u001b[39m \u001b[43mplayer\u001b[49m.keys() \u001b[38;5;66;03m# 딕셔너리의 키 모두 반환\u001b[39;00m\n\u001b[32m      2\u001b[39m player.values() \u001b[38;5;66;03m# 딕셔너리의 속성 모두 반화\u001b[39;00m\n\u001b[32m      4\u001b[39m player          \u001b[38;5;66;03m# 키:속성 반환\u001b[39;00m\n",
      "\u001b[31mNameError\u001b[39m: name 'player' is not defined"
     ]
    }
   ],
   "source": [
    "player.keys() # 딕셔너리의 키 모두 반환\n",
    "player.values() # 딕셔너리의 속성 모두 반화\n",
    "\n",
    "player          # 키:속성 반환\n",
    "list(player)    # list식으로 반환"
   ]
  },
  {
   "cell_type": "code",
   "execution_count": null,
   "id": "61f2f1d5",
   "metadata": {},
   "outputs": [
    {
     "data": {
      "text/plain": [
       "True"
      ]
     },
     "execution_count": 113,
     "metadata": {},
     "output_type": "execute_result"
    }
   ],
   "source": [
    "'age' in player\n",
    "'name' in player #키가 이 안에 있는지"
   ]
  },
  {
   "cell_type": "code",
   "execution_count": null,
   "id": "d9fb04c8",
   "metadata": {},
   "outputs": [
    {
     "data": {
      "text/plain": [
       "dict_items([('team', 'to'), ('name', 'son'), ('number', 7)])"
      ]
     },
     "execution_count": 116,
     "metadata": {},
     "output_type": "execute_result"
    }
   ],
   "source": [
    "player.items() "
   ]
  },
  {
   "cell_type": "code",
   "execution_count": null,
   "id": "c1596173",
   "metadata": {},
   "outputs": [],
   "source": [
    "list_temp = list(player.items())"
   ]
  },
  {
   "cell_type": "code",
   "execution_count": null,
   "id": "eeea0b49",
   "metadata": {},
   "outputs": [
    {
     "ename": "NameError",
     "evalue": "name 'list_temp' is not defined",
     "output_type": "error",
     "traceback": [
      "\u001b[31m---------------------------------------------------------------------------\u001b[39m",
      "\u001b[31mNameError\u001b[39m                                 Traceback (most recent call last)",
      "\u001b[36mCell\u001b[39m\u001b[36m \u001b[39m\u001b[32mIn[183]\u001b[39m\u001b[32m, line 1\u001b[39m\n\u001b[32m----> \u001b[39m\u001b[32m1\u001b[39m \u001b[43mlist_temp\u001b[49m\n\u001b[32m      2\u001b[39m list_temp[\u001b[32m0\u001b[39m][\u001b[32m0\u001b[39m]\n",
      "\u001b[31mNameError\u001b[39m: name 'list_temp' is not defined"
     ]
    }
   ],
   "source": [
    "list_temp\n",
    "list_temp[0][0]"
   ]
  },
  {
   "cell_type": "code",
   "execution_count": null,
   "id": "b515983d",
   "metadata": {},
   "outputs": [
    {
     "ename": "NameError",
     "evalue": "name 'player' is not defined",
     "output_type": "error",
     "traceback": [
      "\u001b[31m---------------------------------------------------------------------------\u001b[39m",
      "\u001b[31mNameError\u001b[39m                                 Traceback (most recent call last)",
      "\u001b[36mCell\u001b[39m\u001b[36m \u001b[39m\u001b[32mIn[182]\u001b[39m\u001b[32m, line 1\u001b[39m\n\u001b[32m----> \u001b[39m\u001b[32m1\u001b[39m \u001b[43mplayer\u001b[49m.get(\u001b[33m'\u001b[39m\u001b[33mname\u001b[39m\u001b[33m'\u001b[39m)\n",
      "\u001b[31mNameError\u001b[39m: name 'player' is not defined"
     ]
    }
   ],
   "source": [
    "player.get('name')"
   ]
  },
  {
   "cell_type": "code",
   "execution_count": null,
   "id": "3c4bbab9",
   "metadata": {},
   "outputs": [
    {
     "ename": "NameError",
     "evalue": "name 'player' is not defined",
     "output_type": "error",
     "traceback": [
      "\u001b[31m---------------------------------------------------------------------------\u001b[39m",
      "\u001b[31mNameError\u001b[39m                                 Traceback (most recent call last)",
      "\u001b[36mCell\u001b[39m\u001b[36m \u001b[39m\u001b[32mIn[79]\u001b[39m\u001b[32m, line 1\u001b[39m\n\u001b[32m----> \u001b[39m\u001b[32m1\u001b[39m pos = \u001b[43mplayer\u001b[49m.get(\u001b[33m'\u001b[39m\u001b[33mpos\u001b[39m\u001b[33m'\u001b[39m)\n",
      "\u001b[31mNameError\u001b[39m: name 'player' is not defined"
     ]
    }
   ],
   "source": [
    "pos = player.get('pos')"
   ]
  },
  {
   "cell_type": "code",
   "execution_count": 1,
   "id": "2bcf2c18",
   "metadata": {},
   "outputs": [
    {
     "ename": "NameError",
     "evalue": "name 'player' is not defined",
     "output_type": "error",
     "traceback": [
      "\u001b[31m---------------------------------------------------------------------------\u001b[39m",
      "\u001b[31mNameError\u001b[39m                                 Traceback (most recent call last)",
      "\u001b[36mCell\u001b[39m\u001b[36m \u001b[39m\u001b[32mIn[1]\u001b[39m\u001b[32m, line 1\u001b[39m\n\u001b[32m----> \u001b[39m\u001b[32m1\u001b[39m pos1 = \u001b[43mplayer\u001b[49m.get(\u001b[33m'\u001b[39m\u001b[33mpos\u001b[39m\u001b[33m'\u001b[39m,\u001b[33m'\u001b[39m\u001b[33mno pos\u001b[39m\u001b[33m'\u001b[39m)\n",
      "\u001b[31mNameError\u001b[39m: name 'player' is not defined"
     ]
    }
   ],
   "source": [
    "pos1 = player.get('pos','no pos')"
   ]
  }
 ],
 "metadata": {
  "kernelspec": {
   "display_name": ".venv",
   "language": "python",
   "name": "python3"
  },
  "language_info": {
   "codemirror_mode": {
    "name": "ipython",
    "version": 3
   },
   "file_extension": ".py",
   "mimetype": "text/x-python",
   "name": "python",
   "nbconvert_exporter": "python",
   "pygments_lexer": "ipython3",
   "version": "3.13.4"
  }
 },
 "nbformat": 4,
 "nbformat_minor": 5
}
