{
 "cells": [
  {
   "cell_type": "code",
   "execution_count": 1,
   "id": "a5d34aaf",
   "metadata": {},
   "outputs": [
    {
     "name": "stdout",
     "output_type": "stream",
     "text": [
      "56이 추가되었을 때 1000을 넘어갑니다. 1000을 넘긴 최초 값은 1055입니다.\n"
     ]
    }
   ],
   "source": [
    "# while 문의 무한루프\n",
    "# 1부터 시작해서 모든 짝수와 3의 배수를 더해서\n",
    "# 그합이 언제 1000을 넘어서는지\n",
    "# 1000 넘어선 값은 얼만인지\n",
    "\n",
    "n=1\n",
    "s=0\n",
    "\n",
    "while True:\n",
    "    if n % 2 == 0 or n%3==0:\n",
    "        s += n\n",
    "    if s>1000:\n",
    "        break\n",
    "    n+=1\n",
    "print(f'{n}이 추가되었을 때 1000을 넘어갑니다. 1000을 넘긴 최초 값은 {s}입니다.')\n",
    "\n"
   ]
  },
  {
   "cell_type": "code",
   "execution_count": null,
   "id": "94448a82",
   "metadata": {},
   "outputs": [],
   "source": [
    "# 함수 : 데이터를 받고 처리(연산)하고 결과를 반환하는 코드들의 묶음\n",
    "#        -> 호출을 통해 코드를 실행\n",
    "# 중복코드를 줄일 수 있다.-> 유지보수, 관리가 수월해진다.!\n",
    "# def 함수이름(매개변수, 매개변수, ....)\n",
    "#        처리작업 코드들...\n",
    "#       return 값(data : 파이썬에서 제공하는 타입의 모든 데이터)"
   ]
  },
  {
   "cell_type": "markdown",
   "id": "541947b2",
   "metadata": {},
   "source": [
    "함수정의\n",
    "숫자 두개를 받아 => 매개변수\n",
    "덧셈연산을 하고 => 내부 처리 작업\n",
    "결과 값을 반환 => 반환 값"
   ]
  },
  {
   "cell_type": "code",
   "execution_count": null,
   "id": "6a456b10",
   "metadata": {},
   "outputs": [],
   "source": [
    "def add(n1,n2) :    #함수 정의 : 이름, 매개변수\n",
    "    result = n1 + n2    #연산, 처리, 작업\n",
    "    return result       # 결과 값 반환"
   ]
  },
  {
   "cell_type": "code",
   "execution_count": null,
   "id": "1e5bb0a1",
   "metadata": {},
   "outputs": [
    {
     "data": {
      "text/plain": [
       "30"
      ]
     },
     "execution_count": 3,
     "metadata": {},
     "output_type": "execute_result"
    }
   ],
   "source": [
    "add(10,20) # 호출 : 이름과 괄호()안에 매개변수가 받을 수 있는 데이터를 함께 전달"
   ]
  },
  {
   "cell_type": "code",
   "execution_count": 5,
   "id": "c09f6f95",
   "metadata": {},
   "outputs": [
    {
     "name": "stdout",
     "output_type": "stream",
     "text": [
      "<class 'function'>\n"
     ]
    }
   ],
   "source": [
    "print(type(add))"
   ]
  },
  {
   "cell_type": "code",
   "execution_count": 6,
   "id": "b2785a89",
   "metadata": {},
   "outputs": [],
   "source": [
    "# 매개변수가 없는 함수\n",
    "def alert_msg():\n",
    "    #...\n",
    "    return '안녕하세요. 회원님. 감사합니다.'"
   ]
  },
  {
   "cell_type": "code",
   "execution_count": 7,
   "id": "1633c5da",
   "metadata": {},
   "outputs": [
    {
     "data": {
      "text/plain": [
       "'안녕하세요. 회원님. 감사합니다.'"
      ]
     },
     "execution_count": 7,
     "metadata": {},
     "output_type": "execute_result"
    }
   ],
   "source": [
    "alert_msg()"
   ]
  },
  {
   "cell_type": "code",
   "execution_count": 14,
   "id": "c479d3f3",
   "metadata": {},
   "outputs": [],
   "source": [
    "# 매개변수는 있고, 반환값이 없는 함수\n",
    "# 숫자 두개를 받아 덧셈연산의 결과를 출력하는 함수\n",
    "def add_print(n1,n2):\n",
    "    result = n1+n2\n",
    "    print(f'{n1}+{n2}={result}')"
   ]
  },
  {
   "cell_type": "code",
   "execution_count": 16,
   "id": "71ecb23b",
   "metadata": {},
   "outputs": [
    {
     "name": "stdout",
     "output_type": "stream",
     "text": [
      "100+200=300\n"
     ]
    }
   ],
   "source": [
    "add_print(100,200)"
   ]
  },
  {
   "cell_type": "code",
   "execution_count": 15,
   "id": "05bd4774",
   "metadata": {},
   "outputs": [
    {
     "name": "stdout",
     "output_type": "stream",
     "text": [
      "10+200=210\n"
     ]
    }
   ],
   "source": [
    "result_add_print=add_print(10,200)"
   ]
  },
  {
   "cell_type": "code",
   "execution_count": 20,
   "id": "ba517298",
   "metadata": {},
   "outputs": [],
   "source": [
    "# 매개변수도 없고, 반환도 없는 함수\n",
    "def display_menu():\n",
    "    menu='''\n",
    "1. 아메리카노\n",
    "2. 라떼\n",
    "3. 에스츠레소\n",
    "'''\n",
    "    print(menu)"
   ]
  },
  {
   "cell_type": "code",
   "execution_count": 22,
   "id": "c17441ab",
   "metadata": {},
   "outputs": [
    {
     "name": "stdout",
     "output_type": "stream",
     "text": [
      "\n",
      "1. 아메리카노\n",
      "2. 라떼\n",
      "3. 에스츠레소\n",
      "\n"
     ]
    }
   ],
   "source": [
    "display_menu()"
   ]
  },
  {
   "cell_type": "code",
   "execution_count": 23,
   "id": "6beb1b4a",
   "metadata": {},
   "outputs": [],
   "source": [
    "def add_sum(*args):\n",
    "    print(type(args))\n",
    "    print(args)\n",
    "    sum = 0\n",
    "    for num in args:\n",
    "        sum +=num\n",
    "    return sum"
   ]
  },
  {
   "cell_type": "code",
   "execution_count": 25,
   "id": "924c2077",
   "metadata": {},
   "outputs": [
    {
     "name": "stdout",
     "output_type": "stream",
     "text": [
      "<class 'tuple'>\n",
      "(1, 2, 3, 4, 5, 6, 7, 8, 9, 10)\n"
     ]
    },
    {
     "data": {
      "text/plain": [
       "55"
      ]
     },
     "execution_count": 25,
     "metadata": {},
     "output_type": "execute_result"
    }
   ],
   "source": [
    "add_sum(1,2,3,4,5,6,7,8,9,10)"
   ]
  },
  {
   "cell_type": "code",
   "execution_count": 27,
   "id": "ddac76fa",
   "metadata": {},
   "outputs": [],
   "source": [
    "#연산의 타입을 전달 받고 전달되는 숫자들을\n",
    "# 연산한 결과를\n",
    "# 반환하는 함수\n",
    "\n",
    "def add_type(type, *args):\n",
    "    # add, mul\n",
    "    if type == 'add':\n",
    "        result = 0\n",
    "        for num in args:\n",
    "            result += num\n",
    "        return result\n",
    "    else:\n",
    "        print(\"사용 가능한 타입을 입력해주세요!\")"
   ]
  },
  {
   "cell_type": "code",
   "execution_count": 28,
   "id": "3a5217bb",
   "metadata": {},
   "outputs": [],
   "source": [
    "def print_args(**args):\n",
    "    print(args)\n",
    "    print(type(args))"
   ]
  },
  {
   "cell_type": "code",
   "execution_count": 29,
   "id": "34ec5e75",
   "metadata": {},
   "outputs": [
    {
     "name": "stdout",
     "output_type": "stream",
     "text": [
      "{'name': '손흥민', 'age': 20}\n",
      "<class 'dict'>\n"
     ]
    }
   ],
   "source": [
    "print_args(name='손흥민', age = 20)"
   ]
  },
  {
   "cell_type": "code",
   "execution_count": null,
   "id": "9018693a",
   "metadata": {},
   "outputs": [],
   "source": [
    "player1= {\n",
    "    'name':'손흥민'\n",
    "    'age': 20\n",
    "}\n"
   ]
  },
  {
   "cell_type": "code",
   "execution_count": 30,
   "id": "dc46ff3f",
   "metadata": {},
   "outputs": [],
   "source": [
    "def add_mul_return(n1,n2):\n",
    "    add_result = n1+n2\n",
    "    mul_result = n1*n2\n",
    "    return(add_result, mul_result)"
   ]
  },
  {
   "cell_type": "code",
   "execution_count": 31,
   "id": "85cccd5b",
   "metadata": {},
   "outputs": [
    {
     "name": "stdout",
     "output_type": "stream",
     "text": [
      "30 200\n"
     ]
    }
   ],
   "source": [
    "result1, result2 = add_mul_return(10,20)\n",
    "print(result1, result2)"
   ]
  },
  {
   "cell_type": "code",
   "execution_count": 33,
   "id": "1e6c1a12",
   "metadata": {},
   "outputs": [],
   "source": [
    "def add2(n1=0,n2=0):\n",
    "    return n1+n2"
   ]
  },
  {
   "cell_type": "code",
   "execution_count": 34,
   "id": "028e914e",
   "metadata": {},
   "outputs": [
    {
     "data": {
      "text/plain": [
       "1"
      ]
     },
     "execution_count": 34,
     "metadata": {},
     "output_type": "execute_result"
    }
   ],
   "source": [
    "add2(1)"
   ]
  },
  {
   "cell_type": "code",
   "execution_count": 35,
   "id": "27e6f59f",
   "metadata": {},
   "outputs": [],
   "source": [
    "# 이름, 나이, 성별 받아서 출력 함수\n",
    "def say_hi(name, age, gender = True): #Gender = True > 여성\n",
    "    print(f'안녕하세요. 저는 {name}입니다. 나이는{age}입니다.')\n",
    "    if gender :\n",
    "        print(\"여성입니다.\")\n",
    "    else: \n",
    "        print(\"남성입니다.\")"
   ]
  },
  {
   "cell_type": "code",
   "execution_count": 38,
   "id": "cc76d5f1",
   "metadata": {},
   "outputs": [
    {
     "name": "stdout",
     "output_type": "stream",
     "text": [
      "안녕하세요. 저는 king입니다. 나이는20입니다.\n",
      "남성입니다.\n"
     ]
    }
   ],
   "source": [
    "say_hi('king',20,False)"
   ]
  },
  {
   "cell_type": "code",
   "execution_count": 48,
   "id": "67b7cf54",
   "metadata": {},
   "outputs": [],
   "source": [
    "a=1\n",
    "def var_test2():\n",
    "    global a\n",
    "    a = a + 1\n",
    "    print(a)"
   ]
  },
  {
   "cell_type": "code",
   "execution_count": 49,
   "id": "7f9ac3ad",
   "metadata": {},
   "outputs": [
    {
     "name": "stdout",
     "output_type": "stream",
     "text": [
      "2\n"
     ]
    }
   ],
   "source": [
    "var_test2()"
   ]
  },
  {
   "cell_type": "code",
   "execution_count": 50,
   "id": "b31afcce",
   "metadata": {},
   "outputs": [],
   "source": [
    "# lambda 함수 > 한줄로 간단학 표현하는 함수 표현식\n",
    "# 함수이름 > lambda arg1, arg2 ... : 연산\n",
    "# 숫자 두개를 전달받아 덧셈한 결과를 반환하는 함수\n",
    "add3 = lambda n1,n2 : n1+n2"
   ]
  },
  {
   "cell_type": "code",
   "execution_count": 51,
   "id": "fcc4f271",
   "metadata": {},
   "outputs": [
    {
     "data": {
      "text/plain": [
       "110"
      ]
     },
     "execution_count": 51,
     "metadata": {},
     "output_type": "execute_result"
    }
   ],
   "source": [
    "add3(100,10)"
   ]
  },
  {
   "cell_type": "code",
   "execution_count": 53,
   "id": "73715ac0",
   "metadata": {},
   "outputs": [],
   "source": [
    "# 내장함수 : 파이썬 설치 > 기본으로 제공하는 함수\n",
    "\n",
    "st_names = ['king','cool','hot','scott']\n"
   ]
  },
  {
   "cell_type": "code",
   "execution_count": 55,
   "id": "b100c9a1",
   "metadata": {},
   "outputs": [
    {
     "name": "stdout",
     "output_type": "stream",
     "text": [
      "0 king\n",
      "1 cool\n",
      "2 hot\n",
      "3 scott\n"
     ]
    }
   ],
   "source": [
    "# 학생들의 index값을 함께 출력\n",
    "num = 0\n",
    "for name in st_names:\n",
    "    print(num,name)\n",
    "    num +=1"
   ]
  },
  {
   "cell_type": "code",
   "execution_count": 56,
   "id": "77c58614",
   "metadata": {},
   "outputs": [
    {
     "name": "stdout",
     "output_type": "stream",
     "text": [
      "10 king\n",
      "11 cool\n",
      "12 hot\n",
      "13 scott\n"
     ]
    }
   ],
   "source": [
    "for index, name in enumerate(st_names, start= 10):\n",
    "    print(index, name)\n"
   ]
  },
  {
   "cell_type": "code",
   "execution_count": 57,
   "id": "4b651870",
   "metadata": {},
   "outputs": [],
   "source": [
    "# filter : 필터링 (매개변수로 전달되는 함수 : 요소값을 판단해서 논리값으로 반환)을 통해 새로운 리스트를 생성반환\n",
    "# filter(fn,itr)\n",
    "def positive(l) :\n",
    "    result = []\n",
    "    for n in l :\n",
    "        if n > 0:\n",
    "            result.append(n)\n",
    "    return result"
   ]
  },
  {
   "cell_type": "code",
   "execution_count": 59,
   "id": "57611bdd",
   "metadata": {},
   "outputs": [
    {
     "data": {
      "text/plain": [
       "[3, 1, 9, 10, 4]"
      ]
     },
     "execution_count": 59,
     "metadata": {},
     "output_type": "execute_result"
    }
   ],
   "source": [
    "positive([3,1,-1,-3,0,9,10,4])"
   ]
  },
  {
   "cell_type": "code",
   "execution_count": 60,
   "id": "55a6d065",
   "metadata": {},
   "outputs": [],
   "source": [
    "#filter\n",
    "#판별함수\n",
    "def positive_fn(x):\n",
    "    return x>0"
   ]
  },
  {
   "cell_type": "code",
   "execution_count": 62,
   "id": "a9c1ccc1",
   "metadata": {},
   "outputs": [],
   "source": [
    "def pos_fn2(x):\n",
    "    return x%2 == 1"
   ]
  },
  {
   "cell_type": "code",
   "execution_count": 68,
   "id": "857cbb11",
   "metadata": {},
   "outputs": [
    {
     "data": {
      "text/plain": [
       "[10, 20, 30, 40, 50]"
      ]
     },
     "execution_count": 68,
     "metadata": {},
     "output_type": "execute_result"
    }
   ],
   "source": [
    "list(filter(lambda x : x>0 , [3,1,-1,-3,0,9,10,4]))\n",
    "list(filter(lambda x : x%2==1 , [3,1,-1,-3,0,9,10,4]))\n",
    "list(map(lambda x:x*10, [1,2,3,4,5]))"
   ]
  },
  {
   "cell_type": "code",
   "execution_count": 1,
   "id": "3fac9b09",
   "metadata": {},
   "outputs": [],
   "source": [
    "# 파이썬의 입출력(쟈원)\n",
    "# 표준 입출력 > input, print\n",
    "# 텍스트 파일(자원) : 입출력 I/O\n",
    "# 파일 단위 입출력 : open(자원의 경로, 모드)모드 > r,w,a\n",
    "f = open('new_test.txt','w')\n",
    "f.close()\n"
   ]
  },
  {
   "cell_type": "code",
   "execution_count": 4,
   "id": "8f33639a",
   "metadata": {},
   "outputs": [],
   "source": [
    "f =open('new_test.txt','w') # 파일 오픈 w\n",
    "f.write('안녕하세요') # 텍스트 쓰기\n",
    "f.close()"
   ]
  },
  {
   "cell_type": "code",
   "execution_count": 6,
   "id": "ae107b41",
   "metadata": {},
   "outputs": [],
   "source": [
    "f = open('new_test.txt','w')\n",
    "for i in range(1,11):\n",
    "    f.write(f'{i}번째 줄 입력 \\n')\n",
    "f.close()"
   ]
  },
  {
   "cell_type": "code",
   "execution_count": 23,
   "id": "8dfb7f54",
   "metadata": {},
   "outputs": [
    {
     "name": "stdout",
     "output_type": "stream",
     "text": [
      "1번째 줄 입력 \n",
      "\n",
      "2번째 줄 입력 \n",
      "\n",
      "3번째 줄 입력 \n",
      "\n",
      "4번째 줄 입력 \n",
      "\n",
      "5번째 줄 입력 \n",
      "\n",
      "6번째 줄 입력 \n",
      "\n",
      "7번째 줄 입력 \n",
      "\n",
      "8번째 줄 입력 \n",
      "\n",
      "9번째 줄 입력 \n",
      "\n",
      "10번째 줄 입력 \n",
      "\n",
      "새로운 행이 추가됩니다.\n",
      "\n",
      "새로운 행이 추가됩니다.\n",
      "\n",
      "새로운 행이 추가됩니다.\n",
      "\n",
      "새로운 행이 추가됩니다.\n",
      "\n",
      "새로운 행이 추가됩니다.\n",
      "\n",
      "새로운 행이 추가됩니다.\n",
      "\n",
      "새로운 행이 추가됩니다.\n",
      "\n",
      "\n"
     ]
    }
   ],
   "source": [
    "#파일 내용 읽어오기\n",
    "f = open('new_test.txt','r')\n",
    "while True: \n",
    "    line = f.readline()\n",
    "    print(line)\n",
    "    if not line:\n",
    "        break\n",
    "    \n",
    "    \n",
    "f.close()"
   ]
  },
  {
   "cell_type": "code",
   "execution_count": 22,
   "id": "6621c99f",
   "metadata": {},
   "outputs": [
    {
     "name": "stdout",
     "output_type": "stream",
     "text": [
      "['1번째 줄 입력 \\n', '2번째 줄 입력 \\n', '3번째 줄 입력 \\n', '4번째 줄 입력 \\n', '5번째 줄 입력 \\n', '6번째 줄 입력 \\n', '7번째 줄 입력 \\n', '8번째 줄 입력 \\n', '9번째 줄 입력 \\n', '10번째 줄 입력 \\n', '새로운 행이 추가됩니다.\\n', '새로운 행이 추가됩니다.\\n', '새로운 행이 추가됩니다.\\n', '새로운 행이 추가됩니다.\\n', '새로운 행이 추가됩니다.\\n', '새로운 행이 추가됩니다.\\n', '새로운 행이 추가됩니다.\\n']\n"
     ]
    }
   ],
   "source": [
    "f = open('new_test.txt','r')\n",
    "lines=f.readlines()\n",
    "print(lines)\n",
    "f.close()"
   ]
  },
  {
   "cell_type": "code",
   "execution_count": 18,
   "id": "e1b1a24b",
   "metadata": {},
   "outputs": [],
   "source": [
    "# 데이터 추가 append\n",
    "f = open('new_test.txt','a')\n",
    "f.write('새로운 행이 추가됩니다.\\n')\n",
    "f.close()"
   ]
  },
  {
   "cell_type": "code",
   "execution_count": 21,
   "id": "f3380437",
   "metadata": {},
   "outputs": [],
   "source": [
    "# 데이터 추가 append\n",
    "f = open('new_test.txt','a')\n",
    "for i in range(16,21):\n",
    "    f.write('새로운 행이 추가됩니다.\\n')\n",
    "f.close()"
   ]
  },
  {
   "cell_type": "code",
   "execution_count": 24,
   "id": "fbc5b814",
   "metadata": {},
   "outputs": [
    {
     "name": "stdout",
     "output_type": "stream",
     "text": [
      "프로그램을 종료합니다.\n"
     ]
    }
   ],
   "source": [
    "# 예외처리 : 에러 발생시에 비정상적인 종료 막기 위한 처리\n",
    "try :\n",
    "    print(10/0)\n",
    "except:\n",
    "    pass\n",
    "print(\"프로그램을 종료합니다.\")"
   ]
  },
  {
   "cell_type": "code",
   "execution_count": 28,
   "id": "2d5bdf47",
   "metadata": {},
   "outputs": [
    {
     "name": "stdout",
     "output_type": "stream",
     "text": [
      "불가\n"
     ]
    }
   ],
   "source": [
    "try:\n",
    "    age =  int(input(\"나이를 입력하세요\"))\n",
    "except:\n",
    "    print(\"숫자로 입력하세요 \")\n",
    "else:\n",
    "    if age > 18:\n",
    "        print(\"입장\")\n",
    "    else:\n",
    "        print(\"불가\")"
   ]
  },
  {
   "cell_type": "code",
   "execution_count": null,
   "id": "e37cd78c",
   "metadata": {},
   "outputs": [],
   "source": [
    "# 사용자 정의 예외 타입 정의\n",
    "# 논리적인 오류 방생 > 예외로 처리\n",
    "# age > 음수, 500 : 논리적 오류\n",
    "\n",
    "class MyError(Exception):\n",
    "    pass"
   ]
  },
  {
   "cell_type": "code",
   "execution_count": 32,
   "id": "70fab725",
   "metadata": {},
   "outputs": [
    {
     "ename": "NameError",
     "evalue": "name 'MyError' is not defined",
     "output_type": "error",
     "traceback": [
      "\u001b[31m---------------------------------------------------------------------------\u001b[39m",
      "\u001b[31mNameError\u001b[39m                                 Traceback (most recent call last)",
      "\u001b[36mCell\u001b[39m\u001b[36m \u001b[39m\u001b[32mIn[32]\u001b[39m\u001b[32m, line 5\u001b[39m\n\u001b[32m      4\u001b[39m     \u001b[38;5;28;01mif\u001b[39;00m age <\u001b[32m1\u001b[39m \u001b[38;5;129;01mor\u001b[39;00m age>\u001b[32m200\u001b[39m:\n\u001b[32m----> \u001b[39m\u001b[32m5\u001b[39m         \u001b[38;5;28;01mraise\u001b[39;00m \u001b[43mMyError\u001b[49m()\n\u001b[32m      6\u001b[39m \u001b[38;5;28;01mexcept\u001b[39;00m MyError:\n",
      "\u001b[31mNameError\u001b[39m: name 'MyError' is not defined",
      "\nDuring handling of the above exception, another exception occurred:\n",
      "\u001b[31mNameError\u001b[39m                                 Traceback (most recent call last)",
      "\u001b[36mCell\u001b[39m\u001b[36m \u001b[39m\u001b[32mIn[32]\u001b[39m\u001b[32m, line 6\u001b[39m\n\u001b[32m      4\u001b[39m     \u001b[38;5;28;01mif\u001b[39;00m age <\u001b[32m1\u001b[39m \u001b[38;5;129;01mor\u001b[39;00m age>\u001b[32m200\u001b[39m:\n\u001b[32m      5\u001b[39m         \u001b[38;5;28;01mraise\u001b[39;00m MyError()\n\u001b[32m----> \u001b[39m\u001b[32m6\u001b[39m \u001b[38;5;28;01mexcept\u001b[39;00m \u001b[43mMyError\u001b[49m:\n\u001b[32m      7\u001b[39m     \u001b[38;5;28mprint\u001b[39m(\u001b[33m\"\u001b[39m\u001b[33m나이의 입력 범위는 1~200입니다. \u001b[39m\u001b[38;5;130;01m\\n\u001b[39;00m\u001b[33m 다시입력하세요\u001b[39m\u001b[33m\"\u001b[39m)\n\u001b[32m      8\u001b[39m \u001b[38;5;28;01mexcept\u001b[39;00m:\n",
      "\u001b[31mNameError\u001b[39m: name 'MyError' is not defined"
     ]
    }
   ],
   "source": [
    "# 에러 강제 발생\n",
    "try:\n",
    "    age = int(input(\"나이를 입력하세요\"))\n",
    "    if age <1 or age>200:\n",
    "        raise MyError()\n",
    "except MyError:\n",
    "    print(\"나이의 입력 범위는 1~200입니다. \\n 다시입력하세요\")\n",
    "except:\n",
    "    print(\"다시 입력하세요\")\n",
    "else:\n",
    "    print(age)"
   ]
  },
  {
   "cell_type": "code",
   "execution_count": null,
   "id": "1d2b1eb0",
   "metadata": {},
   "outputs": [
    {
     "ename": "",
     "evalue": "",
     "output_type": "error",
     "traceback": [
      "\u001b[1;31mThe kernel failed to start as the Python Environment 'Python 3.13.4' is no longer available. Consider selecting another kernel or refreshing the list of Python Environments."
     ]
    }
   ],
   "source": [
    "pip install numpy"
   ]
  }
 ],
 "metadata": {
  "kernelspec": {
   "display_name": ".venv",
   "language": "python",
   "name": "python3"
  },
  "language_info": {
   "codemirror_mode": {
    "name": "ipython",
    "version": 3
   },
   "file_extension": ".py",
   "mimetype": "text/x-python",
   "name": "python",
   "nbconvert_exporter": "python",
   "pygments_lexer": "ipython3",
   "version": "3.13.4"
  }
 },
 "nbformat": 4,
 "nbformat_minor": 5
}
