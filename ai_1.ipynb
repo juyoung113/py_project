{
 "cells": [
  {
   "cell_type": "markdown",
   "id": "c0c510a4",
   "metadata": {},
   "source": [
    "requests"
   ]
  },
  {
   "cell_type": "code",
   "execution_count": 109,
   "id": "11a5c1ff",
   "metadata": {},
   "outputs": [
    {
     "name": "stdout",
     "output_type": "stream",
     "text": [
      "Requirement already satisfied: requests in c:\\project\\.venv\\lib\\site-packages (2.32.4)\n",
      "Requirement already satisfied: charset_normalizer<4,>=2 in c:\\project\\.venv\\lib\\site-packages (from requests) (3.4.2)\n",
      "Requirement already satisfied: idna<4,>=2.5 in c:\\project\\.venv\\lib\\site-packages (from requests) (3.10)\n",
      "Requirement already satisfied: urllib3<3,>=1.21.1 in c:\\project\\.venv\\lib\\site-packages (from requests) (2.4.0)\n",
      "Requirement already satisfied: certifi>=2017.4.17 in c:\\project\\.venv\\lib\\site-packages (from requests) (2025.6.15)\n",
      "Note: you may need to restart the kernel to use updated packages.\n"
     ]
    }
   ],
   "source": [
    "pip install requests"
   ]
  },
  {
   "cell_type": "code",
   "execution_count": 110,
   "id": "36752202",
   "metadata": {},
   "outputs": [],
   "source": [
    "import requests"
   ]
  },
  {
   "cell_type": "code",
   "execution_count": 111,
   "id": "8ba3e48e",
   "metadata": {},
   "outputs": [],
   "source": [
    "url = 'https://jsonplaceholder.typicode.com/posts'"
   ]
  },
  {
   "cell_type": "code",
   "execution_count": 112,
   "id": "bad8a8d8",
   "metadata": {},
   "outputs": [],
   "source": [
    "response = requests.get(url)"
   ]
  },
  {
   "cell_type": "code",
   "execution_count": 113,
   "id": "3c43fa32",
   "metadata": {},
   "outputs": [
    {
     "data": {
      "text/plain": [
       "str"
      ]
     },
     "execution_count": 113,
     "metadata": {},
     "output_type": "execute_result"
    }
   ],
   "source": [
    "type(response.text)"
   ]
  },
  {
   "cell_type": "code",
   "execution_count": 114,
   "id": "7a822d9c",
   "metadata": {},
   "outputs": [
    {
     "name": "stdout",
     "output_type": "stream",
     "text": [
      "응답 성공\n",
      "[\n",
      "  {\n",
      "    \"userId\": 1,\n",
      "    \"id\": 1,\n",
      "    \"title\": \"sunt aut facere repellat provident occaecati excepturi optio reprehenderit\",\n",
      "    \"body\": \"quia et suscipit\\nsuscipit recusandae consequuntur expedita et cum\\nreprehenderit molestiae ut ut quas totam\\nnostrum rerum est autem sunt rem eveniet architecto\"\n",
      "  },\n",
      "  {\n",
      "    \"userId\": 1,\n",
      "    \"id\": 2,\n",
      "    \"title\": \"qui est esse\",\n",
      "    \"body\": \"est rerum tempor\n"
     ]
    }
   ],
   "source": [
    "if response.status_code==200 :\n",
    "    print('응답 성공')\n",
    "    print(response.text[:400]) #정상처리 응답\n",
    "    \n",
    "else : \n",
    "    print(f'오류 발생 : {response.status_code}')"
   ]
  },
  {
   "cell_type": "code",
   "execution_count": 115,
   "id": "23f43f62",
   "metadata": {},
   "outputs": [],
   "source": [
    "data_obj = response.json() #json형식으로 변환"
   ]
  },
  {
   "cell_type": "code",
   "execution_count": 116,
   "id": "b5ba3151",
   "metadata": {},
   "outputs": [
    {
     "data": {
      "text/plain": [
       "list"
      ]
     },
     "execution_count": 116,
     "metadata": {},
     "output_type": "execute_result"
    }
   ],
   "source": [
    "type(data_obj)"
   ]
  },
  {
   "cell_type": "code",
   "execution_count": 117,
   "id": "e1d95fed",
   "metadata": {},
   "outputs": [
    {
     "name": "stdout",
     "output_type": "stream",
     "text": [
      "title : sunt aut f\n",
      "body : quia et su\n",
      "title : qui est es\n",
      "body : est rerum \n",
      "title : ea molesti\n",
      "body : et iusto s\n",
      "title : eum et est\n",
      "body : ullam et s\n",
      "title : nesciunt q\n",
      "body : repudianda\n",
      "title : dolorem eu\n",
      "body : ut asperna\n",
      "title : magnam fac\n",
      "body : dolore pla\n",
      "title : dolorem do\n",
      "body : dignissimo\n",
      "title : nesciunt i\n",
      "body : consectetu\n",
      "title : optio mole\n",
      "body : quo et exp\n",
      "title : et ea vero\n",
      "body : delectus r\n",
      "title : in quibusd\n",
      "body : itaque id \n",
      "title : dolorum ut\n",
      "body : aut dicta \n",
      "title : voluptatem\n",
      "body : fuga et ac\n",
      "title : eveniet qu\n",
      "body : reprehende\n",
      "title : sint susci\n",
      "body : suscipit n\n",
      "title : fugit volu\n",
      "body : eos volupt\n",
      "title : voluptate \n",
      "body : eveniet qu\n",
      "title : adipisci p\n",
      "body : illum quis\n",
      "title : doloribus \n",
      "body : qui conseq\n",
      "title : asperiores\n",
      "body : repellat a\n",
      "title : dolor sint\n",
      "body : eos qui et\n",
      "title : maxime id \n",
      "body : veritatis \n",
      "title : autem hic \n",
      "body : enim et ex\n",
      "title : rem alias \n",
      "body : ullam cons\n",
      "title : est et qua\n",
      "body : similique \n",
      "title : quasi id e\n",
      "body : eum sed do\n",
      "title : delectus u\n",
      "body : non et qua\n",
      "title : iusto eius\n",
      "body : odit magna\n",
      "title : a quo magn\n",
      "body : alias dolo\n",
      "title : ullam ut q\n",
      "body : debitis ei\n",
      "title : doloremque\n",
      "body : deserunt e\n",
      "title : qui explic\n",
      "body : rerum ut e\n",
      "title : magnam ut \n",
      "body : ea velit p\n",
      "title : id nihil c\n",
      "body : nisi error\n",
      "title : fuga nam a\n",
      "body : ad molliti\n",
      "title : provident \n",
      "body : debitis et\n",
      "title : explicabo \n",
      "body : animi esse\n",
      "title : eos dolore\n",
      "body : corporis r\n",
      "title : enim quo c\n",
      "body : ut volupta\n",
      "title : non est fa\n",
      "body : molestias \n",
      "title : commodi ul\n",
      "body : odio fugit\n",
      "title : eligendi i\n",
      "body : similique \n",
      "title : optio dolo\n",
      "body : temporibus\n",
      "title : ut numquam\n",
      "body : est natus \n",
      "title : aut quo mo\n",
      "body : voluptatem\n",
      "title : quibusdam \n",
      "body : voluptatem\n",
      "title : ut volupta\n",
      "body : voluptates\n",
      "title : laborum no\n",
      "body : inventore \n",
      "title : repellendu\n",
      "body : error susc\n",
      "title : soluta ali\n",
      "body : sunt dolor\n",
      "title : qui enim e\n",
      "body : iusto est \n",
      "title : ut quo aut\n",
      "body : minima har\n",
      "title : sit asperi\n",
      "body : totam corp\n",
      "title : sit vel vo\n",
      "body : debitis ex\n",
      "title : qui et at \n",
      "body : aut est om\n",
      "title : sed ab est\n",
      "body : at pariatu\n",
      "title : voluptatum\n",
      "body : veniam vol\n",
      "title : qui commod\n",
      "body : perspiciat\n",
      "title : consequatu\n",
      "body : asperiores\n",
      "title : voluptatem\n",
      "body : ab nemo op\n",
      "title : beatae eni\n",
      "body : enim asper\n",
      "title : voluptas b\n",
      "body : enim adipi\n",
      "title : et fugit q\n",
      "body : id velit b\n",
      "title : consequatu\n",
      "body : voluptatib\n",
      "title : repudianda\n",
      "body : officia ve\n",
      "title : aliquid eo\n",
      "body : reprehende\n",
      "title : odio quis \n",
      "body : magnam mol\n",
      "title : fugiat quo\n",
      "body : officiis e\n",
      "title : voluptatem\n",
      "body : sunt repel\n",
      "title : et iusto v\n",
      "body : occaecati \n",
      "title : sint hic d\n",
      "body : quam occae\n",
      "title : consequunt\n",
      "body : voluptatem\n",
      "title : enim unde \n",
      "body : odit qui e\n",
      "title : dignissimo\n",
      "body : commodi no\n",
      "title : doloremque\n",
      "body : ut animi f\n",
      "title : necessitat\n",
      "body : modi ut in\n",
      "title : quam volup\n",
      "body : nobis faci\n",
      "title : pariatur c\n",
      "body : libero acc\n",
      "title : labore in \n",
      "body : ex quod do\n",
      "title : tempora re\n",
      "body : facere qui\n",
      "title : laudantium\n",
      "body : ut libero \n",
      "title : odit et vo\n",
      "body : est molest\n",
      "title : optio ipsa\n",
      "body : sint moles\n",
      "title : dolore ver\n",
      "body : similique \n",
      "title : placeat qu\n",
      "body : quasi exce\n",
      "title : nostrum qu\n",
      "body : eos et mol\n",
      "title : sapiente o\n",
      "body : consequatu\n",
      "title : sint solut\n",
      "body : repellat a\n",
      "title : ad iusto o\n",
      "body : minus omni\n",
      "title : aut amet s\n",
      "body : libero vol\n",
      "title : ratione ex\n",
      "body : aut et exc\n",
      "title : beatae sol\n",
      "body : dolorem qu\n",
      "title : qui qui vo\n",
      "body : aspernatur\n",
      "title : id minus l\n",
      "body : earum volu\n",
      "title : quaerat ve\n",
      "body : in non odi\n",
      "title : quas fugia\n",
      "body : eum non bl\n",
      "title : laboriosam\n",
      "body : doloremque\n",
      "title : temporibus\n",
      "body : quo deleni\n",
      "title : at nam con\n",
      "body : cupiditate\n"
     ]
    }
   ],
   "source": [
    "for post in data_obj:\n",
    "    print(f'title : {post['title'][:10]}')\n",
    "    print(f'body : {post['body'][:10]}')"
   ]
  },
  {
   "cell_type": "code",
   "execution_count": 118,
   "id": "72885f19",
   "metadata": {},
   "outputs": [],
   "source": [
    "url = 'https://jsonplaceholder.typicode.com/posts/1'"
   ]
  },
  {
   "cell_type": "code",
   "execution_count": 119,
   "id": "1fef4d81",
   "metadata": {},
   "outputs": [],
   "source": [
    "response1 = requests.get(url)"
   ]
  },
  {
   "cell_type": "code",
   "execution_count": 120,
   "id": "a17d0309",
   "metadata": {},
   "outputs": [],
   "source": [
    "data_obj1 = response.json() #json형식으로 변환"
   ]
  },
  {
   "cell_type": "code",
   "execution_count": 121,
   "id": "f0d5128b",
   "metadata": {},
   "outputs": [],
   "source": [
    "for post in data_obj1:\n",
    "    if id == 1:\n",
    "        print(f'title : {post[\"title\"][:10]}')\n",
    "        print(f'body : {post['body'][:10]}')"
   ]
  },
  {
   "cell_type": "code",
   "execution_count": 122,
   "id": "1bae0ab6",
   "metadata": {},
   "outputs": [],
   "source": [
    "for post in data_obj1:\n",
    "    if id == 1:\n",
    "        print(f'title : {post[\"title\"][:10]}')\n",
    "        print(f'body : {post['body'][:10]}')"
   ]
  },
  {
   "cell_type": "code",
   "execution_count": 123,
   "id": "b897f1f2",
   "metadata": {},
   "outputs": [
    {
     "name": "stdout",
     "output_type": "stream",
     "text": [
      "Requirement already satisfied: beautifulsoup4 in c:\\project\\.venv\\lib\\site-packages (4.13.4)\n",
      "Requirement already satisfied: soupsieve>1.2 in c:\\project\\.venv\\lib\\site-packages (from beautifulsoup4) (2.7)\n",
      "Requirement already satisfied: typing-extensions>=4.0.0 in c:\\project\\.venv\\lib\\site-packages (from beautifulsoup4) (4.13.2)\n",
      "Note: you may need to restart the kernel to use updated packages.\n"
     ]
    }
   ],
   "source": [
    "pip install beautifulsoup4"
   ]
  },
  {
   "cell_type": "code",
   "execution_count": 124,
   "id": "d3dad95d",
   "metadata": {},
   "outputs": [],
   "source": [
    "from bs4 import BeautifulSoup"
   ]
  },
  {
   "cell_type": "code",
   "execution_count": 125,
   "id": "59f1cb7b",
   "metadata": {},
   "outputs": [],
   "source": [
    "html_doc =\"\"\"\n",
    "<html>\n",
    "    <head>\n",
    "        <title>Example Page</title>\n",
    "    </head>\n",
    "    <body>\n",
    "        <h1>Welcome to Web Scraping</h1>\n",
    "    <p class=\"description\">This is an example paragraph.</p>\n",
    "    <a href=\"https://example.com1\">Visit Example1</a>\n",
    "    <a href=\"https://example.com2\">Visit Example2</a>\n",
    "    <a href=\"https://example.com3\">Visit Example3</a>\n",
    "    <a href=\"https://example.com4\">Visit Example4</a>\n",
    "    </body>\n",
    "</html> \"\"\""
   ]
  },
  {
   "cell_type": "code",
   "execution_count": 126,
   "id": "54f61b53",
   "metadata": {},
   "outputs": [],
   "source": [
    "# beautifulsoup 객체 생성"
   ]
  },
  {
   "cell_type": "code",
   "execution_count": 127,
   "id": "c0901a1c",
   "metadata": {},
   "outputs": [],
   "source": [
    "soup = BeautifulSoup(html_doc, 'html.parser')"
   ]
  },
  {
   "cell_type": "code",
   "execution_count": 128,
   "id": "9c63bb9e",
   "metadata": {},
   "outputs": [
    {
     "name": "stdout",
     "output_type": "stream",
     "text": [
      "<title>Example Page</title>\n"
     ]
    }
   ],
   "source": [
    "print(soup.title)  # <title>Example Page</title>"
   ]
  },
  {
   "cell_type": "code",
   "execution_count": 129,
   "id": "d5a71a34",
   "metadata": {},
   "outputs": [
    {
     "name": "stdout",
     "output_type": "stream",
     "text": [
      "Example Page\n",
      "<h1>Welcome to Web Scraping</h1>\n",
      "https://example.com1\n",
      "<p class=\"description\">This is an example paragraph.</p>\n",
      "['description']\n"
     ]
    }
   ],
   "source": [
    "print(soup.title.string)\n",
    "print(soup.h1)\n",
    "print(soup.a['href'])\n",
    "print(soup.p)\n",
    "print(soup.p['class'])"
   ]
  },
  {
   "cell_type": "code",
   "execution_count": 130,
   "id": "706443ca",
   "metadata": {},
   "outputs": [
    {
     "name": "stdout",
     "output_type": "stream",
     "text": [
      "<a href=\"https://example.com1\">Visit Example1</a>\n",
      "[<a href=\"https://example.com1\">Visit Example1</a>, <a href=\"https://example.com2\">Visit Example2</a>, <a href=\"https://example.com3\">Visit Example3</a>, <a href=\"https://example.com4\">Visit Example4</a>]\n"
     ]
    }
   ],
   "source": [
    "# find(tag), find_all(tag)\n",
    "a_tag = soup.find('a')\n",
    "print(a_tag)  # <a href=\"https://example.com1\">Visit Example1</a>\n",
    "a_tags = soup.find_all('a')\n",
    "print(a_tags)  # 모든 <a> 태그를 리스트로 반환"
   ]
  },
  {
   "cell_type": "code",
   "execution_count": 131,
   "id": "cccf33aa",
   "metadata": {},
   "outputs": [
    {
     "name": "stdout",
     "output_type": "stream",
     "text": [
      "https://example.com1\n",
      "https://example.com1\n",
      "https://example.com1\n",
      "https://example.com1\n",
      "['https://example.com1', 'https://example.com1', 'https://example.com1', 'https://example.com1']\n"
     ]
    }
   ],
   "source": [
    "links = []\n",
    "for a_tags in a_tags:\n",
    "    print(a_tag['href'])\n",
    "    links.append(a_tag['href'])\n",
    "print(links) "
   ]
  },
  {
   "cell_type": "code",
   "execution_count": 132,
   "id": "46d43780",
   "metadata": {},
   "outputs": [],
   "source": [
    "html_doc = \"\"\"\n",
    "<html>\n",
    "<head><title>Example Page</title></head>\n",
    "<body>\n",
    "<h1>Welcome to Web Scraping</h1>\n",
    "<p class=\"description\">This is an example paragraph.</p>\n",
    "<a href=\"https://example.com\">Visit Example</a>\n",
    "</body>\n",
    "</html>\n",
    "\"\"\""
   ]
  },
  {
   "cell_type": "code",
   "execution_count": 133,
   "id": "40b416ec",
   "metadata": {},
   "outputs": [],
   "source": [
    "soup = BeautifulSoup(html_doc, 'html.parser')"
   ]
  },
  {
   "cell_type": "code",
   "execution_count": 134,
   "id": "ea1835f2",
   "metadata": {},
   "outputs": [
    {
     "name": "stdout",
     "output_type": "stream",
     "text": [
      "This is an example paragraph.\n"
     ]
    }
   ],
   "source": [
    "#select_one : 클래스의 속성값으로 찾기\n",
    "description = soup.select_one('.description')\n",
    "# 앞에 .을 붙여서 처리 클래스에서 뭔가 선택할때\n",
    "# .  = clss를 의미 / 그 위는 속성 의미\n",
    "print(description.text)  # This is an example paragraph."
   ]
  },
  {
   "cell_type": "code",
   "execution_count": 135,
   "id": "bb76c01c",
   "metadata": {},
   "outputs": [],
   "source": [
    "url = \"https://news.ycombinator.com/\""
   ]
  },
  {
   "cell_type": "code",
   "execution_count": 136,
   "id": "b0a679a0",
   "metadata": {},
   "outputs": [
    {
     "name": "stdout",
     "output_type": "stream",
     "text": [
      "200\n",
      "[\n",
      "  {\n",
      "    \"userId\": 1,\n",
      "    \"id\": 1,\n",
      "    \"title\": \"sunt aut facere repellat provident occaecati excepturi optio reprehenderit\",\n",
      "    \"body\": \"quia et suscipit\\nsuscipit recusandae consequuntur expedita et cum\\nreprehenderit molestiae ut ut quas totam\\nnostrum rerum est autem sunt rem eveniet architecto\"\n",
      "  },\n",
      "  {\n",
      "    \"userId\": 1,\n",
      "    \"id\": 2,\n",
      "    \"title\": \"qui est esse\",\n",
      "    \"body\": \"est rerum tempor\n"
     ]
    }
   ],
   "source": [
    "reaponse = requests.get(url)\n",
    "\n",
    "print(response.status_code)  # 200\n",
    "print(response.text[:400])"
   ]
  },
  {
   "cell_type": "code",
   "execution_count": 137,
   "id": "f47365e2",
   "metadata": {},
   "outputs": [],
   "source": [
    "soup = BeautifulSoup(html_doc, 'html.parser')\n"
   ]
  },
  {
   "cell_type": "code",
   "execution_count": 138,
   "id": "9e032953",
   "metadata": {},
   "outputs": [
    {
     "name": "stdout",
     "output_type": "stream",
     "text": [
      "[<a href=\"https://example.com\">Visit Example</a>]\n"
     ]
    }
   ],
   "source": [
    "print(soup.find_all('a'))"
   ]
  },
  {
   "cell_type": "code",
   "execution_count": 139,
   "id": "4f7df325",
   "metadata": {},
   "outputs": [
    {
     "name": "stdout",
     "output_type": "stream",
     "text": [
      "Link: https://example.com, Text: Visit Example\n"
     ]
    }
   ],
   "source": [
    "for item in soup.find_all('a'):\n",
    "    href = item.get('href')\n",
    "    if href:\n",
    "        print(f\"Link: {href}, Text: {item.text}\")"
   ]
  },
  {
   "cell_type": "code",
   "execution_count": 140,
   "id": "78417d00",
   "metadata": {},
   "outputs": [],
   "source": [
    "url = \"https://news.naver.com/main/list.naver?mode=LSD&mid=sec&sid1=105\"\n"
   ]
  },
  {
   "cell_type": "code",
   "execution_count": 141,
   "id": "1508bfd6",
   "metadata": {},
   "outputs": [],
   "source": [
    "# 요청 헤더 설정 (크롤링 방지 우회를 위해 User-Agent 추가)\n",
    "headers = {\n",
    "    \n",
    "\"User-Agent\": \"Mozilla/5.0 (Windows NT 10.0; Win64; x64) AppleWebKit/537.36 (KHTML, like Gecko) Chrome/114.0.0.0 Safari/537.36\"\n",
    "}\n",
    "news_items = soup.select(\"ul.type06_headline li dt:not(.photo) a\")"
   ]
  },
  {
   "cell_type": "code",
   "execution_count": 142,
   "id": "93c0f131",
   "metadata": {},
   "outputs": [
    {
     "name": "stdout",
     "output_type": "stream",
     "text": [
      "Requirement already satisfied: selenium in c:\\project\\.venv\\lib\\site-packages (4.33.0)\n",
      "Requirement already satisfied: urllib3~=2.4.0 in c:\\project\\.venv\\lib\\site-packages (from urllib3[socks]~=2.4.0->selenium) (2.4.0)\n",
      "Requirement already satisfied: trio~=0.30.0 in c:\\project\\.venv\\lib\\site-packages (from selenium) (0.30.0)\n",
      "Requirement already satisfied: trio-websocket~=0.12.2 in c:\\project\\.venv\\lib\\site-packages (from selenium) (0.12.2)\n",
      "Requirement already satisfied: certifi>=2025.4.26 in c:\\project\\.venv\\lib\\site-packages (from selenium) (2025.6.15)\n",
      "Requirement already satisfied: typing_extensions~=4.13.2 in c:\\project\\.venv\\lib\\site-packages (from selenium) (4.13.2)\n",
      "Requirement already satisfied: websocket-client~=1.8.0 in c:\\project\\.venv\\lib\\site-packages (from selenium) (1.8.0)\n",
      "Requirement already satisfied: attrs>=23.2.0 in c:\\project\\.venv\\lib\\site-packages (from trio~=0.30.0->selenium) (25.3.0)\n",
      "Requirement already satisfied: sortedcontainers in c:\\project\\.venv\\lib\\site-packages (from trio~=0.30.0->selenium) (2.4.0)\n",
      "Requirement already satisfied: idna in c:\\project\\.venv\\lib\\site-packages (from trio~=0.30.0->selenium) (3.10)\n",
      "Requirement already satisfied: outcome in c:\\project\\.venv\\lib\\site-packages (from trio~=0.30.0->selenium) (1.3.0.post0)\n",
      "Requirement already satisfied: sniffio>=1.3.0 in c:\\project\\.venv\\lib\\site-packages (from trio~=0.30.0->selenium) (1.3.1)\n",
      "Requirement already satisfied: cffi>=1.14 in c:\\project\\.venv\\lib\\site-packages (from trio~=0.30.0->selenium) (1.17.1)\n",
      "Requirement already satisfied: wsproto>=0.14 in c:\\project\\.venv\\lib\\site-packages (from trio-websocket~=0.12.2->selenium) (1.2.0)\n",
      "Requirement already satisfied: pysocks!=1.5.7,<2.0,>=1.5.6 in c:\\project\\.venv\\lib\\site-packages (from urllib3[socks]~=2.4.0->selenium) (1.7.1)\n",
      "Requirement already satisfied: pycparser in c:\\project\\.venv\\lib\\site-packages (from cffi>=1.14->trio~=0.30.0->selenium) (2.22)\n",
      "Requirement already satisfied: h11<1,>=0.9.0 in c:\\project\\.venv\\lib\\site-packages (from wsproto>=0.14->trio-websocket~=0.12.2->selenium) (0.16.0)\n",
      "Note: you may need to restart the kernel to use updated packages.\n"
     ]
    }
   ],
   "source": [
    "pip install selenium"
   ]
  },
  {
   "cell_type": "code",
   "execution_count": 143,
   "id": "9c822395",
   "metadata": {},
   "outputs": [],
   "source": [
    "from selenium import webdriver\n",
    "from selenium.webdriver.common.by import By\n",
    "from selenium.webdriver.common.keys import Keys\n",
    "import time"
   ]
  },
  {
   "cell_type": "code",
   "execution_count": 144,
   "id": "d15b7dfa",
   "metadata": {},
   "outputs": [
    {
     "ename": "InvalidSessionIdException",
     "evalue": "Message: invalid session id: session deleted as the browser has closed the connection\nfrom disconnected: not connected to DevTools\n  (Session info: chrome=137.0.7151.104)\nStacktrace:\n\tGetHandleVerifier [0x0x7ff7d0a4fe75+79173]\n\tGetHandleVerifier [0x0x7ff7d0a4fed0+79264]\n\t(No symbol) [0x0x7ff7d0809e5a]\n\t(No symbol) [0x0x7ff7d07f5c25]\n\t(No symbol) [0x0x7ff7d081ac44]\n\t(No symbol) [0x0x7ff7d08903c5]\n\t(No symbol) [0x0x7ff7d08b0922]\n\t(No symbol) [0x0x7ff7d0888743]\n\t(No symbol) [0x0x7ff7d08514c1]\n\t(No symbol) [0x0x7ff7d0852253]\n\tGetHandleVerifier [0x0x7ff7d0d1a2ad+3004797]\n\tGetHandleVerifier [0x0x7ff7d0d146fd+2981325]\n\tGetHandleVerifier [0x0x7ff7d0d33350+3107360]\n\tGetHandleVerifier [0x0x7ff7d0a6a9fe+188622]\n\tGetHandleVerifier [0x0x7ff7d0a7228f+219487]\n\tGetHandleVerifier [0x0x7ff7d0a58dc4+115860]\n\tGetHandleVerifier [0x0x7ff7d0a58f79+116297]\n\tGetHandleVerifier [0x0x7ff7d0a3f528+11256]\n\tBaseThreadInitThunk [0x0x7ffff2f3259d+29]\n\tRtlUserThreadStart [0x0x7ffff430af78+40]\n",
     "output_type": "error",
     "traceback": [
      "\u001b[31m---------------------------------------------------------------------------\u001b[39m",
      "\u001b[31mInvalidSessionIdException\u001b[39m                 Traceback (most recent call last)",
      "\u001b[36mCell\u001b[39m\u001b[36m \u001b[39m\u001b[32mIn[144]\u001b[39m\u001b[32m, line 20\u001b[39m\n\u001b[32m     17\u001b[39m time.sleep(\u001b[32m4\u001b[39m)\n\u001b[32m     19\u001b[39m \u001b[38;5;66;03m# 검색 결과 가져오기\u001b[39;00m\n\u001b[32m---> \u001b[39m\u001b[32m20\u001b[39m results = \u001b[43mdriver\u001b[49m\u001b[43m.\u001b[49m\u001b[43mfind_elements\u001b[49m\u001b[43m(\u001b[49m\u001b[43mBy\u001b[49m\u001b[43m.\u001b[49m\u001b[43mXPATH\u001b[49m\u001b[43m,\u001b[49m\u001b[33;43m'\u001b[39;49m\u001b[33;43m//*[@id=\u001b[39;49m\u001b[33;43m\"\u001b[39;49m\u001b[33;43mrso\u001b[39;49m\u001b[33;43m\"\u001b[39;49m\u001b[33;43m]/div[2]/div[4]/div/div/div/div[1]/div/div/span/a/h3\u001b[39;49m\u001b[33;43m'\u001b[39;49m\u001b[43m)\u001b[49m\n\u001b[32m     21\u001b[39m \u001b[38;5;28mprint\u001b[39m(results)\n\u001b[32m     23\u001b[39m \u001b[38;5;66;03m#driver.quit() #창 종료\u001b[39;00m\n",
      "\u001b[36mFile \u001b[39m\u001b[32mc:\\project\\.venv\\Lib\\site-packages\\selenium\\webdriver\\remote\\webdriver.py:952\u001b[39m, in \u001b[36mWebDriver.find_elements\u001b[39m\u001b[34m(self, by, value)\u001b[39m\n\u001b[32m    948\u001b[39m     \u001b[38;5;28;01mreturn\u001b[39;00m \u001b[38;5;28mself\u001b[39m.execute_script(find_element_js, by.to_dict())\n\u001b[32m    950\u001b[39m \u001b[38;5;66;03m# Return empty list if driver returns null\u001b[39;00m\n\u001b[32m    951\u001b[39m \u001b[38;5;66;03m# See https://github.com/SeleniumHQ/selenium/issues/4555\u001b[39;00m\n\u001b[32m--> \u001b[39m\u001b[32m952\u001b[39m \u001b[38;5;28;01mreturn\u001b[39;00m \u001b[38;5;28;43mself\u001b[39;49m\u001b[43m.\u001b[49m\u001b[43mexecute\u001b[49m\u001b[43m(\u001b[49m\u001b[43mCommand\u001b[49m\u001b[43m.\u001b[49m\u001b[43mFIND_ELEMENTS\u001b[49m\u001b[43m,\u001b[49m\u001b[43m \u001b[49m\u001b[43m{\u001b[49m\u001b[33;43m\"\u001b[39;49m\u001b[33;43musing\u001b[39;49m\u001b[33;43m\"\u001b[39;49m\u001b[43m:\u001b[49m\u001b[43m \u001b[49m\u001b[43mby\u001b[49m\u001b[43m,\u001b[49m\u001b[43m \u001b[49m\u001b[33;43m\"\u001b[39;49m\u001b[33;43mvalue\u001b[39;49m\u001b[33;43m\"\u001b[39;49m\u001b[43m:\u001b[49m\u001b[43m \u001b[49m\u001b[43mvalue\u001b[49m\u001b[43m}\u001b[49m\u001b[43m)\u001b[49m[\u001b[33m\"\u001b[39m\u001b[33mvalue\u001b[39m\u001b[33m\"\u001b[39m] \u001b[38;5;129;01mor\u001b[39;00m []\n",
      "\u001b[36mFile \u001b[39m\u001b[32mc:\\project\\.venv\\Lib\\site-packages\\selenium\\webdriver\\remote\\webdriver.py:447\u001b[39m, in \u001b[36mWebDriver.execute\u001b[39m\u001b[34m(self, driver_command, params)\u001b[39m\n\u001b[32m    445\u001b[39m response = \u001b[38;5;28mself\u001b[39m.command_executor.execute(driver_command, params)\n\u001b[32m    446\u001b[39m \u001b[38;5;28;01mif\u001b[39;00m response:\n\u001b[32m--> \u001b[39m\u001b[32m447\u001b[39m     \u001b[38;5;28;43mself\u001b[39;49m\u001b[43m.\u001b[49m\u001b[43merror_handler\u001b[49m\u001b[43m.\u001b[49m\u001b[43mcheck_response\u001b[49m\u001b[43m(\u001b[49m\u001b[43mresponse\u001b[49m\u001b[43m)\u001b[49m\n\u001b[32m    448\u001b[39m     response[\u001b[33m\"\u001b[39m\u001b[33mvalue\u001b[39m\u001b[33m\"\u001b[39m] = \u001b[38;5;28mself\u001b[39m._unwrap_value(response.get(\u001b[33m\"\u001b[39m\u001b[33mvalue\u001b[39m\u001b[33m\"\u001b[39m, \u001b[38;5;28;01mNone\u001b[39;00m))\n\u001b[32m    449\u001b[39m     \u001b[38;5;28;01mreturn\u001b[39;00m response\n",
      "\u001b[36mFile \u001b[39m\u001b[32mc:\\project\\.venv\\Lib\\site-packages\\selenium\\webdriver\\remote\\errorhandler.py:232\u001b[39m, in \u001b[36mErrorHandler.check_response\u001b[39m\u001b[34m(self, response)\u001b[39m\n\u001b[32m    230\u001b[39m         alert_text = value[\u001b[33m\"\u001b[39m\u001b[33malert\u001b[39m\u001b[33m\"\u001b[39m].get(\u001b[33m\"\u001b[39m\u001b[33mtext\u001b[39m\u001b[33m\"\u001b[39m)\n\u001b[32m    231\u001b[39m     \u001b[38;5;28;01mraise\u001b[39;00m exception_class(message, screen, stacktrace, alert_text)  \u001b[38;5;66;03m# type: ignore[call-arg]  # mypy is not smart enough here\u001b[39;00m\n\u001b[32m--> \u001b[39m\u001b[32m232\u001b[39m \u001b[38;5;28;01mraise\u001b[39;00m exception_class(message, screen, stacktrace)\n",
      "\u001b[31mInvalidSessionIdException\u001b[39m: Message: invalid session id: session deleted as the browser has closed the connection\nfrom disconnected: not connected to DevTools\n  (Session info: chrome=137.0.7151.104)\nStacktrace:\n\tGetHandleVerifier [0x0x7ff7d0a4fe75+79173]\n\tGetHandleVerifier [0x0x7ff7d0a4fed0+79264]\n\t(No symbol) [0x0x7ff7d0809e5a]\n\t(No symbol) [0x0x7ff7d07f5c25]\n\t(No symbol) [0x0x7ff7d081ac44]\n\t(No symbol) [0x0x7ff7d08903c5]\n\t(No symbol) [0x0x7ff7d08b0922]\n\t(No symbol) [0x0x7ff7d0888743]\n\t(No symbol) [0x0x7ff7d08514c1]\n\t(No symbol) [0x0x7ff7d0852253]\n\tGetHandleVerifier [0x0x7ff7d0d1a2ad+3004797]\n\tGetHandleVerifier [0x0x7ff7d0d146fd+2981325]\n\tGetHandleVerifier [0x0x7ff7d0d33350+3107360]\n\tGetHandleVerifier [0x0x7ff7d0a6a9fe+188622]\n\tGetHandleVerifier [0x0x7ff7d0a7228f+219487]\n\tGetHandleVerifier [0x0x7ff7d0a58dc4+115860]\n\tGetHandleVerifier [0x0x7ff7d0a58f79+116297]\n\tGetHandleVerifier [0x0x7ff7d0a3f528+11256]\n\tBaseThreadInitThunk [0x0x7ffff2f3259d+29]\n\tRtlUserThreadStart [0x0x7ffff430af78+40]\n"
     ]
    }
   ],
   "source": [
    "# 웹 드라이버 실행\n",
    "driver = webdriver.Chrome()\n",
    "# Chrome 드라이버를 사용합니다. 다른 브라우저도 가능.\n",
    "\n",
    "driver.get('https://google.com')\n",
    "\n",
    "# 검색창 찾기\n",
    "search_box = driver.find_element(By.NAME, 'q')\n",
    "\n",
    "# 검색어 \n",
    "search_box.send_keys('python')\n",
    "\n",
    "# 엔터키 입력\n",
    "search_box.send_keys(Keys.RETURN)  \n",
    "\n",
    "# 결과가 나올때까지 멈춤\n",
    "time.sleep(4)\n",
    "\n",
    "# 검색 결과 가져오기\n",
    "results = driver.find_elements(By.XPATH,'//*[@id=\"rso\"]/div[2]/div[4]/div/div/div/div[1]/div/div/span/a/h3')\n",
    "print(results)\n",
    "\n",
    "#driver.quit() #창 종료"
   ]
  },
  {
   "cell_type": "code",
   "execution_count": null,
   "id": "01f25df2",
   "metadata": {},
   "outputs": [],
   "source": []
  },
  {
   "cell_type": "code",
   "execution_count": null,
   "id": "a49045fe",
   "metadata": {},
   "outputs": [
    {
     "name": "stdout",
     "output_type": "stream",
     "text": [
      "[<selenium.webdriver.remote.webelement.WebElement (session=\"9928d4ac59d361f704aea70702b6d7f7\", element=\"f.D65C46583082DB9D80FABFB837FA7565.d.FE76126B22AB33EE1DAB81BA22FD2F54.e.93\")>, <selenium.webdriver.remote.webelement.WebElement (session=\"9928d4ac59d361f704aea70702b6d7f7\", element=\"f.D65C46583082DB9D80FABFB837FA7565.d.FE76126B22AB33EE1DAB81BA22FD2F54.e.94\")>, <selenium.webdriver.remote.webelement.WebElement (session=\"9928d4ac59d361f704aea70702b6d7f7\", element=\"f.D65C46583082DB9D80FABFB837FA7565.d.FE76126B22AB33EE1DAB81BA22FD2F54.e.95\")>, <selenium.webdriver.remote.webelement.WebElement (session=\"9928d4ac59d361f704aea70702b6d7f7\", element=\"f.D65C46583082DB9D80FABFB837FA7565.d.FE76126B22AB33EE1DAB81BA22FD2F54.e.96\")>, <selenium.webdriver.remote.webelement.WebElement (session=\"9928d4ac59d361f704aea70702b6d7f7\", element=\"f.D65C46583082DB9D80FABFB837FA7565.d.FE76126B22AB33EE1DAB81BA22FD2F54.e.97\")>, <selenium.webdriver.remote.webelement.WebElement (session=\"9928d4ac59d361f704aea70702b6d7f7\", element=\"f.D65C46583082DB9D80FABFB837FA7565.d.FE76126B22AB33EE1DAB81BA22FD2F54.e.98\")>, <selenium.webdriver.remote.webelement.WebElement (session=\"9928d4ac59d361f704aea70702b6d7f7\", element=\"f.D65C46583082DB9D80FABFB837FA7565.d.FE76126B22AB33EE1DAB81BA22FD2F54.e.99\")>, <selenium.webdriver.remote.webelement.WebElement (session=\"9928d4ac59d361f704aea70702b6d7f7\", element=\"f.D65C46583082DB9D80FABFB837FA7565.d.FE76126B22AB33EE1DAB81BA22FD2F54.e.100\")>, <selenium.webdriver.remote.webelement.WebElement (session=\"9928d4ac59d361f704aea70702b6d7f7\", element=\"f.D65C46583082DB9D80FABFB837FA7565.d.FE76126B22AB33EE1DAB81BA22FD2F54.e.101\")>, <selenium.webdriver.remote.webelement.WebElement (session=\"9928d4ac59d361f704aea70702b6d7f7\", element=\"f.D65C46583082DB9D80FABFB837FA7565.d.FE76126B22AB33EE1DAB81BA22FD2F54.e.102\")>]\n",
      "\"샤넬·에르메스 살 때도 AI 도움 받겠다\"… 럭셔리 고객들, 왜?\n",
      "https://n.news.naver.com/mnews/article/092/0002378316?sid=105\n",
      "'쉬운광고'서 카카오맵 매장 알린다…'우리 매장 알리기' 출시\n",
      "https://n.news.naver.com/mnews/article/421/0008314157?sid=105\n",
      "[포토] SK텔레콤, 이심 개통자 한정 신규영업 재개\n",
      "https://n.news.naver.com/mnews/article/030/0003322078?sid=105\n",
      "텔레픽스, 유럽우주국 주최 심포지엄서 우주쓰레기 대책 논의\n",
      "https://n.news.naver.com/mnews/article/018/0006041124?sid=105\n",
      "[포토] SKT, eSIM 신규영업 재개\n",
      "https://n.news.naver.com/mnews/article/030/0003322076?sid=105\n",
      "LG전자, '한국전쟁 75주년' 라미 현 사진작가 영상 공개\n",
      "https://n.news.naver.com/mnews/article/092/0002378315?sid=105\n",
      "\"AI는 발전이 규제보다 우선, 규제조항 시행 3년 이상 미뤄야\"\n",
      "https://n.news.naver.com/mnews/article/008/0005208065?sid=105\n",
      "[포토] SK텔레콤, 이심 한정 신규영업 재개\n",
      "https://n.news.naver.com/mnews/article/030/0003322074?sid=105\n",
      "국정기획위 \"정부 조직개편에 최우선 집중”\n",
      "https://n.news.naver.com/mnews/article/092/0002378314?sid=105\n",
      "[포토] 이심 개통자 한정 신규영업 재개한 SKT\n",
      "https://n.news.naver.com/mnews/article/030/0003322073?sid=105\n"
     ]
    }
   ],
   "source": [
    "# 웹 드라이버 실행\n",
    "driver = webdriver.Chrome()\n",
    "# Chrome 드라이버를 사용합니다. 다른 브라우저도 가능.\n",
    "url = 'https://news.naver.com/main/list.naver?mode=LSD&mid=sec&sid1=105'\n",
    "driver.get(url)\n",
    "\n",
    "# 검색창 찾기\n",
    "#search_box = driver.find_element(By.NAME, 'q')\n",
    "\n",
    "# 검색어 \n",
    "#search_box.send_keys('python')\n",
    "\n",
    "# 엔터키 입력\n",
    "#search_box.send_keys(Keys.RETURN)  \n",
    "\n",
    "# 결과가 나올때까지 멈춤\n",
    "time.sleep(4)\n",
    "\n",
    "# 검색 결과 가져오기\n",
    "results = driver.find_elements(By.CSS_SELECTOR, 'ul.type06_headline li dt:not(.photo) a')\n",
    "print(results)\n",
    "for item in results:\n",
    "    print(item.text)\n",
    "    print(item.get_attribute('href'))\n",
    "\n",
    "# driver.quit() #창 종료"
   ]
  },
  {
   "cell_type": "markdown",
   "id": "0151a1f9",
   "metadata": {},
   "source": [
    "데이터의 저장"
   ]
  },
  {
   "cell_type": "code",
   "execution_count": null,
   "id": "5158e531",
   "metadata": {},
   "outputs": [],
   "source": [
    "import csv\n",
    "data = [\n",
    "    ['Name', 'Age', 'City'],\n",
    "    ['Alice', 30, 'New York'],\n",
    "    ['Bob', 25, 'Los Angeles'],\n",
    "    ['Charlie', 35, 'Chicago']\n",
    "]\n"
   ]
  },
  {
   "cell_type": "code",
   "execution_count": null,
   "id": "5befee05",
   "metadata": {},
   "outputs": [
    {
     "name": "stdout",
     "output_type": "stream",
     "text": [
      "ok!\n"
     ]
    }
   ],
   "source": [
    "with open('data1.csv', mode='w', encoding='utf-8', newline='') as file:\n",
    "    writer = csv.writer(file)\n",
    "    writer.writerows(data) # 행 한줄 한줄\n",
    "\n",
    "print('ok!')"
   ]
  },
  {
   "cell_type": "code",
   "execution_count": null,
   "id": "af512cb6",
   "metadata": {},
   "outputs": [],
   "source": [
    "#pandas\n",
    "import pandas as pd \n"
   ]
  },
  {
   "cell_type": "code",
   "execution_count": null,
   "id": "fd858861",
   "metadata": {},
   "outputs": [
    {
     "name": "stdout",
     "output_type": "stream",
     "text": [
      "      Name  Age         City\n",
      "0    Alice   30     New York\n",
      "1      Bob   25  Los Angeles\n",
      "2  Charlie   35      Chicago\n"
     ]
    }
   ],
   "source": [
    "data = pd.read_csv('data1.csv')\n",
    "print(data)"
   ]
  },
  {
   "cell_type": "code",
   "execution_count": null,
   "id": "7f9e8636",
   "metadata": {},
   "outputs": [
    {
     "name": "stdout",
     "output_type": "stream",
     "text": [
      "Collecting openpyxl\n",
      "  Downloading openpyxl-3.1.5-py2.py3-none-any.whl.metadata (2.5 kB)\n",
      "Collecting et-xmlfile (from openpyxl)\n",
      "  Downloading et_xmlfile-2.0.0-py3-none-any.whl.metadata (2.7 kB)\n",
      "Downloading openpyxl-3.1.5-py2.py3-none-any.whl (250 kB)\n",
      "Downloading et_xmlfile-2.0.0-py3-none-any.whl (18 kB)\n",
      "Installing collected packages: et-xmlfile, openpyxl\n",
      "\n",
      "   -------------------- ------------------- 1/2 [openpyxl]\n",
      "   -------------------- ------------------- 1/2 [openpyxl]\n",
      "   -------------------- ------------------- 1/2 [openpyxl]\n",
      "   -------------------- ------------------- 1/2 [openpyxl]\n",
      "   -------------------- ------------------- 1/2 [openpyxl]\n",
      "   -------------------- ------------------- 1/2 [openpyxl]\n",
      "   -------------------- ------------------- 1/2 [openpyxl]\n",
      "   -------------------- ------------------- 1/2 [openpyxl]\n",
      "   -------------------- ------------------- 1/2 [openpyxl]\n",
      "   -------------------- ------------------- 1/2 [openpyxl]\n",
      "   -------------------- ------------------- 1/2 [openpyxl]\n",
      "   -------------------- ------------------- 1/2 [openpyxl]\n",
      "   -------------------- ------------------- 1/2 [openpyxl]\n",
      "   -------------------- ------------------- 1/2 [openpyxl]\n",
      "   -------------------- ------------------- 1/2 [openpyxl]\n",
      "   -------------------- ------------------- 1/2 [openpyxl]\n",
      "   -------------------- ------------------- 1/2 [openpyxl]\n",
      "   -------------------- ------------------- 1/2 [openpyxl]\n",
      "   -------------------- ------------------- 1/2 [openpyxl]\n",
      "   -------------------- ------------------- 1/2 [openpyxl]\n",
      "   -------------------- ------------------- 1/2 [openpyxl]\n",
      "   -------------------- ------------------- 1/2 [openpyxl]\n",
      "   -------------------- ------------------- 1/2 [openpyxl]\n",
      "   -------------------- ------------------- 1/2 [openpyxl]\n",
      "   -------------------- ------------------- 1/2 [openpyxl]\n",
      "   -------------------- ------------------- 1/2 [openpyxl]\n",
      "   -------------------- ------------------- 1/2 [openpyxl]\n",
      "   -------------------- ------------------- 1/2 [openpyxl]\n",
      "   -------------------- ------------------- 1/2 [openpyxl]\n",
      "   -------------------- ------------------- 1/2 [openpyxl]\n",
      "   ---------------------------------------- 2/2 [openpyxl]\n",
      "\n",
      "Successfully installed et-xmlfile-2.0.0 openpyxl-3.1.5\n",
      "Note: you may need to restart the kernel to use updated packages.\n"
     ]
    }
   ],
   "source": [
    "pip install openpyxl"
   ]
  },
  {
   "cell_type": "code",
   "execution_count": null,
   "id": "e0645f54",
   "metadata": {},
   "outputs": [],
   "source": [
    "df.to_exel('data1.xlsx')"
   ]
  },
  {
   "cell_type": "code",
   "execution_count": null,
   "id": "ebbff95c",
   "metadata": {},
   "outputs": [],
   "source": [
    "data2 = pd.read_excel('data1.xlsx')"
   ]
  },
  {
   "cell_type": "code",
   "execution_count": null,
   "id": "3b8d7df3",
   "metadata": {},
   "outputs": [
    {
     "data": {
      "text/html": [
       "<div>\n",
       "<style scoped>\n",
       "    .dataframe tbody tr th:only-of-type {\n",
       "        vertical-align: middle;\n",
       "    }\n",
       "\n",
       "    .dataframe tbody tr th {\n",
       "        vertical-align: top;\n",
       "    }\n",
       "\n",
       "    .dataframe thead th {\n",
       "        text-align: right;\n",
       "    }\n",
       "</style>\n",
       "<table border=\"1\" class=\"dataframe\">\n",
       "  <thead>\n",
       "    <tr style=\"text-align: right;\">\n",
       "      <th></th>\n",
       "      <th>Name</th>\n",
       "      <th>Age</th>\n",
       "      <th>City</th>\n",
       "    </tr>\n",
       "  </thead>\n",
       "  <tbody>\n",
       "    <tr>\n",
       "      <th>0</th>\n",
       "      <td>Alice</td>\n",
       "      <td>30</td>\n",
       "      <td>New York</td>\n",
       "    </tr>\n",
       "    <tr>\n",
       "      <th>1</th>\n",
       "      <td>Bob</td>\n",
       "      <td>25</td>\n",
       "      <td>Los Angeles</td>\n",
       "    </tr>\n",
       "    <tr>\n",
       "      <th>2</th>\n",
       "      <td>Charlie</td>\n",
       "      <td>35</td>\n",
       "      <td>Chicago</td>\n",
       "    </tr>\n",
       "  </tbody>\n",
       "</table>\n",
       "</div>"
      ],
      "text/plain": [
       "      Name  Age         City\n",
       "0    Alice   30     New York\n",
       "1      Bob   25  Los Angeles\n",
       "2  Charlie   35      Chicago"
      ]
     },
     "execution_count": 40,
     "metadata": {},
     "output_type": "execute_result"
    }
   ],
   "source": [
    "data2"
   ]
  },
  {
   "cell_type": "code",
   "execution_count": null,
   "id": "9a42e085",
   "metadata": {},
   "outputs": [],
   "source": [
    "\n",
    "import json"
   ]
  },
  {
   "cell_type": "code",
   "execution_count": null,
   "id": "f0a36752",
   "metadata": {},
   "outputs": [],
   "source": [
    "\n",
    "data = {\n",
    "'people': [\n",
    "{'name': 'Alice', 'age': 30, 'city': 'New York'},\n",
    "{'name': 'Bob', 'age': 25, 'city': 'Los Angeles'},\n",
    "{'name': 'Charlie', 'age': 35, 'city': 'Chicago'}\n",
    "]\n",
    "}"
   ]
  },
  {
   "cell_type": "code",
   "execution_count": null,
   "id": "8dad74dc",
   "metadata": {},
   "outputs": [
    {
     "name": "stdout",
     "output_type": "stream",
     "text": [
      "ok\n"
     ]
    }
   ],
   "source": [
    "with open('data1.json', mode='w',encoding='utf-8') as file:\n",
    "    json.dump(data, file, indent=4) # indent 들여쓰기\n",
    "\n",
    "print('ok') "
   ]
  },
  {
   "cell_type": "code",
   "execution_count": null,
   "id": "78f3454f",
   "metadata": {},
   "outputs": [
    {
     "name": "stdout",
     "output_type": "stream",
     "text": [
      "{'people': [{'name': 'Alice', 'age': 30, 'city': 'New York'}, {'name': 'Bob', 'age': 25, 'city': 'Los Angeles'}, {'name': 'Charlie', 'age': 35, 'city': 'Chicago'}]}\n",
      "<class 'dict'>\n"
     ]
    }
   ],
   "source": [
    "with open('data1.json', mode='r')as file:\n",
    "    data_result = json.load(file)\n",
    "    print(data_result)\n",
    "    print(type(data_result))"
   ]
  },
  {
   "cell_type": "code",
   "execution_count": null,
   "id": "284945fe",
   "metadata": {},
   "outputs": [],
   "source": [
    "import sqlite3"
   ]
  },
  {
   "cell_type": "code",
   "execution_count": null,
   "id": "65d73757",
   "metadata": {},
   "outputs": [
    {
     "name": "stdout",
     "output_type": "stream",
     "text": [
      "데이터베이스 연결\n"
     ]
    }
   ],
   "source": [
    "conn = sqlite3.connect('first.db') # first.db 생성됨\n",
    "print('데이터베이스 연결')"
   ]
  },
  {
   "cell_type": "code",
   "execution_count": 147,
   "id": "c7fdb439",
   "metadata": {},
   "outputs": [],
   "source": [
    "conn.close()"
   ]
  },
  {
   "cell_type": "code",
   "execution_count": 149,
   "id": "a3f94d06",
   "metadata": {},
   "outputs": [
    {
     "ename": "OperationalError",
     "evalue": "table user already exists",
     "output_type": "error",
     "traceback": [
      "\u001b[31m---------------------------------------------------------------------------\u001b[39m",
      "\u001b[31mOperationalError\u001b[39m                          Traceback (most recent call last)",
      "\u001b[36mCell\u001b[39m\u001b[36m \u001b[39m\u001b[32mIn[149]\u001b[39m\u001b[32m, line 21\u001b[39m\n\u001b[32m     18\u001b[39m cursor = conn.cursor()\n\u001b[32m     20\u001b[39m \u001b[38;5;66;03m# 3. sql 실행\u001b[39;00m\n\u001b[32m---> \u001b[39m\u001b[32m21\u001b[39m \u001b[43mcursor\u001b[49m\u001b[43m.\u001b[49m\u001b[43mexecute\u001b[49m\u001b[43m(\u001b[49m\u001b[43msql_create\u001b[49m\u001b[43m)\u001b[49m\n\u001b[32m     23\u001b[39m \u001b[38;5;28mprint\u001b[39m(\u001b[33m'\u001b[39m\u001b[33mok!\u001b[39m\u001b[33m'\u001b[39m)\n\u001b[32m     25\u001b[39m \u001b[38;5;66;03m# 4. 연결 종료\u001b[39;00m\n",
      "\u001b[31mOperationalError\u001b[39m: table user already exists"
     ]
    }
   ],
   "source": [
    "#관계형 데이터베이스: 테이블 구조로 데이터를 저장\n",
    "#저장할 수 있는 공간 생성 > table 생성 \n",
    "#sql : create table 테이블 이름(컬럼 이름 , 데이터타입 제약조건, 컬럼)\n",
    "\n",
    "sql_create ='''\n",
    "create table user (\n",
    "    id integer primary key autoincrement,\n",
    "    name text not null,\n",
    "    age integer,\n",
    "    city text \n",
    ")\n",
    "'''\n",
    "#테이블 생성\n",
    "# 1. 데이터베이스 연결\n",
    "conn=sqlite3.connect('first.db')\n",
    "\n",
    "# 2. sql 실행할 수 있는 객체\n",
    "cursor = conn.cursor()\n",
    "\n",
    "# 3. sql 실행\n",
    "cursor.execute(sql_create)\n",
    "\n",
    "print('ok!')\n",
    "\n",
    "# 4. 연결 종료\n",
    "conn.close()"
   ]
  },
  {
   "cell_type": "code",
   "execution_count": 150,
   "id": "466feb1e",
   "metadata": {},
   "outputs": [
    {
     "name": "stdout",
     "output_type": "stream",
     "text": [
      "(1, 'cool', 20, 'London')\n",
      "(2, 'cool', 20, 'London')\n",
      "(3, 'hot', 30, 'seoul')\n",
      "(5, 'cool', 20, 'London')\n",
      "(6, 'hot', 30, 'seoul')\n",
      "(7, 'king', 40, 'busan')\n",
      "(8, 'cool', 20, 'London')\n",
      "(9, 'hot', 30, 'seoul')\n",
      "(10, 'king', 40, 'busan')\n",
      "(11, 'cool', 20, 'London')\n",
      "(12, 'hot', 30, 'seoul')\n",
      "(13, 'king', 40, 'busan')\n",
      "(14, 'cool', 20, 'London')\n",
      "(15, 'hot', 30, 'seoul')\n",
      "(16, 'king', 40, 'busan')\n",
      "(17, 'cool', 20, 'London')\n",
      "(18, 'hot', 30, 'seoul')\n",
      "(19, 'king', 40, 'busan')\n"
     ]
    }
   ],
   "source": [
    "# 데이터 입력 : 행단위 입력 > (이름, 나이, 거주지)\n",
    "# sql = insert into user(name, age, city) values (?,?,?)\n",
    "import sqlite3\n",
    "\n",
    "# 1. 데이터베이스 연결\n",
    "conn = sqlite3.connect('first.db')\n",
    "\n",
    "# 2. 데이터 처리\n",
    "cursor = conn.cursor()\n",
    "sql_insert = 'insert into user(name, age, city) values(?, ?, ?)'\n",
    "#cursor.execute(sql_insert, ('cool',20,'London'))\n",
    "\n",
    "data = [\n",
    "    ('cool',20,'London'),\n",
    "    ('hot',30,'seoul'),\n",
    "    ('king',40,'busan')\n",
    "]\n",
    "# 커서 많을 때 \n",
    "cursor.executemany(sql_insert,data)\n",
    "\n",
    "for row in rows:\n",
    "    print(row) \n",
    "# 입력, 수정, 삭제 => DML (데이터 정의어)\n",
    "# 완료 여부 코드로 지정 => 물리적인 저장\n",
    "conn.commit() # 작업이 끝났으니 파일에 저장\n",
    "conn.close()"
   ]
  },
  {
   "cell_type": "code",
   "execution_count": null,
   "id": "22e2f71c",
   "metadata": {},
   "outputs": [
    {
     "name": "stdout",
     "output_type": "stream",
     "text": [
      "[(1, 'cool', 20, 'London'), (2, 'cool', 20, 'London'), (3, 'hot', 30, 'seoul'), (5, 'cool', 20, 'London'), (6, 'hot', 30, 'seoul'), (7, 'king', 40, 'busan'), (8, 'cool', 20, 'London'), (9, 'hot', 30, 'seoul'), (10, 'king', 40, 'busan'), (11, 'cool', 20, 'London'), (12, 'hot', 30, 'seoul'), (13, 'king', 40, 'busan'), (14, 'cool', 20, 'London'), (15, 'hot', 30, 'seoul'), (16, 'king', 40, 'busan'), (17, 'cool', 20, 'London'), (18, 'hot', 30, 'seoul'), (19, 'king', 40, 'busan')]\n",
      "(1, 'cool', 20, 'London')\n",
      "(2, 'cool', 20, 'London')\n",
      "(3, 'hot', 30, 'seoul')\n",
      "(5, 'cool', 20, 'London')\n",
      "(6, 'hot', 30, 'seoul')\n",
      "(7, 'king', 40, 'busan')\n",
      "(8, 'cool', 20, 'London')\n",
      "(9, 'hot', 30, 'seoul')\n",
      "(10, 'king', 40, 'busan')\n",
      "(11, 'cool', 20, 'London')\n",
      "(12, 'hot', 30, 'seoul')\n",
      "(13, 'king', 40, 'busan')\n",
      "(14, 'cool', 20, 'London')\n",
      "(15, 'hot', 30, 'seoul')\n",
      "(16, 'king', 40, 'busan')\n",
      "(17, 'cool', 20, 'London')\n",
      "(18, 'hot', 30, 'seoul')\n",
      "(19, 'king', 40, 'busan')\n"
     ]
    }
   ],
   "source": [
    "# 질의 (검색) : 데이터 검색 -> 행단위 검색\n",
    "# sql = select 컬럼이름들, ... from 테이블 이름[where 컬럼이름기준으로 비교 연산]\n",
    "\n",
    "# 1. 연결\n",
    "conn = sqlite3.connect('first.db')\n",
    "\n",
    "# 2. 데이터 처리\n",
    "cursor = conn.cursor()\n",
    "sql_select = 'select * from user'\n",
    "#sql_select = 'select * from user where id > 2'\n",
    "#sql_select = 'select name, age from user where id > 2'\n",
    "\n",
    "cursor.execute(sql_select)\n",
    "\n",
    "# select 결과 > fetchall(), fetchone()\n",
    "rows= cursor.fetchall()\n",
    "print(rows)\n",
    "\n",
    "for row in rows:\n",
    "    print(row)  # tuple형식의 데이터\n",
    "\n",
    "conn.close()"
   ]
  },
  {
   "cell_type": "code",
   "execution_count": null,
   "id": "751b6b60",
   "metadata": {},
   "outputs": [
    {
     "name": "stdout",
     "output_type": "stream",
     "text": [
      "[('hot', 30), ('king', 40)]\n",
      "변경 완료\n"
     ]
    }
   ],
   "source": [
    "# 데이터 수정 : 행 단위 데이터 수정\n",
    "# 행을 찾고 > 행의 컬럼의 값을 변경(삭제, 입력, 치환)\n",
    "# sql = update 테이블 이름 set 컬럼이름 = 값, 컬럼이름 = 값, ... [where 조건식]\n",
    "\n",
    "# 1. 연결\n",
    "conn = sqlite3.connect('first.db')\n",
    "\n",
    "# 2. 데이터 처리\n",
    "cursor = conn.cursor()\n",
    "sql_update = 'update user set age = ? where id = ? '\n",
    "\n",
    "cursor.execute(sql_update,(60, 4))\n",
    "print(rows)\n",
    "conn.commit()\n",
    "print('변경 완료')\n",
    "conn.close()\n"
   ]
  },
  {
   "cell_type": "code",
   "execution_count": 161,
   "id": "018d7e2a",
   "metadata": {},
   "outputs": [],
   "source": [
    "#데이터 삭제 : 행 단위 삭제\n",
    "# sql = delete from 테이블이름 where 조건식\n",
    "\n",
    "import sqlite3\n",
    "\n",
    "conn = sqlite3.connect('first.db')\n",
    "cursor = conn.cursor()\n",
    "sql_delete = 'DELETE FROM user WHERE id >= 4'\n",
    "cursor.execute(sql_delete)\n",
    "conn.commit()\n",
    "conn.close()\n"
   ]
  },
  {
   "cell_type": "code",
   "execution_count": null,
   "id": "86a325cc",
   "metadata": {},
   "outputs": [],
   "source": []
  }
 ],
 "metadata": {
  "kernelspec": {
   "display_name": ".venv",
   "language": "python",
   "name": "python3"
  },
  "language_info": {
   "codemirror_mode": {
    "name": "ipython",
    "version": 3
   },
   "file_extension": ".py",
   "mimetype": "text/x-python",
   "name": "python",
   "nbconvert_exporter": "python",
   "pygments_lexer": "ipython3",
   "version": "3.13.4"
  }
 },
 "nbformat": 4,
 "nbformat_minor": 5
}
