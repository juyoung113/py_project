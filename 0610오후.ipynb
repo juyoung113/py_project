{
 "cells": [
  {
   "cell_type": "code",
   "execution_count": null,
   "id": "18ba4876",
   "metadata": {},
   "outputs": [],
   "source": [
    "# 6월 10일 \n",
    "# 오전 list/tuple / 딕셔너리 \n",
    "# 오후  set~"
   ]
  },
  {
   "cell_type": "code",
   "execution_count": null,
   "id": "7670e8e3",
   "metadata": {},
   "outputs": [],
   "source": [
    "# set (집합)\n",
    "# 중복, 순서 x , 집합 연산 사용\n",
    "# 순서가 필요하면 list, tuple 중 하나로 형 변환 필요"
   ]
  },
  {
   "cell_type": "code",
   "execution_count": 1,
   "id": "180637c8",
   "metadata": {},
   "outputs": [
    {
     "data": {
      "text/plain": [
       "{1, 2, 3, 4, 5}"
      ]
     },
     "execution_count": 1,
     "metadata": {},
     "output_type": "execute_result"
    }
   ],
   "source": [
    "s_1 = set([1,2,3,4,1,2,5])\n",
    "s_1 "
   ]
  },
  {
   "cell_type": "code",
   "execution_count": 2,
   "id": "d605d8f0",
   "metadata": {},
   "outputs": [
    {
     "data": {
      "text/plain": [
       "{'e', 'h', 'l', 'o'}"
      ]
     },
     "execution_count": 2,
     "metadata": {},
     "output_type": "execute_result"
    }
   ],
   "source": [
    "set_2 = set('hello')\n",
    "set_2"
   ]
  },
  {
   "cell_type": "code",
   "execution_count": 3,
   "id": "e654790f",
   "metadata": {},
   "outputs": [
    {
     "name": "stdout",
     "output_type": "stream",
     "text": [
      "[1, 2, 3, 4, 5]\n"
     ]
    }
   ],
   "source": [
    "list_1=list(s_1)\n",
    "print(list_1)"
   ]
  },
  {
   "cell_type": "code",
   "execution_count": 9,
   "id": "e5c8d119",
   "metadata": {},
   "outputs": [],
   "source": [
    "set_2=set([1,2,3,4,5,6])\n",
    "set_3 = set([4,5,6,7,8,9])"
   ]
  },
  {
   "cell_type": "code",
   "execution_count": null,
   "id": "4801d036",
   "metadata": {},
   "outputs": [
    {
     "name": "stdout",
     "output_type": "stream",
     "text": [
      "{4, 5, 6}\n",
      "{1, 2, 3, 4, 5, 6, 7, 8, 9}\n",
      "{1, 2, 3}\n"
     ]
    }
   ],
   "source": [
    "print(set_2 & set_3) # 교집합 / 겹치는 것\n",
    "print(set_2 | set_3) # 합집합 / 겹겹치지 않는 것\n",
    "print(set_2 - set_3) # 차집합 / 겹치는 것 빼기"
   ]
  },
  {
   "cell_type": "code",
   "execution_count": 12,
   "id": "fda417ea",
   "metadata": {},
   "outputs": [],
   "source": [
    "#set 에서 데이터 추가(중복 데이터 입력 x) 삭제"
   ]
  },
  {
   "cell_type": "code",
   "execution_count": 13,
   "id": "b67638ac",
   "metadata": {},
   "outputs": [],
   "source": [
    "set_2.add(7)"
   ]
  },
  {
   "cell_type": "code",
   "execution_count": 14,
   "id": "17ed30ed",
   "metadata": {},
   "outputs": [
    {
     "data": {
      "text/plain": [
       "{1, 2, 3, 4, 5, 6, 7}"
      ]
     },
     "execution_count": 14,
     "metadata": {},
     "output_type": "execute_result"
    }
   ],
   "source": [
    "set_2"
   ]
  },
  {
   "cell_type": "code",
   "execution_count": null,
   "id": "bf45ce8f",
   "metadata": {},
   "outputs": [],
   "source": [
    "# remove() - 특정 값 제거하기\n",
    "set_2.remove(7)"
   ]
  },
  {
   "cell_type": "code",
   "execution_count": null,
   "id": "1776da80",
   "metadata": {},
   "outputs": [
    {
     "data": {
      "text/plain": [
       "{1, 2, 3, 4, 5, 6, 7, 8}"
      ]
     },
     "execution_count": 18,
     "metadata": {},
     "output_type": "execute_result"
    }
   ],
   "source": [
    "# update() - 값 여러개 추가하기\n",
    "set_2.update([1, 1, 3, 4 ,7, 8]) \n",
    "set_2"
   ]
  },
  {
   "cell_type": "markdown",
   "id": "97da8d17",
   "metadata": {},
   "source": [
    "------------------------ \n",
    "basic 1 끝\n",
    "basic 2 시작\n",
    "------------------------"
   ]
  },
  {
   "cell_type": "code",
   "execution_count": null,
   "id": "5642c889",
   "metadata": {},
   "outputs": [
    {
     "name": "stdout",
     "output_type": "stream",
     "text": [
      "킥~\n"
     ]
    }
   ],
   "source": [
    "# if 조건문건문: 분기 -> ~라면, 아니라면\n",
    "# 들여쓰기 tab 중요\n",
    "# ex) 성인이라면, 성인이 아닌라면\n",
    "\n",
    "age = 15\n",
    "if age >= 18:\n",
    "    print('환영합니다.')\n",
    "    print('게임을 시작하세요')\n",
    "else:\n",
    "    print('킥~')"
   ]
  },
  {
   "cell_type": "code",
   "execution_count": null,
   "id": "5f43542b",
   "metadata": {},
   "outputs": [
    {
     "name": "stdout",
     "output_type": "stream",
     "text": [
      "짝수\n"
     ]
    }
   ],
   "source": [
    "# 코딩해보기 1번번\n",
    "# 홀수 짝수 판단하기 => 숫자 % 2 : 1 홀수, : 0 짝수\n",
    "\n",
    "num = 12\n",
    "if num % 2 == 0:\n",
    "    print(\"짝수\")\n",
    "else:\n",
    "    print(\"홀수 \")\n"
   ]
  },
  {
   "cell_type": "code",
   "execution_count": null,
   "id": "68d86a1b",
   "metadata": {},
   "outputs": [
    {
     "name": "stdout",
     "output_type": "stream",
     "text": [
      "0 입니다.\n"
     ]
    }
   ],
   "source": [
    "# 코딩해보기 2번번\n",
    "# + 양수, - 음수, 0 판단하기\n",
    "\n",
    "num1 = 0\n",
    "if num1 > 0:\n",
    "    print(\"양수입니다. \")\n",
    "elif num1 < 0:\n",
    "    print(\"음수입니다.\")\n",
    "else:\n",
    "    print(\"0 입니다.\")"
   ]
  },
  {
   "cell_type": "code",
   "execution_count": 10,
   "id": "f97201b6",
   "metadata": {},
   "outputs": [
    {
     "name": "stdout",
     "output_type": "stream",
     "text": [
      "PASS\n"
     ]
    }
   ],
   "source": [
    "# 운전면허 시험\n",
    "\n",
    "score = 85\n",
    "check_msg = \"PASS\" if score >= 80 else 'FAIL'\n",
    "print(check_msg)\n"
   ]
  },
  {
   "cell_type": "code",
   "execution_count": 11,
   "id": "412206a4",
   "metadata": {},
   "outputs": [
    {
     "name": "stdout",
     "output_type": "stream",
     "text": [
      "FAIL\n"
     ]
    }
   ],
   "source": [
    "score = 55\n",
    "check_msg = 'PASS'\n",
    "if score < 80:\n",
    "    check_msg  = 'FAIL'\n",
    "print(check_msg)"
   ]
  },
  {
   "cell_type": "code",
   "execution_count": 13,
   "id": "3a6fa823",
   "metadata": {},
   "outputs": [
    {
     "name": "stdout",
     "output_type": "stream",
     "text": [
      "이주영 <class 'str'>\n"
     ]
    }
   ],
   "source": [
    "# 표준 출력 함수 => print()\n",
    "# 표준 입력 함수 => input()\n",
    "\n",
    "user_name = input()\n",
    "print(user_name,type(user_name))"
   ]
  },
  {
   "cell_type": "code",
   "execution_count": 21,
   "id": "10673fc6",
   "metadata": {},
   "outputs": [
    {
     "name": "stdout",
     "output_type": "stream",
     "text": [
      "무료 예방접종이 불가능합니다.\n"
     ]
    }
   ],
   "source": [
    "# 코딩해보기 3번\n",
    "\n",
    "age = int(input(\"나이를 입력하세요\"))\n",
    "msg = \"무료 예방접종이 가능합니다.\"\n",
    "\n",
    "if age < 15 or age >= 65:\n",
    "    print(msg)\n",
    "else :\n",
    "    msg = \"무료 예방접종이 불가능합니다.\"\n",
    "    print(msg)"
   ]
  },
  {
   "cell_type": "code",
   "execution_count": null,
   "id": "c3073d04",
   "metadata": {},
   "outputs": [],
   "source": [
    "# while ~ break 반복문\n",
    "# 조건식을 통해서 반복 -> 탈출이 가능해야 한다.\n"
   ]
  },
  {
   "cell_type": "code",
   "execution_count": 31,
   "id": "87bcd80e",
   "metadata": {},
   "outputs": [
    {
     "name": "stdout",
     "output_type": "stream",
     "text": [
      "1\n",
      "3\n",
      "5\n",
      "7\n",
      "9\n",
      "11\n"
     ]
    }
   ],
   "source": [
    "#1~10 중 홀수만 출력\n",
    "\n",
    "cnt = 0\n",
    "while cnt < 11:\n",
    "    cnt += 1\n",
    "\n",
    "    if cnt% 2 ==1:\n",
    "        print(cnt)"
   ]
  },
  {
   "cell_type": "code",
   "execution_count": 36,
   "id": "2f1aa8dc",
   "metadata": {},
   "outputs": [
    {
     "name": "stdout",
     "output_type": "stream",
     "text": [
      "1\n",
      "3\n",
      "5\n",
      "7\n",
      "9\n"
     ]
    }
   ],
   "source": [
    "cnt = 0\n",
    "while cnt <10:\n",
    "    cnt += 1\n",
    "\n",
    "    if cnt % 2 ==0:\n",
    "        continue\n",
    "    print(cnt)"
   ]
  },
  {
   "cell_type": "code",
   "execution_count": 38,
   "id": "0c55b56b",
   "metadata": {},
   "outputs": [],
   "source": [
    "list_a = [1,2,3,4,5,100,200,300]"
   ]
  },
  {
   "cell_type": "code",
   "execution_count": 39,
   "id": "b7459253",
   "metadata": {},
   "outputs": [
    {
     "name": "stdout",
     "output_type": "stream",
     "text": [
      "1\n",
      "2\n",
      "3\n",
      "4\n",
      "5\n",
      "100\n",
      "200\n",
      "300\n"
     ]
    }
   ],
   "source": [
    "for i in list_a:\n",
    "    print(i)"
   ]
  },
  {
   "cell_type": "code",
   "execution_count": 43,
   "id": "66f7c556",
   "metadata": {},
   "outputs": [],
   "source": [
    "list_b = [(1,2),(3,4),(5,6)]"
   ]
  },
  {
   "cell_type": "code",
   "execution_count": 44,
   "id": "6c73b273",
   "metadata": {},
   "outputs": [
    {
     "name": "stdout",
     "output_type": "stream",
     "text": [
      "1 2\n",
      "3 4\n",
      "5 6\n"
     ]
    }
   ],
   "source": [
    "for n1, n2 in list_b:\n",
    "    print(n1,n2)"
   ]
  },
  {
   "cell_type": "code",
   "execution_count": 54,
   "id": "c4b5092f",
   "metadata": {},
   "outputs": [
    {
     "name": "stdout",
     "output_type": "stream",
     "text": [
      "1 80 pass\n",
      "2 50 fail\n",
      "3 70 pass\n",
      "4 100 pass\n",
      "5 55 fail\n",
      "총점 :  355\n",
      "평균 :  71.0\n"
     ]
    }
   ],
   "source": [
    "# 5명의 학생이 영어 시험 => 60점 이상 pass 출력\n",
    "# 5명의 영어점수 총점, 평균값\n",
    "\n",
    "scores = [80,50,70,100,55]\n",
    "num = 0 #학생들의 일련번호\n",
    "sum = 0 #총점\n",
    "agv = 0 #평균\n",
    "\n",
    "\n",
    "\n",
    "for score in scores:\n",
    "    num += 1\n",
    "\n",
    "    if score >= 60:\n",
    "        print(num, score, 'pass')\n",
    "    else:\n",
    "        print(num, score, 'fail')\n",
    "\n",
    "    sum += score\n",
    "print(\"총점 : \",sum)\n",
    "\n",
    "agv = sum/len(scores)\n",
    "print(\"평균 : \",agv)\n"
   ]
  },
  {
   "cell_type": "code",
   "execution_count": 60,
   "id": "f442ddae",
   "metadata": {},
   "outputs": [
    {
     "name": "stdout",
     "output_type": "stream",
     "text": [
      "1 2 3 4 5 6 7 8 9 10 "
     ]
    }
   ],
   "source": [
    "for i in range(1,11):\n",
    "    print(i,end=' ')"
   ]
  },
  {
   "cell_type": "code",
   "execution_count": 62,
   "id": "c0418060",
   "metadata": {},
   "outputs": [
    {
     "name": "stdout",
     "output_type": "stream",
     "text": [
      "1 2 3 4 5 6 7 8 9 10 \n",
      "2 4 6 8 10 12 14 16 18 20 \n",
      "3 6 9 12 15 18 21 24 27 30 \n",
      "4 8 12 16 20 24 28 32 36 40 \n",
      "5 10 15 20 25 30 35 40 45 50 \n",
      "6 12 18 24 30 36 42 48 54 60 \n",
      "7 14 21 28 35 42 49 56 63 70 \n",
      "8 16 24 32 40 48 56 64 72 80 \n",
      "9 18 27 36 45 54 63 72 81 90 \n"
     ]
    }
   ],
   "source": [
    "for i in range(1,10):\n",
    "    for j in range(1,11):\n",
    "        print(i*j, end=\" \")\n",
    "    print('')\n"
   ]
  },
  {
   "cell_type": "code",
   "execution_count": 70,
   "id": "540fd456",
   "metadata": {},
   "outputs": [
    {
     "name": "stdout",
     "output_type": "stream",
     "text": [
      "1 단\n",
      "1x1=1\n",
      "1x2=2\n",
      "1x3=3\n",
      "1x4=4\n",
      "1x5=5\n",
      "1x6=6\n",
      "1x7=7\n",
      "1x8=8\n",
      "1x9=9\n",
      "1x10=10\n",
      "2 단\n",
      "2x1=2\n",
      "2x2=4\n",
      "2x3=6\n",
      "2x4=8\n",
      "2x5=10\n",
      "2x6=12\n",
      "2x7=14\n",
      "2x8=16\n",
      "2x9=18\n",
      "2x10=20\n",
      "3 단\n",
      "3x1=3\n",
      "3x2=6\n",
      "3x3=9\n",
      "3x4=12\n",
      "3x5=15\n",
      "3x6=18\n",
      "3x7=21\n",
      "3x8=24\n",
      "3x9=27\n",
      "3x10=30\n",
      "4 단\n",
      "4x1=4\n",
      "4x2=8\n",
      "4x3=12\n",
      "4x4=16\n",
      "4x5=20\n",
      "4x6=24\n",
      "4x7=28\n",
      "4x8=32\n",
      "4x9=36\n",
      "4x10=40\n",
      "5 단\n",
      "5x1=5\n",
      "5x2=10\n",
      "5x3=15\n",
      "5x4=20\n",
      "5x5=25\n",
      "5x6=30\n",
      "5x7=35\n",
      "5x8=40\n",
      "5x9=45\n",
      "5x10=50\n",
      "6 단\n",
      "6x1=6\n",
      "6x2=12\n",
      "6x3=18\n",
      "6x4=24\n",
      "6x5=30\n",
      "6x6=36\n",
      "6x7=42\n",
      "6x8=48\n",
      "6x9=54\n",
      "6x10=60\n",
      "7 단\n",
      "7x1=7\n",
      "7x2=14\n",
      "7x3=21\n",
      "7x4=28\n",
      "7x5=35\n",
      "7x6=42\n",
      "7x7=49\n",
      "7x8=56\n",
      "7x9=63\n",
      "7x10=70\n",
      "8 단\n",
      "8x1=8\n",
      "8x2=16\n",
      "8x3=24\n",
      "8x4=32\n",
      "8x5=40\n",
      "8x6=48\n",
      "8x7=56\n",
      "8x8=64\n",
      "8x9=72\n",
      "8x10=80\n",
      "9 단\n",
      "9x1=9\n",
      "9x2=18\n",
      "9x3=27\n",
      "9x4=36\n",
      "9x5=45\n",
      "9x6=54\n",
      "9x7=63\n",
      "9x8=72\n",
      "9x9=81\n",
      "9x10=90\n",
      "10 단\n",
      "10x1=10\n",
      "10x2=20\n",
      "10x3=30\n",
      "10x4=40\n",
      "10x5=50\n",
      "10x6=60\n",
      "10x7=70\n",
      "10x8=80\n",
      "10x9=90\n",
      "10x10=100\n"
     ]
    }
   ],
   "source": [
    "\n",
    "for i in range(1,11):\n",
    "    print(f'{i} 단')\n",
    "    for j in range(1,11):\n",
    "        print(f'{i}x{j}={i*j}' )\n"
   ]
  },
  {
   "cell_type": "code",
   "execution_count": 71,
   "id": "e47907d9",
   "metadata": {},
   "outputs": [
    {
     "name": "stdout",
     "output_type": "stream",
     "text": [
      "[3, 6, 9, 12]\n"
     ]
    }
   ],
   "source": [
    "list_2 = [1,2,3,4]\n",
    "\n",
    "list_result = []\n",
    "for num in list_2:\n",
    "    list_result.append(num*3)\n",
    "\n",
    "print(list_result)"
   ]
  },
  {
   "cell_type": "code",
   "execution_count": 72,
   "id": "c812471a",
   "metadata": {},
   "outputs": [
    {
     "name": "stdout",
     "output_type": "stream",
     "text": [
      "[3, 6, 9, 12]\n"
     ]
    }
   ],
   "source": [
    "list_result_1 = [num*3 for num in list_2]\n",
    "print(list_result_1)"
   ]
  },
  {
   "cell_type": "code",
   "execution_count": 74,
   "id": "c5b8ce56",
   "metadata": {},
   "outputs": [
    {
     "name": "stdout",
     "output_type": "stream",
     "text": [
      "[3, 9]\n"
     ]
    }
   ],
   "source": [
    "list_result_2 = [num*3 for num in list_2 if num%2 == 1]\n",
    "print(list_result_2)"
   ]
  },
  {
   "cell_type": "code",
   "execution_count": null,
   "id": "8ffd5b94",
   "metadata": {},
   "outputs": [
    {
     "name": "stdout",
     "output_type": "stream",
     "text": [
      "5050\n"
     ]
    }
   ],
   "source": [
    "# 코딩해보기 1번\n",
    "# 1 부터 100까지의 합을 구하기\n",
    "s = 0\n",
    "for i in range(1,101):\n",
    "    s += i\n",
    "print(s)"
   ]
  },
  {
   "cell_type": "code",
   "execution_count": 11,
   "id": "acfb1b42",
   "metadata": {},
   "outputs": [
    {
     "name": "stdout",
     "output_type": "stream",
     "text": [
      "3628800\n"
     ]
    }
   ],
   "source": [
    "#코딩해보기 2번\n",
    "# for문을 이용하여 1 부터 10까지 곱한 결과를 출력\n",
    "\n",
    "s = 1\n",
    "for i in range(1,11):\n",
    "    s *= i\n",
    "print(s)"
   ]
  },
  {
   "cell_type": "code",
   "execution_count": 12,
   "id": "2e1b88e7",
   "metadata": {},
   "outputs": [
    {
     "name": "stdout",
     "output_type": "stream",
     "text": [
      "2단\n",
      "2X1 = 2\n",
      "2X2 = 4\n",
      "\n",
      "\n",
      "4단\n",
      "4X1 = 4\n",
      "4X2 = 8\n",
      "4X3 = 12\n",
      "4X4 = 16\n",
      "\n",
      "\n",
      "6단\n",
      "6X1 = 6\n",
      "6X2 = 12\n",
      "6X3 = 18\n",
      "6X4 = 24\n",
      "6X5 = 30\n",
      "6X6 = 36\n",
      "\n",
      "\n",
      "8단\n",
      "8X1 = 8\n",
      "8X2 = 16\n",
      "8X3 = 24\n",
      "8X4 = 32\n",
      "8X5 = 40\n",
      "8X6 = 48\n",
      "8X7 = 56\n",
      "8X8 = 64\n",
      "\n",
      "\n"
     ]
    }
   ],
   "source": [
    "# 코딩해보기 3번\n",
    "# 구구단 짝수 단 출력\n",
    "\n",
    "for i in range(2,9):\n",
    "    if i %2 == 1:\n",
    "        continue\n",
    "    print(f'{i}단')\n",
    "\n",
    "    for j in range(1,i+1):\n",
    "        print(f'{i }X{ j} = {i*j}')\n",
    "    print('\\n')"
   ]
  },
  {
   "cell_type": "code",
   "execution_count": 10,
   "id": "5218f2c0",
   "metadata": {},
   "outputs": [
    {
     "name": "stdout",
     "output_type": "stream",
     "text": [
      "검사대상 아님\n"
     ]
    }
   ],
   "source": [
    "# 코딩해보기 4번\n",
    "\n",
    "year = int(input(\"태어난 년도를 입력하세요.\"))\n",
    "age = 2025-year -1\n",
    "\n",
    "msg = '검사대상' if (year % 2 == 0 and age>=20) or age >=40 else \"검사대상 아님\"\n",
    "print(msg)"
   ]
  },
  {
   "cell_type": "code",
   "execution_count": null,
   "id": "0b97b240",
   "metadata": {},
   "outputs": [],
   "source": []
  }
 ],
 "metadata": {
  "kernelspec": {
   "display_name": ".venv",
   "language": "python",
   "name": "python3"
  },
  "language_info": {
   "codemirror_mode": {
    "name": "ipython",
    "version": 3
   },
   "file_extension": ".py",
   "mimetype": "text/x-python",
   "name": "python",
   "nbconvert_exporter": "python",
   "pygments_lexer": "ipython3",
   "version": "3.13.4"
  }
 },
 "nbformat": 4,
 "nbformat_minor": 5
}
