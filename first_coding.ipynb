{
 "cells": [
  {
   "cell_type": "markdown",
   "id": "1a91f2b7",
   "metadata": {},
   "source": [
    "Markdown = 설명을 입력하는 셀"
   ]
  },
  {
   "cell_type": "code",
   "execution_count": 2,
   "id": "c50e24d0",
   "metadata": {},
   "outputs": [
    {
     "name": "stdout",
     "output_type": "stream",
     "text": [
      "안녕하세요\n"
     ]
    }
   ],
   "source": [
    "print(\"안녕하세요\")"
   ]
  },
  {
   "cell_type": "code",
   "execution_count": null,
   "id": "169f52ce",
   "metadata": {},
   "outputs": [
    {
     "data": {
      "text/plain": [
       "140735085134256"
      ]
     },
     "execution_count": 6,
     "metadata": {},
     "output_type": "execute_result"
    }
   ],
   "source": [
    "name = \"손흥민\"\n",
    "age = 31\n",
    "is_active = True\n",
    "\n",
    "id(name)\n",
    "id(age)\n",
    "id(is_active)"
   ]
  },
  {
   "cell_type": "code",
   "execution_count": 9,
   "id": "1d230d1b",
   "metadata": {},
   "outputs": [
    {
     "name": "stdout",
     "output_type": "stream",
     "text": [
      "<class 'int'>\n",
      "<class 'float'>\n"
     ]
    }
   ],
   "source": [
    "num1 = 10\n",
    "num2 = 3.14\n",
    "print(type(num1))\n",
    "print(type(num2))"
   ]
  },
  {
   "cell_type": "code",
   "execution_count": 10,
   "id": "c263ee3e",
   "metadata": {},
   "outputs": [
    {
     "name": "stdout",
     "output_type": "stream",
     "text": [
      "<class 'str'>\n"
     ]
    }
   ],
   "source": [
    "msg = \"hello\"\n",
    "print(type(msg))"
   ]
  },
  {
   "cell_type": "code",
   "execution_count": 11,
   "id": "f7640bd6",
   "metadata": {},
   "outputs": [
    {
     "name": "stdout",
     "output_type": "stream",
     "text": [
      "\" 여러 줄의\n",
      "문자열을\n",
      "이렇게 쓸 수 \n",
      "있습니다.\n"
     ]
    }
   ],
   "source": [
    "msg2 = \"\"\"\" 여러 줄의\n",
    "문자열을\n",
    "이렇게 쓸 수 \n",
    "있습니다.\"\"\"\n",
    "print(msg2)"
   ]
  },
  {
   "cell_type": "code",
   "execution_count": 13,
   "id": "5b505bd7",
   "metadata": {},
   "outputs": [
    {
     "name": "stdout",
     "output_type": "stream",
     "text": [
      "True <class 'bool'>\n",
      "False <class 'bool'>\n"
     ]
    }
   ],
   "source": [
    "check1 = True\n",
    "check2 = False\n",
    "\n",
    "print(check1, type(check1))\n",
    "print(check2, type(check2))"
   ]
  },
  {
   "cell_type": "code",
   "execution_count": null,
   "id": "0bffeb60",
   "metadata": {},
   "outputs": [
    {
     "name": "stdout",
     "output_type": "stream",
     "text": [
      "PYTHON\n"
     ]
    }
   ],
   "source": [
    "str_a = 'python'\n",
    "str_b = str_a.upper()\n",
    "\n",
    "print(str_b)\n",
    "# .upper() = 대문자로 바꾸기\n",
    "# .lower() = 소문자로 바꾸기"
   ]
  },
  {
   "cell_type": "markdown",
   "id": "7ace0110",
   "metadata": {},
   "source": [
    "len() - 길이 출력\n",
    "in 연산자 - 포함 여부\n",
    "[:] - 인덱싱, 부분 추출\n",
    "count() - 특정 요소 개수\n",
    "index() - 특정 요소 위치\n",
    "upper() - 대문자\n",
    "lower() - 소문자\n",
    "replace() - 특정 문자 바꾸기(치환)\n",
    "split() - 문자열 분리 후 리스트 반환\n",
    "strip() - 양쪽 공백 제거\n",
    "lstrip() - 왼쪽 공백 제거\n",
    "rstrip() - 오른쪽 공백 제거\n",
    "find() - 찾고있는 문자열의 첫 위치 반환(없으면 -1)\n",
    "startswith() - 특정 문자열로 시작하는지 확인(T/F)\n",
    "endswith() - 특정 문자열로 끝나는지 확인(T/F)\n",
    "join() - 해당 문자를 특정 구분자로 연결"
   ]
  },
  {
   "cell_type": "code",
   "execution_count": null,
   "id": "4566da78",
   "metadata": {},
   "outputs": [
    {
     "name": "stdout",
     "output_type": "stream",
     "text": [
      "나이는 25입니다.\n",
      "나이는 25입니다.\n",
      "안녕하세요, 손흥민님!\n",
      "안녕하세요, 손흥민님!\n",
      "이강인의 나이는 22살 입니다.\n",
      "이강인의 나이는 22살 입니다.\n",
      "이강인의 나이는 22살 입니다.\n",
      "백승호의 나이는 26살입니다.\n",
      "5 + 3 = 8\n"
     ]
    }
   ],
   "source": [
    "#인덱싱\n",
    "#포맷팅 / f-string\n",
    "\n",
    "print(\"나이는 %d입니다.\" % 25)\n",
    "print(\"나이는 {}입니다.\".format(25))\n",
    "\n",
    "print(\"안녕하세요, %s님!\" %\"손흥민\")\n",
    "print(\"안녕하세요, {}님!\".format(\"손흥민\"))\n",
    "\n",
    "name = \"이강인\"\n",
    "age = 22\n",
    "print(\"%s의 나이는 %d살 입니다.\" % (name, age))\n",
    "print(\"{}의 나이는 {}살 입니다.\".format(\"이강인\",22))\n",
    "print(\"{0}의 나이는 {1}살 입니다.\".format(\"이강인\",22))\n",
    "\n",
    "#f-string\n",
    "\n",
    "name = \"백승호\"\n",
    "age = 26\n",
    "print(f\"{name}의 나이는 {age}살입니다.\")\n",
    "# 출력: 백승호의 나이는 26살입니다.\n",
    "\n",
    "a = 5\n",
    "b = 3\n",
    "print(f\"{a} + {b} = {a + b}\")"
   ]
  },
  {
   "cell_type": "code",
   "execution_count": null,
   "id": "af6ed570",
   "metadata": {},
   "outputs": [],
   "source": []
  }
 ],
 "metadata": {
  "kernelspec": {
   "display_name": ".venv",
   "language": "python",
   "name": "python3"
  },
  "language_info": {
   "codemirror_mode": {
    "name": "ipython",
    "version": 3
   },
   "file_extension": ".py",
   "mimetype": "text/x-python",
   "name": "python",
   "nbconvert_exporter": "python",
   "pygments_lexer": "ipython3",
   "version": "3.13.4"
  }
 },
 "nbformat": 4,
 "nbformat_minor": 5
}
